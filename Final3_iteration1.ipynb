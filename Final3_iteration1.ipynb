{
 "cells": [
  {
   "cell_type": "code",
   "execution_count": 1,
   "metadata": {},
   "outputs": [],
   "source": [
    "# load modules \n",
    "\n",
    "import numpy as np\n",
    "import pandas as pd\n",
    "import matplotlib.pyplot as plt\n",
    "%matplotlib inline\n",
    "\n",
    "import re\n",
    "import string\n",
    "\n",
    "import nltk\n",
    "from nltk.corpus import stopwords, wordnet\n",
    "from nltk.tokenize import word_tokenize\n",
    "from nltk.stem import WordNetLemmatizer\n",
    "\n",
    "from sklearn.feature_extraction.text import TfidfVectorizer\n"
   ]
  },
  {
   "cell_type": "code",
   "execution_count": 2,
   "metadata": {},
   "outputs": [],
   "source": [
    "#input raw data\n",
    "raw_data = pd.read_json('food_enforcement_US_bacteria.json', orient='records')"
   ]
  },
  {
   "cell_type": "code",
   "execution_count": 3,
   "metadata": {},
   "outputs": [
    {
     "name": "stdout",
     "output_type": "stream",
     "text": [
      "(6104, 26)\n",
      "0    Native Catch Salmon Bacon, Traditional flavor....\n",
      "1    Delish Fruit Burst 10 oz.(283 g)  Enjoy by: 8/...\n",
      "2    Garden Pure Holiday Fruit Bowl 4 lbs (1.81kg) ...\n",
      "3    Fresh Fruit Product is labeled in part:  \"***F...\n",
      "4    Ready Pac¿ Gourmet Fruit Bowl, 64oz , UPC 7774...\n",
      "5    River Ranch brand Diced Grn Cabbage w/Color, 4...\n",
      "6    Sweet and Sour Stir Fry packaged under the fol...\n",
      "7    Onion Slab Cut.  Products are labeled in part:...\n",
      "8    MIX w/yellow onions used as an ingredient.  Pr...\n",
      "9    Fresh n Easy brand Shred Grn Cabbage w/Color, ...\n",
      "Name: product_description, dtype: object\n"
     ]
    }
   ],
   "source": [
    "print(raw_data.shape)\n",
    "print(raw_data.head(10).product_description)"
   ]
  },
  {
   "cell_type": "markdown",
   "metadata": {},
   "source": [
    "### Clean and lemmatize text + TF-IDF vectorize"
   ]
  },
  {
   "cell_type": "code",
   "execution_count": 4,
   "metadata": {},
   "outputs": [],
   "source": [
    "# class objects\n",
    "stops = stopwords.words('english')\n",
    "tfidf = TfidfVectorizer(stop_words = 'english', max_features = 20000)\n",
    "lemmer = WordNetLemmatizer()"
   ]
  },
  {
   "cell_type": "code",
   "execution_count": 5,
   "metadata": {},
   "outputs": [],
   "source": [
    "# add stop words after analysis \n",
    "stops.extend(('oz', 'upc', 'lb', 'bag', 'package', 'net', 'upc', 'gallon', 'pint', 'ml', 'wei', 'plastic', \n",
    "              'com', 'code', 'department', 'wt', 'number', 'industry', 'ia', 'irwindale', 'usa', 'earlier',\n",
    "             'quart', 'august', 'mamaroneck', 'food', 'imp', 'gl', 'sff', 'description', 'gram', 'weight',\n",
    "             'brand', 'label', 'fc', 'ounce', 'ak', 'az', 'ar', 'ca', 'co', 'ct', 'de', 'fl', 'ga', 'hi', 'id', \n",
    "              'il', 'in', 'ia', 'ks', 'ky', 'la', 'me', 'md', 'ma', 'mi', 'mn', 'ms', 'mo', 'mt', 'ne', 'nv', 'nh',\n",
    "              'nj', 'ny', 'nm', 'nc', 'nd', 'oh', 'ok', 'or', 'pa', 'ri', 'sc', 'sd', 'tn', 'tx', 'ut', 'vt', 'va',\n",
    "              'wa', 'wv', 'wi', 'wy', 'item', 'pkgs', 'distribute', 'brooklyn', 'lb', 'jefferson', 'dist',\n",
    "              'beaverton', 'retail', 'determine', 'unable', 'sell', 'snoqualmie', 'gc', 'unit', 'seattle', 'albertson', \n",
    "              'kg','cambridge', 'warrensburg', 'op', 'lg', 'rom', 'bentonville', 'chapel', 'hill', 'swainsboro',\n",
    "              'www', 'iff', 'wei', 'aurora', 'harris', 'bi', 'lo', 'gal', 'qts', 'gh', 'llc','springfield', 'label', \n",
    "              'kg', 'po', 'al', 'birmingham','princeton','dz', 'institutional','mb','pleasanton','wei','richfield'\n",
    "             ))"
   ]
  },
  {
   "cell_type": "code",
   "execution_count": 6,
   "metadata": {},
   "outputs": [],
   "source": [
    "# Define function get_pos\n",
    "# Map POS tag to first character lemmatize() accepts\n",
    "\n",
    "def get_pos(word):\n",
    "        tag = nltk.pos_tag([word])[0][1][0].upper()\n",
    "        tag_dict = {\"J\": wordnet.ADJ,\n",
    "                    \"N\": wordnet.NOUN,\n",
    "                    \"V\": wordnet.VERB,\n",
    "                    \"R\": wordnet.ADV}\n",
    "        return tag_dict.get(tag, wordnet.NOUN)"
   ]
  },
  {
   "cell_type": "code",
   "execution_count": 7,
   "metadata": {},
   "outputs": [],
   "source": [
    "# Define function kleenex\n",
    "# Cleans, lemmatizes, and removes stop words \n",
    "\n",
    "def kleenex(d):\n",
    "    tmp = []\n",
    "    for t in d:\n",
    "        if type(t) == str:\n",
    "            w = re.sub(\"[^A-Za-z]+\", \" \", t) # remove non-letters\n",
    "            w = w.lower() # lower class\n",
    "            w = w.strip() # remove spaces\n",
    "            w = word_tokenize(w) # tokenize words\n",
    "            w = [lemmer.lemmatize(wrd, get_pos(wrd)) for wrd in w if wrd not in stops] #lemmatize word\n",
    "            w = \" \".join(w)\n",
    "            tmp.append(w)\n",
    "        #else:\n",
    "        #    tmp.append(None)\n",
    "    return(tmp)"
   ]
  },
  {
   "cell_type": "code",
   "execution_count": 8,
   "metadata": {},
   "outputs": [],
   "source": [
    "# Build corpus\n",
    "corpus = raw_data['product_description']\n",
    "\n",
    "# Clean Corpus\n",
    "X = kleenex(corpus)"
   ]
  },
  {
   "cell_type": "code",
   "execution_count": 9,
   "metadata": {},
   "outputs": [
    {
     "data": {
      "text/plain": [
       "(6104, 5201)"
      ]
     },
     "execution_count": 9,
     "metadata": {},
     "output_type": "execute_result"
    }
   ],
   "source": [
    "# TF-IDF transformation\n",
    "Xtrans = tfidf.fit_transform(X)\n",
    "\n",
    "# get tf idf feature names \n",
    "words = tfidf.get_feature_names()\n",
    "\n",
    "# tf-idf shape\n",
    "Xtrans.shape\n"
   ]
  },
  {
   "cell_type": "markdown",
   "metadata": {},
   "source": [
    "### fit Kmeans and find optimal number of clusters"
   ]
  },
  {
   "cell_type": "code",
   "execution_count": 14,
   "metadata": {},
   "outputs": [],
   "source": [
    "# fitting K means to view change in Inertia\n",
    "from sklearn.cluster import KMeans\n",
    "from sklearn.metrics import silhouette_score\n",
    "\n",
    "# container to store inertia scores over iterations\n",
    "distortions = []\n",
    "NCs = (10,20,30,40,50,60,70,80,90,100,110,120,130,140,150,160,170,180,190,200)\n",
    "km = {}\n",
    "silhouette_coef = []\n",
    "\n",
    "# fit KMeans iteratively to begin to assess the appropriate number of clusters\n",
    "for i in range(20):\n",
    "    km[i] = KMeans(n_clusters=NCs[i], n_init=20)\n",
    "    km[i].fit(Xtrans)\n",
    "    distortions.append(km[i].inertia_)\n",
    "    score = silhouette_score(Xtrans, km[i].labels_)\n",
    "    silhouette_coef.append(score) "
   ]
  },
  {
   "cell_type": "code",
   "execution_count": 15,
   "metadata": {},
   "outputs": [
    {
     "data": {
      "image/png": "[encoded data removed]",
      "text/plain": [
       "<Figure size 1080x720 with 1 Axes>"
      ]
     },
     "metadata": {},
     "output_type": "display_data"
    }
   ],
   "source": [
    "# vizualize change in inertia\n",
    "plt.style.use('fivethirtyeight')\n",
    "plt.style.use('ggplot')\n",
    "plt.figure(figsize=(15,10))\n",
    "\n",
    "plt.plot(range(20), distortions, marker='o')\n",
    "plt.title('Elbow Method Plot')\n",
    "plt.xlabel('Number of clusters')\n",
    "plt.ylabel('Inertia')\n",
    "plt.xticks(range(20), NCs)\n",
    "plt.show()"
   ]
  },
  {
   "cell_type": "code",
   "execution_count": 16,
   "metadata": {},
   "outputs": [
    {
     "data": {
      "text/plain": [
       "70"
      ]
     },
     "execution_count": 16,
     "metadata": {},
     "output_type": "execute_result"
    }
   ],
   "source": [
    "# locate the elbow\n",
    "\n",
    "from kneed import KneeLocator\n",
    "\n",
    "kl = KneeLocator(NCs, distortions, curve=\"convex\", direction=\"decreasing\")\n",
    "\n",
    "kl.elbow\n"
   ]
  },
  {
   "cell_type": "markdown",
   "metadata": {},
   "source": [
    "### Plot Silhouette score"
   ]
  },
  {
   "cell_type": "code",
   "execution_count": 18,
   "metadata": {},
   "outputs": [
    {
     "data": {
      "image/png": "[encoded data removed]",
      "text/plain": [
       "<Figure size 1080x720 with 1 Axes>"
      ]
     },
     "metadata": {},
     "output_type": "display_data"
    }
   ],
   "source": [
    "\n",
    "plt.figure(figsize=(15,10))\n",
    "\n",
    "plt.plot(range(20), silhouette_coef, marker='o')\n",
    "plt.title('Silhoutte Coefficient Plot')\n",
    "plt.xlabel('Number of Clusters')\n",
    "plt.ylabel('Silhouette Coefficient')\n",
    "plt.xticks(range(20), NCs)\n",
    "plt.show()\n"
   ]
  },
  {
   "cell_type": "markdown",
   "metadata": {},
   "source": [
    "### labels are named with integers and stored in the `labels_` attribute"
   ]
  },
  {
   "cell_type": "code",
   "execution_count": 19,
   "metadata": {},
   "outputs": [
    {
     "data": {
      "text/plain": [
       "array([ 6, 42, 42, ..., 50, 42, 42])"
      ]
     },
     "execution_count": 19,
     "metadata": {},
     "output_type": "execute_result"
    }
   ],
   "source": [
    "km[6].labels_"
   ]
  },
  {
   "cell_type": "markdown",
   "metadata": {},
   "source": [
    "### take a look at one of the cluster results"
   ]
  },
  {
   "cell_type": "code",
   "execution_count": 50,
   "metadata": {},
   "outputs": [
    {
     "name": "stdout",
     "output_type": "stream",
     "text": [
      "Sprouts, Natto Soybean, packed in clear plastic 1.0 lb bags, labeled in part *** Henry's Farm Inc. 5500 Fair Oak Lane, Woodward, VA 22580*** \n",
      "**********\n",
      "Banner Mountain Sprouts;Alfalfa Broccoli Sprouts;  California Certified Organic Sprouts.  100% certified organic seeds used.  Sacramento, Ca 95820.    Net Wt. 4 oz; Rinse and Eat; Perishable, Keep refrigerated.  UPC  4 oz size: 0- 9691172840 9;   \n",
      "**********\n",
      "Banner Mountain Sprouts; Clover Sprouts:  California Certified Organic Sprouts.  100% certified organic seeds used.  Sacramento, Ca 95820.    Net Wt. 4 oz and 1 lb containers; Rinse and Eat; Perishable, Keep refrigerated.  UPC  4 oz size: 0- 96911 72843 0;   UPC - 1 lb size: 0 96911 72851 5.\n",
      "**********\n",
      "Sprouts, Soybean, packed in clear plastic 1.0 lb and 1.5 lb. bags, labeled in part *** Henry's Farm Inc. 5500 Fair Oak Lane, Woodward, VA 22580*** and also bulk packaged in unlabeled 10 lb black plastic bags.\n",
      "**********\n",
      "Organic traditions SPROUTED FLAX SEED POWDER, NET WT. 8 oz/227g, UPC 854260006261 --- The product is packed in a sealed flexible plastic bag.\n",
      "**********\n",
      "Organic traditions SPROUTED CHIA & FLAX SEED POWDER, NET WT. 8 oz./227g (UPC barcode 854260006216), and NET WT. 16oz./454g bag (UPC barcode 85426000547) --- The product is packed in a sealed flexible plastic bag.\n",
      "**********\n",
      "Banner Mountain Sprouts; Sprout Salad:  Alfalfa, Peas, Garbanzo, Adzuki, Lentil, Clover, Radish;   California Certified Organic Sprouts.  100% certified organic seeds used.  Sacramento, Ca 95820.    Net Wt. 4 oz; Rinse and Eat; Perishable, Keep refrigerated.  UPC  4 oz size: 0- 96911 72846 1;   \n",
      "**********\n",
      "Product is labeled in part:  \"***LEASA Living Alfalfa Sprouts***CHOLESTEROL FREE***PRESERVATIVE FREE***KEEP REFRIGERATED***NET WT. 6 OZ. (168 g)***\"         Product is packaged in 6 oz clear plastic containers with UPC 75465-55912.  UPC Code and expiration date are located on the side of the container.\n",
      "**********\n",
      "Banner Mountain Sprouts;Alfalfa Sprouts;  California Certified Organic Sprouts.  100% certified organic seeds used.  Sacramento, Ca 95820.    Net Wt. 4 oz; 1 lb and 2 lb packages.  Rinse and Eat; Perishable, Keep refrigerated.  UPC  4 oz size: 0- 9691172842 3;   UPC  1 lb size: 0 96911 72850 8\n",
      "**********\n",
      "Banner Mountain Sprouts;Zesty Greens - Clover, Radish; California Certified Organic Sprouts.  100% certified organic seeds used.  Sacramento, Ca 95820.    Net Wt. 4 oz; Rinse and Eat; Perishable, Keep refrigerated.  UPC  4 oz size: 0- 96911 72845 4;   \n",
      "**********\n",
      "Fresh Select Brussels Sprouts, 6x8oz, 9x12oz.  Item # 22986, 22707, UPC 0 11110 91610  5, 7 09351 32222 8.\n",
      "**********\n",
      "Sprouts Tahini Butter, 16 oz, UPC 874875004322.\n",
      "**********\n",
      "SooNyeoWon Soybean Sprouts (5 lbs., 10 lbs., and 16-ounce packages - all packaged in plastic bags). 16-oz bag UPC 0 28346 07121 8; Manna Organics Inc. 170 Avenue 'L', Newark, NJ 07105; MSB West, LLC 622 South Anderson Street, Los Angeles, CA 90023\n",
      "**********\n",
      "SooNyeoWon Healthy Soybean Sprouts, 16 ounce package; Manna Organics Inc. 170 Avenue 'L', Newark, NJ 07105; MSB West, LLC 622 South Anderson Street, Los Angeles, CA 90023  \n",
      "**********\n",
      "Bean Sprouts:  Keep Refrigerated: Ingredients: Mung Beans  Net WT: 10 lbs (4.54 KG);  Alfred Louis Inc., Bakersfield, CA 93309  Product of the USA.  UPC 00000 20001\n",
      "**********\n",
      "3 Bean Munchies sprouts is a mixture of Green Peas, Cow Peas, Red Lentils and Garbanzo Beans.  Product is packaged in a 4 oz clamshell container and sold under the Sprouters Northwest brand.  Product has UPC 8 15098 00204 7.      The 3 Bean Munchies sprouts, 4 oz., is labeled in parts: \"***3 BEAN MUNCHIES***a blend of sprouts from green peas, cow peas, red and green lentils, and adzuki beans***KEEP REFRIGERATED***NET WT. 4.0 oz.***DISTRIBUTED BY: SPROUTERS NORTHWEST, INC.,  KENT, WA 98032***www.SproutersNorwthest***\".      \n",
      "**********\n",
      "Brocco sprouts is broccoli sprouts, packaged in a 4 oz. clamshell container or 85 gram package.      The Brocco sprouts, 4oz., distributed BRASSICA, has UPC 8 15098 00025;  The Brocco sprouts, 85 gram, produced for LIFE FORCE, has UPC  8 51042 00400 2.    The Brocco sprouts, 4oz, is labeled in parts: \"***BROCCO SPROUTS***broccoli sprouts***Keep Refrigerated***NET WT. 4.0 oz.***DISTRIBUTED BY: BRASSICA PROTECTION PRODUCTS LLC, BALTIMORE, MD 21224***Growers***Sprouters Northwest (Kent, WA)***www.BroccoSprouts.com***\".      The LifeForce, 85 gram, is labeled in parts: \"***BROCCO SPROUTS***broccoli sprouts***Keep Refrigerated***NET WT 85 g***PRODUCED FOR: LIFE FORCE FOODS LLC, BALTIMORE, MD 21202***www.BroccoSprouts.com***\".\n",
      "**********\n",
      "Mung Bean sprouts is packaged in a 8 oz clamshell container or 5 lb. bag and sold under the Sprouters Northwest or Life Force brand.      The Life Force foods, 8 oz,  has UPC 8 15098 00107 1;  The Sprouters Northwest, 5 lb., has UPC 0 33383 70258 2.      The Life Force foods, 8 oz., is labeled in parts: \"***MUNG BEAN SPROUTS***KEEP REFRIGERATED***NET WT. 4 OZ.***MANUFACTURED FOR: BRASSICA SPROUT GROUP, BALTIMORE, MD 21202***www.broccosprouts.com***\".      The Sprouters Northwest, 5 lb., is labeled in parts: \"***BEAN SPROUTS***KEEP REFRIGERATED***NET WT. 5 LBS***Sprouters NORTHWEST***KENT, WA 98032***\".\n",
      "**********\n",
      "Brocco Sprouts Sandwich Blend, packaged in a 4 oz. clamshell container, the UPC is 8 15098 00028 9.     The product is labeled in parts: \"***BROCCO SPROUTS SANDWICH BLEND***broccoli & clover sprouts***NET WT. 4.0 oz***DISTRIBUTED BY: BRASSICA PROTECTION PRODUCTS LLC, BALTIMORE, MD 21224***www.BroccoSprouts.com***\"Growers***Sprouters Northwest (Kent, WA)***\".       \n",
      "**********\n",
      "Spicy Sprouts, packaged in a 4 oz. clamshell container or 85 gram package.  The product is sold under Sprouters Northwest or LifeForce brand.    The Sprouters Northwest, 4 oz., has UPC is 8 15098 00202 3.   The LifeForce, 85 gram, has  UPC 8 51042 00401 9.    The Sprouters Northwest, 4 oz., is labeled in parts: \"***SPICY SPROUTS***a blend of clover and radish sprouts***Sprouters NORTHWEST, INC.***KEEP REFRIGERATED***NET WT. 4.0 oz.***DISTRIBUTED BY: SPROUTERS NORTHWEST, INC., KENT, WA 98032***SproutersNorthwest.com***\".    The LifeForce, 85 gram, is labeled in parts: \"***SPICY SPROUTS***a blend of clover and radish sprouts***LifeForce***KEEP REFRIGERATED***NET WT 85g***PRODUCED FOR: LIFE FORCE FOODS LLC, BALTIMORE, MD 21202***www.BroccoSprouts.com***\".          \n",
      "**********\n",
      "Alfalfa sprouts, packaged in a 4 oz. clamshell container or 85 gram package.  Product is sold under Sprouters Northwest or LifeForce brand.    The Sprouters Northwest, 4oz., has UPC 8 15098 00108 8;  The LifeForce, 85 gram, has UPC  8 51042 00402 6.    The Sprouters Northwest, 4oz, is labeled in parts: \"***ALFALFA SPROUTS***Sprouters NORTHWEST****KEEP REFRIGERATED***NET WT. 4.0 oz.***DISTRIBUTED BY: SPROUTERS NORTHWEST, KENT, WA 98032***www.SproutersNorthwest.com***\".    The LifeForce, 85 gram, is labeled in parts: \"***ALFALFA SPROUTS***LifeForce foods***KEEP REFRIGERATED***NET WT 85g***PRODUCED FOR: LIFE FORCE FOODS LLC, BALTIMORE, MD 21202***www.BroccoSprouts.com***\".\n",
      "**********\n",
      "Deli sprouts is a mixture of Clover, Fenugreek, Lentils, an Radish sprouts.  Product is packaged in a 4 oz. or 5 oz clamshell container. Product is sold under the Sprouters Northwest brand.      The Deli sprouts, 4 oz., has UPC 8 79566 12305 4.  The Deli sprouts, 5 oz.,  as UPC  0 79566 12360 7.    The Deli sprouts, 4 oz., is labeled in parts: \"***DELI SPROUTS***INGREDIENTS: CLOVER, FENUGREEK, LENTILS, AND RADISH***KEEP REFRIGERATED***NET WT. 4.0 oz.***DISTRIBUTED BY: SPROUTERS NORTHWEST, INC.,  KENT, WA 98032***www.SproutersNorwthest***\".      The Deli sprouts, 5 oz., is labeled in parts: \"***DELI***INGREDIENTS: CLOVER, FENUGREEK, LENTILS, AND RADISH***KEEP REFRIGERATED***NET WT. 5 oz.***Sprouters NORTHWEST, INC.  KENT, WA 98032***\".\n",
      "**********\n",
      "Soy Bean Sprouts:  Keep Refrigerated: Ingredients:Soy Beans  Net WT: 5 lbs (2.27 KG);  Alfred Louis Inc., Bakersfield, CA 93309  Product of the USA.  \n",
      "**********\n",
      "Clover sprouts, product is packaged in a 4 oz or 5 oz. clamshell containers, and 1 lb. bag or 2 lb. tray.  Product is sold under brand Sprouters Northwest.    Clover Sprouts, 4oz container, has a UPC 8 15098 00201 6;  Clover Sprouts, 5oz container, has a UPC 0 33383 70235 3;  Clover Sprouts, 1 lb bag, has a UPC 0 79566 12351 5;  Clover Sprouts, 2 lb tray, has a UPC 0 79566 12351 5;    The Clover Sprouts, 4 oz., Sprouters Northwest brand is labeled in parts: \"***CLOVER SPROUTS***Sprouters NORTHWEST***NET WT 4.0 oz***KEEP REFRIGERATED***DISTRIBUTED BY: SPROUTERS NORTHWEST, KENT, WA 98032***www.SproutersNorthwest.com***\".      The Clover Sprouts, 5 oz., Sprouters Northwest brand is labeled in parts: \"***CLOVER ***Sprouters NORTHWEST, INC. KENT, WA 98032***NET WT 5.0 oz***KEEP REFRIGERATED***\".      The Clover Sprouts, 1 LB., Sprouters Northwest brand is labeled in parts: \"***CLOVER SPROUTS***NET WT. 1 LB***KEEP REFRIGERATED***Sprouters NORTHWEST, KENT, WA 98032***\".    The Clover Sprouts, 2 LB., Sprouters Northwest brand is labeled in parts: \"***Clover Sprouts***2 lb.*** Sprouters NORTHWEST, KENT, WA 98032***\".      \n",
      "**********\n",
      "ORGANIC TRADITIONS SPROUTED CHIA & FLAX SEED POWDER; NET WT. 8 oz., 16 oz and 50 lbs, UPC 854260006216, item AHM621, UPC 854260005479, item number AHM547 and item number BLK622\n",
      "**********\n",
      "Navitas Naturals Omega Blend Sprouted Smoothie Mix,  8 oz. (227g) package;  Dietary Fiber, Raw, Sprouted.  UPC 858847000314;  Also packaged for Williams Sonoma Omega Smoothie Mixer;  SKU 506436    Navitas Naturals,  Novato, CA\n",
      "**********\n",
      "ORGANIC TRADITIONS SPROUTED CHIA SEED POWDER NET WT. 8 oz. and 16 oz., UPC 854260006162, item number AHM616 and UPC 854260005462, item number AHM546\n",
      "**********\n",
      "Oriya organics  Superfood Protein Medley   Sprouted Chia Seeds Spirulina  Sprouted Brown Rice Protein   Hemp Protein Chlorella  in NET WT. 21.2 OZ. (600 g) white poly bottles  USDA ORGANIC  \n",
      "**********\n",
      "ORGANIC SPROUTED DARK SPROUTED CHIA SEED POWDER BULK; NET WT. 50 lb; item number BLK548\n",
      "**********\n",
      "William & Sonoma Navitas Naturals brand Omega 3  Smoothie Mixer,  8 oz. (227g) package;  Dietary Fiber, Raw, Sprouted.\n",
      "**********\n",
      "Marjon Alfalfa Sprouts, Pre-Washed Ready to Eat: Keep Refrigerated. NET WT. 6/4 oz. packaged in cups and bags; Marjon Specialty Foods, Inc. 3508 Sydney Rd., Plant City, FL 33567 Grown and Packed in the USA. UPC 20077554000231. Used by 7/06/14.\n",
      "**********\n",
      "Marjon Spicy Sprouts, NET WT. 6/6 oz. packaged in bags; Marjon Specialty Foods, Inc. 3508 Sydney Rd., Plant City, FL 33567 Grown and Packed in the USA. UPC 010077554000197. Used by 7/06/14.\n",
      "**********\n",
      "Marjon Kale Sprouts, Keep Refrigerated. NET WT. 6/3 oz. packaged in cups; Marjon Specialty Foods, Inc. 3508 Sydney Rd., Plant City, FL 33567 Grown and Packed in the USA. UPC 20077554000231. Used by 7/06/14.\n",
      "**********\n",
      "Marjon Bean Sprouts, Keep Fresh Zip Lock: Keep Refrigerated. NET WT. 8/8 oz. plastic bag; 5 lb bag and 2/5 Bags; Marjon Specialty Foods, Inc. 3508 Sydney Rd., Plant City, FL 33567 Grown and Packed in the USA. UPC codes: 10077554000012; 0200077554000466; 010077554000463 Used by 06/28/14.\n",
      "**********\n",
      "All bulk (approximately 10 lbs.) black plastic bags of Soy Bean Sprouts. These products are labeled as produced by Henrys¿\"s Farm Inc\n",
      "**********\n",
      "Clear 1 lb packages of Natto Soybean Sprouts. These products are labeled as produced by Henrys Farm Inc.\n",
      "**********\n",
      "Clear 2 lb packages of Bean Sprouts. These products are labeled as distributed by Rhee Bros. Inc. Columbia, MD.\n",
      "**********\n",
      "Soybean Sprouts, net  wt. 1.5 lbs., sold under brand Winter Blossom Bean Sprouts brand. Product is packaged in  plastic bag, multi-colored with orange stripe on top, lower middle portion and at bottom.  The orange & black English and Korea letters on white background on front of bag.  the UPC is 0 94922 55330 0.    Soybean Sprouts, net wt. 5 lbs., sold in clear bag with no label.  There is no UPC for this product.\n",
      "**********\n",
      "1lb mungbean sprouts 15 box (20 bags a box) a week. 10lb mungbean sprouts 30 bag a week.  These products are labeled as produced by Henrys Farm  Inc\n",
      "**********\n",
      "Mungbean Sprouts, net  wt. 0.8 lb., sold under brand Kkot Saem Winter Blossom Bean Sprouts brand. Product is packaged in clear plastic bag with blue letters on white background.  English and Korea letters on front of bag.  The UPC is 1 80036 83737 2.    Mungbean Sprouts, net  wt. 2 lbs., sold under brand Kkot Saem brand.  Product is packaged in clear plastic bag with no label.  The UPC is 0 94922 55334 8.    Mungbean Sprouts, net  wt. 5 lbs., sold under brand Kkot Saem brand.  Product is packaged in clear plastic bag with no label.  The is no UPC for this product.    Mungbean Sprouts, net  wt. 10 lbs., sold under brand Kkot Saem brand.  Product is packaged in clear plastic bag with orange and blue labeling in Korean and English on white background. .  The UPC is 0 94922 55331 7.\n",
      "**********\n",
      "1lb soybean sprouts 30 box (20 bags a box) a week.10lb soybean sprouts 60 bags a week.  These products are labeled as produced by Henrys Farm  Inc  \n",
      "**********\n",
      "SOYBEAN SPROUTS Go-Hang Net Wt. 1 LBS.and 2 LBS.(Keep Refrigerated)  TEL: (972)790-4800 1311LUKEST IRVING. TX.75061 Korean Food Co.; SOYBEAN SPROUTS Go-Hang NET. WT 10 LBS. (KEEP REFRIGERATED) Korean Food Grop 1311 LUKEST IRVING. TX.75061\n",
      "**********\n",
      " Byglands, Non-GMO soybeans for Sprouting in 25KG bags and 1MT tote bags.\n",
      "**********\n",
      "Jack and the Beanstalk Soybean Sprouts and Natto Sprouts;  Packaged in 1 lb., 1.5 lb. and 10 lb. packages. and Natto Soybean sprouts packed in 396 g. plastic bags    \n",
      "**********\n",
      "1-lb, 2-lb and 10-lb bags of Soybean Sprouts in clear plastic bags labeled GOODSEED Soy Bean Sprouts Keep Refrigerated  \n",
      "**********\n",
      "Mung Bean sprouts, 1, 2 & 10-lb clear plastic bags labeled GOODSEED Mung Bean Sprouts, Keep Refrigerated \n",
      "**********\n",
      "1-lb, 2-lb and 10-lb bags of Mung Bean Sprouts in clear plastic bags labeled GOODSEED Mung Bean Sprouts Keep Refrigerated \n",
      "**********\n",
      "Soybean sprouts, 1, 2 & 10-lb clear plastic bags labeled GOODSEED Soy Bean Sprouts Keep Refrigerated\n",
      "**********\n",
      "Earth Exotic Brussels Sprouts   Net. Wt. 8 oz. (227 g)  Net. Wt. 32 oz (2 LBS) 907 g\n",
      "**********\n",
      "Mung bean sprouts packaged in 10 lb., 15 lb., and 30 lb. plastic bags.\n",
      "**********\n",
      "Sweetwater Sprouts 100% Pure Sprouted Alfalfa packaged in the following configurations:     4 oz. plastic bags (UPC 7 56733 00104 2) packed 12 per case;  16 oz. (1 lb.) plastic bags;  and 5 lb. bulk boxes    The product is shipped in cardboard cases labeled with product and lot number. The responsible name on the label is Sweetwater Farms LLC, Inman, KS 67456.\n",
      "**********\n",
      "Sweetwater Sprouts 100% Pure Sprouted Mung Bean packaged in the following configurations:  8 oz. plastic bags packed 10 per case;  16 oz. plastic bags packed  in cases of 5 or 10;  5 lb. bulk case;  10 lb. bulk case.     The product is shipped in cardboard cases labeled with product and lot number. The responsible name on the label is Sweetwater Farms, Inman, KS 67546.\n",
      "**********\n",
      "Sweetwater Sprouts100% Pure Sprouted Clover packaged in plastic bags and shipped in cardboard cases labeled with product, Net Wt. 5 lb. and lot number. The responsible name on the label is Sweetwater Farms, Inman, KS 67546.\n",
      "**********\n",
      "Jack and the Green Sprouts, Alfalfa Sprouts, Net Wt 5 oz (142 g), UPC 7 6324719891 5      Retail:  5 oz clam shell (cup) . Shipping cases hold 12 x 5 oz or 6 x 5 oz clam shells.\n",
      "**********\n",
      "Alfalfa Sprout Product***Germinados Campo Verde***San Sebastian, Puerto Rico\n",
      "**********\n",
      "Jack and the Green Sprouts, Alfalfa & Onion Sprouts, Net Wt 5 oz (142 g),  UPC 7 6324719594 5.      Retail:  5 oz clam shell (cup) . Shipping cases hold 12 x 5 oz or 6 x 5 oz clam shells.\n",
      "**********\n",
      "Jack and the Green Sprouts, Alfalfa & Onion Sprouts, Net Wt 5 oz (142 g),  UPC 7 6324719594 5.      Retail:  5 oz clam shell (cup) . Shipping cases hold 12 x 5 oz or 6 x 5 oz clam shells.\n",
      "**********\n",
      "Brussels Sprouts, Brand O Organic, Net Wt 10 oz, UPC 7989340283  \n",
      "**********\n",
      "Jack and the Green Sprouts, Alfalfa Sprouts, Net Wt 5 oz (142 g), UPC 7 6324719891 5      Retail:  5 oz clam shell (cup) . Shipping cases hold 12 x 5 oz or 6 x 5 oz clam shells.\n",
      "**********\n",
      "5 lb Living Alfalfa Sprouts. One package per case. Distributed by and/or Manufactured by Astec Ltd. dba Sprouts Extraordinaire\n",
      "**********\n",
      "Vegetable products including:   BRUSSELS SPROUTS SLICES   \n",
      "**********\n",
      "HEB Shaved Brussels Sprouts Salad, 10OZ bags;  UPC  - 4122065112\n",
      "**********\n"
     ]
    }
   ],
   "source": [
    "# You should look at all the clusters, but let's look at cluster \"15\" (I chose this arbitrarily; you should look at all of them)\n",
    "\n",
    "n=14\n",
    "cluster=144\n",
    "\n",
    "for i in range(0,len(km[n].labels_)):\n",
    "    if km[n].labels_[i] == cluster:\n",
    "        print(raw_data['product_description'][i])\n",
    "        print('**********')"
   ]
  },
  {
   "cell_type": "markdown",
   "metadata": {},
   "source": [
    "### Examine top 10 common words by cluster"
   ]
  },
  {
   "cell_type": "code",
   "execution_count": 54,
   "metadata": {},
   "outputs": [
    {
     "name": "stdout",
     "output_type": "stream",
     "text": [
      "0 : pack, groove, variety, code, french, cookie, single, gluten, sandwich, free\n",
      "1 : curry, chicken, salad, sell, wrap, right, make, rollup, glass, ppk\n",
      "2 : batch, package, firm, cardboard, tub, container, ice, product, cream, italian\n",
      "3 : carton, case, formula, package, potato, salad, distribute, safeway, counter, sysco\n",
      "4 : cream, ice, gum, husky, milk, half, bulk, lecithin, skim, carrageenan\n",
      "5 : polyethylene, ranch, river, polypropylene, consume, foodservice, product, film, process, best\n",
      "6 : tray, safeway, store, cup, clear, sell, packed, vegetable, dip, veggie\n",
      "7 : sunland, peanut, butter, portales, creamy, produce, organic, crunchy, natural, valencia\n",
      "8 : cabbage, cranberry, walnut, garden, fresh, red, relish, shred, piece, ambrosia\n",
      "9 : frozen, fresh, grade, food, blend, pea, cut, biscuit, bean, green\n",
      "10 : chocolate, asher, milk, cluster, dark, box, almond, coat, flavor, paw\n",
      "11 : smoke, salmon, oyster, vacuum, coho, locate, gnupharma, king, sell, capsule\n",
      "12 : product, package, case, lb, packed, salad, distribute, fresh, frozen, bottle\n",
      "13 : wheel, pound, cheese, package, wedge, sell, lb, half, paper, raw\n",
      "14 : chip, cookie, dough, chocolate, cream, ice, kettle, mint, potato, flavor\n",
      "15 : mfg, ham, cheese, turkey, chicken, wheat, bologna, sub, bun, swiss\n",
      "16 : shipper, total, seal, attach, lb, unit, bueno, cardboard, box, size\n",
      "17 : sell, sorbet, tub, product, lemon, pomegranate, tray, pear, champagne, lime\n",
      "18 : write, print, white, black, yellow, butter, peanut, green, label, red\n",
      "19 : plu, market, peach, food, grill, tart, hsh, fruit, cake, parfait\n",
      "20 : southwestern, pasta, garden, fresh, salad, oregon, season, jarrett, product, organic\n",
      "21 : smoke, salmon, vacuum, slice, cold, refrigerate, atlantic, fish, product, smokehouse\n",
      "22 : potato, salad, fresh, garden, mustard, dairy, product, american, country, reduce\n",
      "23 : almond, maranatha, butter, roast, creamy, organic, crunchy, stir, natural, gram\n",
      "24 : apric, apricot, dice, large, organic, zupan, foodtown, fontina, foo, food\n",
      "25 : onion, yellow, pepper, red, process, green, sliver, veg, lb, slice\n",
      "26 : valencia, sunland, peanut, butter, roast, creamy, crunchy, organic, blanch, raw\n",
      "27 : affixed, flavor, bulk, date, container, label, ice, cream, product, sorbet\n",
      "28 : kroger, supreme, crab, meat, cincinnati, distribute, company, seafood, villa, lobster\n",
      "29 : dice, onion, yellow, lb, bulk, iqf, red, tote, case, pepper\n",
      "30 : peanut, butter, natural, crunchy, value, creamy, organic, cadia, unsalted, sun\n",
      "31 : vanilla, agave, dream, pudding, instant, pie, cappuccino, associate, speedy, grocer\n",
      "32 : wawa, distribute, rigid, tray, mango, fruit, dipper, apple, pineapple, mixed\n",
      "33 : apple, happy, caramel, best, tray, granny, range, individual, smith, useable\n",
      "34 : brown, life, bar, box, millville, letter, scott, nu, aldi, chew\n",
      "35 : cole, slaw, garden, fresh, creamy, homemade, dixie, product, style, country\n",
      "36 : bean, garden, fresh, kidney, couscous, salad, calico, combo, black, product\n",
      "37 : yorgo, clear, hommus, container, food, package, lafayette, sartori, inspiration, refrigerate\n",
      "38 : digit, scale, example, end, publix, price, contain, cake, inch, layer\n",
      "39 : item, scale, refrigerate, merchandise, generate, mobile, denotes, case, meat, single\n",
      "40 : tradition, fine, salad, pasta, potato, product, southwest, bean, cheese, dip\n",
      "41 : mushroom, slice, champ, shrink, stuffed, dole, wrap, white, choice, individual\n",
      "42 : sunflower, kernel, roast, seed, salt, sunopta, crookston, expansion, best, manufacture\n",
      "43 : macaroni, salad, amish, wei, product, lb, fine, cheddar, fresh, tradition\n",
      "44 : splendid, jeni, ice, cream, frozen, individually, bucket, container, packed, size\n",
      "45 : broccoli, carrot, ingredient, statement, declares, cauliflower, frozen, organic, onion, pea\n",
      "46 : mix, fruit, pail, sysco, biscuit, clamshell, autry, southeastern, juice, grape\n",
      "47 : transparent, eagle, giant, hummus, tub, sell, archer, district, package, farm\n",
      "48 : tyme, lipari, old, jack, colby, horn, mini, cheese, pepper, longhorn\n",
      "49 : praeger, dr, sensible, elmwood, burger, park, use, veggie, best, food\n",
      "50 : grate, parmesan, romano, cheese, natural, homestyle, cento, pecorino, import, italian\n",
      "51 : frontier, organic, norway, packet, foil, responsible, certify, simply, line, natural\n",
      "52 : youbar, monterey, bar, park, protein, gluten, free, nutrition, vegan, gmo\n",
      "53 : dip, spinach, dill, taco, product, grandpa, spoon, maggie, artichoke, roundy\n",
      "54 : integrate, service, grain, bun, dog, patty, sandwich, cheese, chicken, beef\n",
      "55 : aspen, hill, garner, dough, cookie, chip, lb, chocolate, sugar, brownie\n",
      "56 : ball, parker, log, overwrap, cheese, film, brand, follow, size, sell\n",
      "57 : sandwich, chicken, box, splendid, mini, paper, panini, frozen, jeni, ice\n",
      "58 : reser, formula, fine, carton, food, case, package, salad, distribute, potato\n",
      "59 : slice, apple, monte, del, enjoy, caramel, pak, dip, best, crunch\n",
      "60 : snack, pak, bar, cup, serve, single, available, sundae, pop, cone\n",
      "61 : code, vacuum, packed, product, cheese, pail, feta, braid, string, package\n",
      "62 : ounce, conte, potato, free, veggie, cheese, twice, cheeseball, tray, fruit\n",
      "63 : cordova, rancho, highway, manufacture, food, garden, essential, chef, raley, mushroom\n",
      "64 : culture, milk, pasteurize, enzyme, roos, cheese, salt, ingredient, kenton, plant\n",
      "65 : pistachio, raw, roast, salt, kernel, natural, shell, aro, bulk, box\n",
      "66 : self, prepared, list, gill, service, chef, product, use, bar, onion\n",
      "67 : nutritional, pp, pack, clear, pic, size, clr, case, nut, black\n",
      "68 : tub, nutritional, piece, pack, clear, size, case, raw, almond, natural\n",
      "69 : farm, archer, taylor, sunridge, dip, product, kit, smyrna, broccoli, cnt\n",
      "70 : basket, gift, napa, david, harry, wine, cabernet, collection, cushman, season\n",
      "71 : spread, cheese, container, bagel, grandpa, fish, rachael, pimento, picnic, smoke\n",
      "72 : oscar, house, smoke, ozs, cheddar, spread, refrigerate, distribute, horseradish, tangy\n",
      "73 : chunk, imperial, sysco, cantaloupe, best, fruit, pail, grape, pineapple, mix\n",
      "74 : sausage, mfg, breakfast, kerry, egg, lot, bun, season, dog, sandwich\n",
      "75 : sockeye, suzy, metal, fish, smoke, chinook, salmon, steelhead, jalapeno, spring\n",
      "76 : preprinted, fully, pic, style, nut, pack, sm, bag, size, case\n",
      "77 : tuna, salad, product, garden, spread, fresh, indonesia, wei, frozen, purchase\n",
      "78 : soup, island, pea, broccoli, mix, noodle, gungo, kerry, vegetable, lot\n",
      "79 : sherbert, bell, blue, naturally, low, fat, orange, rainbow, lime, pineapple\n",
      "80 : lid, snap, parker, brand, follow, pail, size, sell, farm, cup\n",
      "81 : confectionery, coat, asher, white, chocolate, box, lb, haystack, cluster, goody\n",
      "82 : cheddar, mac, cheese, sour, block, goat, milk, dairy, raw, cream\n",
      "83 : egg, salad, devil, potato, garden, fresh, wei, product, deluxe, lb\n",
      "84 : butter, peanut, cup, soynut, chocolate, confection, piece, healthy, glenview, free\n",
      "85 : ossie, rockaway, far, deli, tub, herring, packed, product, pickle, lox\n",
      "86 : super, boku, vitamin, moist, crocker, betty, walmart, product, size, bag\n",
      "87 : creamery, cheese, vulto, unlabeled, relabel, repack, artisanal, handmade, manufacture, wrap\n",
      "88 : lb, packed, bean, black, fish, cake, crab, tausi, pal, size\n",
      "89 : mango, juice, spear, pineapple, medley, delish, walgreens, deerfield, distribute, highway\n",
      "90 : macadamia, nut, raw, mahina, mele, captain, cook, mac, market, big\n",
      "91 : shell, sunland, raw, peanut, bulk, organic, hazelnut, pk, case, clam\n",
      "92 : liter, production, gelato, tray, flavor, label, product, raspberry, chocolate, fudge\n",
      "93 : kit, garden, salad, fresh, product, martin, pasta, broccoli, bake, layer\n",
      "94 : creation, cool, kansa, north, city, case, firm, tray, package, grillers\n",
      "95 : bag, mann, canada, product, package, tray, family, heb, case, shred\n",
      "96 : meal, break, organic, replacement, cheese, shake, stick, bottle, sauce, lb\n",
      "97 : herring, bucket, eat, ready, refrigerate, bulk, label, white, pc, package\n",
      "98 : fruit, brook, cantaloupe, mpls, case, mixed, festival, best, medley, mix\n",
      "99 : bar, carton, protein, chocolate, peanut, bhufit, box, case, butter, individual\n",
      "100 : vanscoy, rapid, cedar, industry, fiesta, salsa, garden, distribute, container, case\n",
      "101 : hummus, sabra, sku, penny, boy, tacoma, chili, garlic, harbor, tomato\n",
      "102 : smoothy, rader, jamba, farm, fusion, pouch, make, start, non, frozen\n",
      "103 : wrap, grassfields, cheese, cut, clear, maytag, blue, tomales, package, cotija\n",
      "104 : italian, cream, ice, comfy, cow, blend, bean, crema, gallon, mcconnell\n",
      "105 : pound, salad, chicken, caesar, potato, meat, dip, pasta, asian, vg\n",
      "106 : pasta, salad, garden, fresh, product, italian, bow, asiago, tie, dairy\n",
      "107 : box, cardboard, palmer, package, candy, pretzel, avocado, product, place, lb\n",
      "108 : ticket, moines, hyvee, label, sale, hy, vee, west, scale, tray\n",
      "109 : cashew, tiny, isle, navitas, cash, nut, roast, butter, cacao, free\n",
      "110 : wild, nw, metal, custom, product, smoke, columbia, sardine, salmon, pacific\n",
      "111 : mechanicsburg, cumberland, creamery, valley, luqman, cheese, dutchland, distribute, homestead, handcraft\n",
      "112 : sell, gelato, ice, cream, flexible, product, mix, bag, clear, tub\n",
      "113 : milk, cheese, bleating, sheep, heart, culture, raw, whimsy, month, salt\n",
      "114 : bar, ambient, storage, outer, packaging, contain, wrap, paper, individually, carton\n",
      "115 : grove, southern, best, date, trail, mix, almond, cranberry, roast, dry\n",
      "116 : tea, pink, paper, carton, ginger, organic, container, ice, cream, tbc\n",
      "117 : wal, mart, walmart, store, formula, deli, carton, distribute, case, marketside\n",
      "118 : garden, fresh, salad, product, base, seafood, broccoli, pudding, bread, chopped\n",
      "119 : count, cucumber, carton, elite, multi, spice, gummies, adult, make, montevideo\n",
      "120 : fruit, cantaloupe, honeydew, ounce, cup, grape, watermelon, pineapple, mango, cantalope\n",
      "121 : advancepierre, glendale, cincinnati, pierre, road, jelly, food, peanut, jamwich, butter\n",
      "122 : dropper, montrose, honeycomb, industry, road, formula, package, expello, kb, im\n",
      "123 : bell, blue, cream, ice, chocolate, vanilla, homemade, cooky, add, cake\n",
      "124 : bell, blue, vanilla, strawberry, yogurt, almond, country, rocky, banana, cobbler\n",
      "125 : kc, nov, date, recall, enrich, flour, production, aug, bleach, expand\n",
      "126 : sell, custard, tub, product, paper, lecithin, soy, carton, chocolate, espresso\n",
      "127 : albacore, tuna, cannery, garibaldi, metal, dungeness, seaworks, sell, belly, salmon\n",
      "128 : potato, salad, wei, grandpa, product, red, amish, german, premium, marsh\n",
      "129 : helados, tapatia, fresno, bar, milk, fruit, cup, bolis, hlt, package\n",
      "130 : vegetable, mixed, frozen, include, teeter, product, blend, organic, fry, mary\n",
      "131 : moon, half, rise, providence, horse, jack, cheese, iron, woodstock, way\n",
      "132 : amy, distribution, petaluma, kitchen, box, lasagna, case, vegetable, canadian, tofu\n",
      "133 : jemima, aunt, pancake, count, toast, waffle, french, mini, lb, blueberry\n",
      "134 : farmer, market, sprout, salsa, arizona, phoenix, exclusively, manufacture, habanero, serrano\n",
      "135 : queso, cheese, soft, fresco, lacteos, martha, pais, chili, santa, latin\n",
      "136 : turkey, favorite, cafe, roll, breast, grain, cheese, knot, integrate, ham\n",
      "137 : herring, seafood, fillet, eat, oil, ready, fresh, refrigerate, container, brine\n",
      "138 : trail, mix, best, date, nature, nut, amport, cranberry, harvest, promise\n",
      "139 : pictsweet, company, bell, distribute, season, vegetable, steam, able, summer, blend\n",
      "140 : salt, vinegar, water, acid, oil, pepper, spice, onion, juice, extract\n",
      "141 : salsa, grandpa, fresh, bean, product, mango, black, roundy, bake, bruschetta\n",
      "142 : chs, hutchinson, ultra, responsible, firm, soy, textured, imitation, protein, package\n",
      "143 : pac, ready, use, date, manufacturing, readypac, fruit, production, batch, platter\n",
      "144 : sprout, bag, bean, soybean, alfalfa, refrigerate, organic, brussels, label, mung\n",
      "145 : wheat, flour, spicetec, contains, seasoning, cranbury, sj, fe, way, soy\n",
      "146 : joe, trader, butter, sell, transparent, peanut, crunchy, organic, hummus, unsalted\n",
      "147 : steakhouse, potato, salad, kit, grandpa, garden, fresh, copperwood, product, orval\n",
      "148 : gm, amrita, bar, energy, protein, chocolate, coconut, maca, oligosporus, indonesianfoodmart\n",
      "149 : organic, spinach, cut, carob, powder, green, columbia, date, frozen, pea\n"
     ]
    }
   ],
   "source": [
    "# Set the top 10 common words in K Means cluster centers \n",
    "common_words = km[14].cluster_centers_.argsort()[:,-1:-11:-1]\n",
    "\n",
    "# print out the results by the 250 clusters \n",
    "for num, centroid in enumerate(common_words):\n",
    "    print(str(num) + ' : ' + ', '.join(words[word] for word in centroid))"
   ]
  },
  {
   "cell_type": "markdown",
   "metadata": {},
   "source": [
    "### Plot histogram to see distribution by labels "
   ]
  },
  {
   "cell_type": "code",
   "execution_count": 53,
   "metadata": {
    "scrolled": true
   },
   "outputs": [
    {
     "data": {
      "image/png": "[encoded data removed]",
      "text/plain": [
       "<Figure size 1080x360 with 1 Axes>"
      ]
     },
     "metadata": {},
     "output_type": "display_data"
    }
   ],
   "source": [
    "plt.figure(figsize=(15,5))\n",
    "\n",
    "plt.hist(km[14].labels_, density=False, bins=150)\n",
    "plt.show()"
   ]
  },
  {
   "cell_type": "markdown",
   "metadata": {},
   "source": [
    "# Summary of Work and Results \n",
    "\n",
    "### Data cleaning and Initial Clustering \n",
    "\n",
    "I first carried out data cleaning of the text by removing stop-words, non-letters and spaces, lower-case trasnforming, tokenizing and then lemmatizing the words for analysis. The corpus was then analyzed with the TFIDFVectorizer from scikit learn. With these features, I carried out KMeans clustering with number of clusters from 2 to up to 400. The result showed that there were no clear elbow in the inertia plot where the inertia rates continue to gradually decrease with the increase in number of clusters. However, with more clusters, the clustering becomes inefficient and impractical for use. \n",
    "\n",
    "After the first pass, I also recongized that there were a number of words that were common but not specifically relevant for the clustering by food categories. These included weight figures such as 'oz', 'lbs' or location and state names and others. Hence, I added these to the stop-word list to remove in the data cleaning stage. \n",
    "\n",
    "### KMeans cluster optimization\n",
    "\n",
    "As for the number of clusters, I decided to find the optimum value from 10 to 200 to make the clusters practical. To check the results, I used the Elbow Plot and Silhoutte Scores to find the optimum number. Based on the KneeLocator, the knee is suggested at 70, which is a managable number of food categories. The clustering result is also quite good with most clusters having coherent grouping of similar food categories. However, there seems to be a cluster that contains a number of non-classified items which is quite large with over 1,500 items. Considering this is almost 25% of the total number of items, I was not fully satisified with 70 clusters. \n",
    "\n",
    "Using the silhoutte coefficient plot, I look at the consistency of the clusters. The plot shows that the silhoutte scores continue to improve overall with the number of clusters up. However, it seems to plateau at around 150 clusters. This also seems to be a more practical number compared to 180 clusters that has a slightly higher silhoutte coefficient, but more clusters to analyze. Hence, I decided to use 150 clusters with n_init=20 for the final KMeans model. \n",
    "\n",
    "### Clustering Results and Examples\n",
    "\n",
    "The clustering using the final model works well with all most all clusters that have cohesive food categories within the clusters. You can see a couple of examples of clusters having cohesive classification. Howver, there does seem to be some overlap between clusters as suggested by the relatively low silhoutte coefficient. For instance, there are a number of ice cream clusters although slightly different by type, product or company, as seen in the top 10 common words per cluster analysis. Other than this, there also continues to be a left-over cluster, where non-classifiable items are dumpped. However, the size the cluster has decreased to around 550 items or so. Looking at the items for this cluster (cluster: 12, below), there does seem to be difficulties in clusters considering that they tend to have very short descriptions and use vague language that are difficult to associate with other clusters. Considering this along with the fact that increasing the cluster number more might not be practical and rather make the clustering un-usable, I would propose to keep the 150 cluster as the final version of this exercise. \n",
    "\n",
    "### Examples of the Clustering Results\n",
    "\n",
    "**Cluster: 0 (Ice Cream type)**\n",
    ">Groove Gluten-Free Dark Chocolate Cookie & French Vanilla Ice Cream Sandwich.  The product is sold in 3 fl. oz. single packs and 6 fl. oz. 2-packs and labeled as Groove.      The UPC codes are 8 52692 00405 3 and  8 52692 00403 9.  \n",
    ">**********\n",
    ">Groove Gluten-Free Dark Chocolate Cookie & French Chocolate Ice Cream Sandwich.  The product is sold in 3 fl. oz. single packs and 6 fl. oz. 2-packs and labeled as Groove.      The UPC codes are 8 52692 00406 0 and 8 52692 00403 2\n",
    ">**********\n",
    ">Chocolate Covered Vanilla Ice Cream Bars packaged under the following brands: 12 packs - Ahold  UPC: 6 88267 03323 5 and different ICB: 6 88267 08587 1, Econo  UPC: 7 08938 00534 9, First Street  UPC: 0 41512 11933 0, Food Club  UPC: 0 36800 78404 8, Giant Eagle  UPC: 0 30034 00329 6, Great Value  UPC: 0 78742 09158 7, Greens  UPC: 0 71441 03131 1, Hagan no ICBs, Hood  UPC: 0 44100 23704 1, Kroger  UPC: 0 11110 57120 5 and Kroger NFA ICBs  UPC: 0 11110 57885 3, Lucerne  UPC: 0 21130 09799 9, Market Basket  UPC: 0 49705 96902 1, Party Treat No ICBs, PIC  no product of ours, Polar Express  Only Variety pack, Price Chopper  UPC: 0 41735 09260 1, Price Rite  UPC: 0 41190 75712 1, Purple Cow  UPC: 7 08820 42754 9, Shoprite  UPC: 0 41190 40126 0, Southern Home  UPC: 6 07880 01147 0, , Stater  UPC: 0 74175 85045 6, Stoneridge  UPC: 0 41130 61333 3, Sundae Shoppe  UPC: 0 41498 17991 5, Tops  UPC: 0 70784 04912 0, United Dairy  UPC: 0 71580 08079 9, Weis  UPC: 0 41497 01042 4, Wellsley Farms   Only Variety pack, Winn Dixie  UPC: 0 21140 27145 7, World s Fair  UPC: 0 51933 67170 6\n",
    "\n",
    "\n",
    "**Cluster: 78 (Soup type)**\n",
    ">Small Soup Vegetable Mix:-(Item #CC4)  Spanish Onions {1/4\" dice), Carrots, Celery  Medium Soup Mix Vegetables (Item #CC5)  Spanish Onions (1/2\" dice), Carrots. Celery  5 lb poly bags  Packed by: Fresh Ideas Co., 18 Bunker Hill Industrial Park, Boston, MA 02129  Item # 00254\n",
    ">**********\n",
    ">#023  Soup Starter\t8 ounces  \n",
    ">**********\n",
    ">CULINARY Creations (brand) CHEESY BROCCOLI SOUP, 3F3080, CONTAINS: 20/2 LB. CHUBS, NET WT. 40 LBS. 91816 KG), DIVERSIFIED FOODS AND SEASONINGS, INC, 1115 N. CAUSEWAY BLVD. STE.200, MANDEVILLE, LA 70471 1-800-835-3374, FOR INSTITUTIONAL USE ONLY,  UPC 00732628330803\n",
    ">**********\n",
    ">Garden-Fresh,\tSoup Mix 3/4\".,\t2/5 lb,..\t\t0 11596 50763 7,\t             10/31/2103 - 11/8/2013;  \n",
    "\n",
    "\n",
    "**Cluster: 144 (Sprouts type)**\n",
    ">Banner Mountain Sprouts; Clover Sprouts:  California Certified Organic Sprouts.  100% certified organic seeds used.  Sacramento, Ca 95820.    Net Wt. 4 oz and 1 lb containers; Rinse and Eat; Perishable, Keep refrigerated.  UPC  4 oz size: 0- 96911 72843 0;   UPC - 1 lb size: 0 96911 72851 5.\n",
    ">**********\n",
    ">Sprouts, Soybean, packed in clear plastic 1.0 lb and 1.5 lb. bags, labeled in part *** Henry's Farm Inc. 5500 Fair Oak Lane, Woodward, VA 22580*** and also bulk packaged in unlabeled 10 lb black plastic bags.\n",
    ">**********\n",
    ">Organic traditions SPROUTED FLAX SEED POWDER, NET WT. 8 oz/227g, UPC 854260006261 --- The product is packed in a sealed flexible plastic bag.\n",
    ">**********\n",
    ">Organic traditions SPROUTED CHIA & FLAX SEED POWDER, NET WT. 8 oz./227g (UPC barcode 854260006216), and NET WT. 16oz./454g bag (UPC barcode 85426000547) --- The product is packed in a sealed flexible plastic bag.\n",
    "\n",
    "\n",
    "**Cluster: 12 (Left-overs)** \n",
    " \n",
    ">UNH Stir Fry: 5 lbs ply bag   Broccoli. Bock Choy. Spanish Onions (1\" x 1\" cut). Celery  Packed by: fresh Ideas Co., 18 Bunker Hill Industrial Park, Boston, MA 02129  Item # 00137\n",
    ">**********\n",
    ">Protein Shots, Orange Sunshine Flavor, 2.9 fl oz (Responsible firm on label: Body Choice Nutrition, Inc., 1595 Peachtree Park Way, Suite 204, Cumming, GA  30041)\n",
    ">**********\n",
    ">ProBalance Protein To Go(TM), Milk Chocolate Shake, Dietary Supplement, Net Wt 2.5 fl oz  (Responsible firm on labeling:  Pro Balance LLC, 4070 Tampa Road, Oldsmar, FL  34677)\n",
    "> **********\n",
    ">ALFALFA SEED, NET WT. 50 LB. International Specialty Supply LLC, Cookeville, TN\n",
    "> **********\n",
    ">Turkey Dripping Type Marinade X1, 50 lb. bags, Manufactured by Newly Weds Foods, Chicago, IL 60639, product G00988 \n"
   ]
  }
 ],
 "metadata": {
  "kernelspec": {
   "display_name": "Python 3",
   "language": "python",
   "name": "python3"
  },
  "language_info": {
   "codemirror_mode": {
    "name": "ipython",
    "version": 3
   },
   "file_extension": ".py",
   "mimetype": "text/x-python",
   "name": "python",
   "nbconvert_exporter": "python",
   "pygments_lexer": "ipython3",
   "version": "3.8.3"
  }
 },
 "nbformat": 4,
 "nbformat_minor": 2
}
