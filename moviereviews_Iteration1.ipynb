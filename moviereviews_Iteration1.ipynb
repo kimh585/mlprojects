{
 "cells": [
  {
   "cell_type": "markdown",
   "metadata": {},
   "source": [
    "# Movie reviews - Final Assignment Iteration #1\n",
    "### Heew Kim | Oct 2020\n",
    "\n",
    "First iteration of the final assignment 1 based on feature modification task "
   ]
  },
  {
   "cell_type": "code",
   "execution_count": 1,
   "metadata": {},
   "outputs": [],
   "source": [
    "# all imports and magic commands\n",
    "import numpy as np\n",
    "import pandas as pd\n",
    "import matplotlib.pyplot as plt\n",
    "from my_measures import BinaryClassificationPerformance\n",
    "from sklearn.feature_extraction.text import HashingVectorizer\n",
    "from sklearn.feature_extraction.text import TfidfTransformer\n",
    "from scipy.sparse import csr_matrix, hstack\n",
    "from sklearn.preprocessing import StandardScaler\n",
    "from sklearn.model_selection import train_test_split\n",
    "%matplotlib inline"
   ]
  },
  {
   "cell_type": "markdown",
   "metadata": {},
   "source": [
    "### IMPORTANT!!! Make sure you are using `BinaryClassificationPerformance` v1.02"
   ]
  },
  {
   "cell_type": "code",
   "execution_count": 2,
   "metadata": {},
   "outputs": [
    {
     "name": "stdout",
     "output_type": "stream",
     "text": [
      "Help on class BinaryClassificationPerformance in module my_measures:\n",
      "\n",
      "class BinaryClassificationPerformance(builtins.object)\n",
      " |  BinaryClassificationPerformance(predictions, labels, desc, probabilities=None)\n",
      " |  \n",
      " |  Performance measures to evaluate the fit of a binary classification model, v1.02\n",
      " |  \n",
      " |  Methods defined here:\n",
      " |  \n",
      " |  __init__(self, predictions, labels, desc, probabilities=None)\n",
      " |      Initialize attributes: predictions-vector of predicted values for Y, labels-vector of labels for Y\n",
      " |  \n",
      " |  compute_measures(self)\n",
      " |      Compute performance measures defined by Flach p. 57\n",
      " |  \n",
      " |  img_indices(self)\n",
      " |      Get the indices of true and false positives to be able to locate the corresponding images in a list of image names\n",
      " |  \n",
      " |  ----------------------------------------------------------------------\n",
      " |  Data descriptors defined here:\n",
      " |  \n",
      " |  __dict__\n",
      " |      dictionary for instance variables (if defined)\n",
      " |  \n",
      " |  __weakref__\n",
      " |      list of weak references to the object (if defined)\n",
      "\n"
     ]
    }
   ],
   "source": [
    "help(BinaryClassificationPerformance)"
   ]
  },
  {
   "cell_type": "markdown",
   "metadata": {},
   "source": [
    "## Original feature building and extraction functions "
   ]
  },
  {
   "cell_type": "code",
   "execution_count": 3,
   "metadata": {},
   "outputs": [],
   "source": [
    "# function that takes raw data and completes all preprocessing required before model fits\n",
    "def process_raw_data(fn, my_random_seed, test=False):\n",
    "    # read and summarize data\n",
    "    movie_data = pd.read_csv(fn, sep='\\t')\n",
    "    print(\"movie_data is:\", type(movie_data))\n",
    "    print(\"movie_data has\", movie_data.shape[0], \"rows and\", movie_data.shape[1], \"columns\", \"\\n\")\n",
    "    print(\"the data types for each of the columns in movie_data:\")\n",
    "    print(movie_data.dtypes, \"\\n\")\n",
    "    print(\"the first 10 rows in movie_data:\")\n",
    "    print(movie_data.head(5))\n",
    "    if (not test):\n",
    "        print(\"The rate of 'good' movie reviews in the dataset: \")\n",
    "        print(movie_data['sentiment'].mean())\n",
    "\n",
    "    # vectorize Bag of Words from review text; as sparse matrix\n",
    "    if (not test): # fit_transform()\n",
    "        hv = HashingVectorizer(n_features=2 ** 17, alternate_sign=False)\n",
    "        X_hv = hv.fit_transform(movie_data.review)\n",
    "        fitted_transformations.append(hv)\n",
    "        print(\"Shape of HashingVectorizer X:\")\n",
    "        print(X_hv.shape)\n",
    "    else: # transform() \n",
    "        X_hv = fitted_transformations[0].transform(movie_data.review)\n",
    "        print(\"Shape of HashingVectorizer X:\")\n",
    "        print(X_hv.shape)\n",
    "    \n",
    "    # http://scikit-learn.org/stable/modules/generated/sklearn.feature_extraction.text.TfidfTransformer.html\n",
    "    if (not test):\n",
    "        transformer = TfidfTransformer()\n",
    "        X_tfidf = transformer.fit_transform(X_hv)\n",
    "        fitted_transformations.append(transformer)\n",
    "    else:\n",
    "        X_tfidf = fitted_transformations[1].transform(X_hv)\n",
    "    \n",
    "    # create additional quantitative features\n",
    "    # features from Amazon.csv to add to feature set\n",
    "    movie_data['word_count'] = movie_data['review'].str.split(' ').str.len()\n",
    "    movie_data['punc_count'] = movie_data['review'].str.count(\"\\.\")\n",
    "\n",
    "    X_quant_features = movie_data[[\"word_count\", \"punc_count\"]]\n",
    "    print(\"Look at a few rows of the new quantitative features: \")\n",
    "    print(X_quant_features.head(10))\n",
    "    \n",
    "    # Combine all quantitative features into a single sparse matrix\n",
    "    X_quant_features_csr = csr_matrix(X_quant_features)\n",
    "    X_combined = hstack([X_tfidf, X_quant_features_csr])\n",
    "    X_matrix = csr_matrix(X_combined) # convert to sparse matrix\n",
    "    print(\"Size of combined bag of words and new quantitative variables matrix:\")\n",
    "    print(X_matrix.shape)\n",
    "    \n",
    "    # Create `X`, scaled matrix of features\n",
    "    # feature scaling\n",
    "    if (not test):\n",
    "        sc = StandardScaler(with_mean=False)\n",
    "        X = sc.fit_transform(X_matrix)\n",
    "        fitted_transformations.append(sc)\n",
    "        print(X.shape)\n",
    "        y = movie_data['sentiment']\n",
    "    else:\n",
    "        X = fitted_transformations[2].transform(X_matrix)\n",
    "        print(X.shape)\n",
    "    \n",
    "    # Create Training and Test Sets\n",
    "    # enter an integer for the random_state parameter; any integer will work\n",
    "    if (test):\n",
    "        X_submission_test = X\n",
    "        print(\"Shape of X_test for submission:\")\n",
    "        print(X_submission_test.shape)\n",
    "        print('SUCCESS!')\n",
    "        return(movie_data, X_submission_test)\n",
    "    else: \n",
    "        X_train, X_test, y_train, y_test, X_raw_train, X_raw_test = train_test_split(X, y, movie_data, test_size=0.2, random_state=my_random_seed)\n",
    "        print(\"Shape of X_train and X_test:\")\n",
    "        print(X_train.shape)\n",
    "        print(X_test.shape)\n",
    "        print(\"Shape of y_train and y_test:\")\n",
    "        print(y_train.shape)\n",
    "        print(y_test.shape)\n",
    "        print(\"Shape of X_raw_train and X_raw_test:\")\n",
    "        print(X_raw_train.shape)\n",
    "        print(X_raw_test.shape)\n",
    "        print('SUCCESS!')\n",
    "        return(X_train, X_test, y_train, y_test, X_raw_train, X_raw_test)"
   ]
  },
  {
   "cell_type": "markdown",
   "metadata": {},
   "source": [
    "## Original training and test sets from function"
   ]
  },
  {
   "cell_type": "code",
   "execution_count": 4,
   "metadata": {},
   "outputs": [
    {
     "name": "stdout",
     "output_type": "stream",
     "text": [
      "movie_data is: <class 'pandas.core.frame.DataFrame'>\n",
      "movie_data has 25000 rows and 3 columns \n",
      "\n",
      "the data types for each of the columns in movie_data:\n",
      "id           object\n",
      "sentiment     int64\n",
      "review       object\n",
      "dtype: object \n",
      "\n",
      "the first 10 rows in movie_data:\n",
      "       id  sentiment                                             review\n",
      "0  5814_8          1  With all this stuff going down at the moment w...\n",
      "1  2381_9          1  \\The Classic War of the Worlds\\\" by Timothy Hi...\n",
      "2  7759_3          0  The film starts with a manager (Nicholas Bell)...\n",
      "3  3630_4          0  It must be assumed that those who praised this...\n",
      "4  9495_8          1  Superbly trashy and wondrously unpretentious 8...\n",
      "The rate of 'good' movie reviews in the dataset: \n",
      "0.5\n",
      "Shape of HashingVectorizer X:\n",
      "(25000, 131072)\n",
      "Look at a few rows of the new quantitative features: \n",
      "   word_count  punc_count\n",
      "0         433          20\n",
      "1         158          16\n",
      "2         378          20\n",
      "3         379           8\n",
      "4         367           9\n",
      "5          89           5\n",
      "6         112           9\n",
      "7         132           9\n",
      "8         163           7\n",
      "9          43           5\n",
      "Size of combined bag of words and new quantitative variables matrix:\n",
      "(25000, 131074)\n",
      "(25000, 131074)\n",
      "Shape of X_train and X_test:\n",
      "(20000, 131074)\n",
      "(5000, 131074)\n",
      "Shape of y_train and y_test:\n",
      "(20000,)\n",
      "(5000,)\n",
      "Shape of X_raw_train and X_raw_test:\n",
      "(20000, 5)\n",
      "(5000, 5)\n",
      "SUCCESS!\n",
      "Number of fits stored in `fitted_transformations` list: \n",
      "3\n"
     ]
    }
   ],
   "source": [
    "# create an empty list to store any use of fit_transform() to transform() later\n",
    "# it is a global list to store model and feature extraction fits\n",
    "fitted_transformations = []\n",
    "\n",
    "# CHANGE FILE PATH and my_random_seed number (any integer other than 74 will do):\n",
    "X_train, X_test, y_train, y_test, X_raw_train, X_raw_test = process_raw_data(fn='/Users/heewoong.kim/Documents/GitHub/ml/ProjectDataset/moviereviews_train.tsv', my_random_seed=99)\n",
    "\n",
    "print(\"Number of fits stored in `fitted_transformations` list: \")\n",
    "print(len(fitted_transformations))"
   ]
  },
  {
   "cell_type": "markdown",
   "metadata": {},
   "source": [
    "## Fit (and tune) Various Models"
   ]
  },
  {
   "cell_type": "markdown",
   "metadata": {},
   "source": [
    "### MODEL: ordinary least squares"
   ]
  },
  {
   "cell_type": "code",
   "execution_count": 5,
   "metadata": {},
   "outputs": [
    {
     "name": "stdout",
     "output_type": "stream",
     "text": [
      "OLS train model performance:\n",
      "{'Pos': 9988, 'Neg': 10012, 'TP': 5337, 'TN': 4555, 'FP': 5457, 'FN': 4651, 'Accuracy': 0.4946, 'Precision': 0.4944413563090606, 'Recall': 0.5343412094513416, 'desc': 'ols_train'}\n",
      "* * * * *\n",
      "OLS test model performance:\n",
      "{'Pos': 2512, 'Neg': 2488, 'TP': 1421, 'TN': 1046, 'FP': 1442, 'FN': 1091, 'Accuracy': 0.4934, 'Precision': 0.4963325183374083, 'Recall': 0.5656847133757962, 'desc': 'ols_test'}\n"
     ]
    }
   ],
   "source": [
    "from sklearn import linear_model\n",
    "ols = linear_model.SGDClassifier(loss=\"squared_loss\")\n",
    "ols.fit(X_train, y_train)\n",
    "\n",
    "#Train set\n",
    "ols_performance_train = BinaryClassificationPerformance(ols.predict(X_train), y_train, 'ols_train')\n",
    "ols_performance_train.compute_measures()\n",
    "print('OLS train model performance:')\n",
    "print(ols_performance_train.performance_measures)\n",
    "\n",
    "print('* * * * *')\n",
    "\n",
    "#Test set\n",
    "ols_performance_test = BinaryClassificationPerformance(ols.predict(X_test), y_test, 'ols_test')\n",
    "ols_performance_test.compute_measures()\n",
    "print('OLS test model performance:')\n",
    "print(ols_performance_test.performance_measures)"
   ]
  },
  {
   "cell_type": "markdown",
   "metadata": {},
   "source": [
    "### MODEL: SVM, linear"
   ]
  },
  {
   "cell_type": "code",
   "execution_count": 6,
   "metadata": {},
   "outputs": [
    {
     "name": "stdout",
     "output_type": "stream",
     "text": [
      "SVM train model performance:\n",
      "{'Pos': 9988, 'Neg': 10012, 'TP': 9988, 'TN': 10012, 'FP': 0, 'FN': 0, 'Accuracy': 1.0, 'Precision': 1.0, 'Recall': 1.0, 'desc': 'svm_train'}\n",
      "* * * * *\n",
      "SVM test model performance:\n",
      "{'Pos': 2512, 'Neg': 2488, 'TP': 2119, 'TN': 2044, 'FP': 444, 'FN': 393, 'Accuracy': 0.8326, 'Precision': 0.8267655091689426, 'Recall': 0.8435509554140127, 'desc': 'svm_test'}\n"
     ]
    }
   ],
   "source": [
    "from sklearn import linear_model\n",
    "svm = linear_model.SGDClassifier()\n",
    "svm.fit(X_train, y_train)\n",
    "\n",
    "svm_performance_train = BinaryClassificationPerformance(svm.predict(X_train), y_train, 'svm_train')\n",
    "svm_performance_train.compute_measures()\n",
    "print('SVM train model performance:')\n",
    "print(svm_performance_train.performance_measures)\n",
    "\n",
    "print('* * * * *')\n",
    "\n",
    "svm_performance_test = BinaryClassificationPerformance(svm.predict(X_test), y_test, 'svm_test')\n",
    "svm_performance_test.compute_measures()\n",
    "print('SVM test model performance:')\n",
    "print(svm_performance_test.performance_measures)"
   ]
  },
  {
   "cell_type": "markdown",
   "metadata": {},
   "source": [
    "### MODEL: logistic regression"
   ]
  },
  {
   "cell_type": "code",
   "execution_count": 7,
   "metadata": {},
   "outputs": [
    {
     "name": "stdout",
     "output_type": "stream",
     "text": [
      "Log Reg train model performance:\n",
      "{'Pos': 9988, 'Neg': 10012, 'TP': 9988, 'TN': 10012, 'FP': 0, 'FN': 0, 'Accuracy': 1.0, 'Precision': 1.0, 'Recall': 1.0, 'desc': 'lgs_train'}\n",
      "* * * * *\n",
      "Log Reg test model performance:\n",
      "{'Pos': 2512, 'Neg': 2488, 'TP': 2141, 'TN': 2049, 'FP': 439, 'FN': 371, 'Accuracy': 0.838, 'Precision': 0.82984496124031, 'Recall': 0.8523089171974523, 'desc': 'lgs_test'}\n"
     ]
    }
   ],
   "source": [
    "from sklearn import linear_model\n",
    "lgs = linear_model.SGDClassifier(loss='log')\n",
    "lgs.fit(X_train, y_train)\n",
    "\n",
    "lgs_performance_train = BinaryClassificationPerformance(lgs.predict(X_train), y_train, 'lgs_train')\n",
    "lgs_performance_train.compute_measures()\n",
    "print('Log Reg train model performance:')\n",
    "print(lgs_performance_train.performance_measures)\n",
    "\n",
    "print('* * * * *')\n",
    "\n",
    "lgs_performance_test = BinaryClassificationPerformance(lgs.predict(X_test), y_test, 'lgs_test')\n",
    "lgs_performance_test.compute_measures()\n",
    "print('Log Reg test model performance:')\n",
    "print(lgs_performance_test.performance_measures)"
   ]
  },
  {
   "cell_type": "markdown",
   "metadata": {},
   "source": [
    "### MODEL: Naive Bayes"
   ]
  },
  {
   "cell_type": "code",
   "execution_count": 8,
   "metadata": {
    "scrolled": true
   },
   "outputs": [
    {
     "name": "stdout",
     "output_type": "stream",
     "text": [
      "Naive Bayes train model performance:\n",
      "{'Pos': 9988, 'Neg': 10012, 'TP': 9581, 'TN': 9851, 'FP': 161, 'FN': 407, 'Accuracy': 0.9716, 'Precision': 0.9834736193800041, 'Recall': 0.9592511013215859, 'desc': 'nbs_train'}\n",
      "* * * * *\n",
      "Naive Bayes test model performance:\n",
      "{'Pos': 2512, 'Neg': 2488, 'TP': 1854, 'TN': 1828, 'FP': 660, 'FN': 658, 'Accuracy': 0.7364, 'Precision': 0.7374701670644391, 'Recall': 0.7380573248407644, 'desc': 'nbs_test'}\n"
     ]
    }
   ],
   "source": [
    "from sklearn.naive_bayes import MultinomialNB\n",
    "nbs = MultinomialNB()\n",
    "nbs.fit(X_train, y_train)\n",
    "\n",
    "nbs_performance_train = BinaryClassificationPerformance(nbs.predict(X_train), y_train, 'nbs_train')\n",
    "nbs_performance_train.compute_measures()\n",
    "print('Naive Bayes train model performance:')\n",
    "print(nbs_performance_train.performance_measures)\n",
    "\n",
    "print('* * * * *')\n",
    "\n",
    "nbs_performance_test = BinaryClassificationPerformance(nbs.predict(X_test), y_test, 'nbs_test')\n",
    "nbs_performance_test.compute_measures()\n",
    "print('Naive Bayes test model performance:')\n",
    "print(nbs_performance_test.performance_measures)"
   ]
  },
  {
   "cell_type": "markdown",
   "metadata": {},
   "source": [
    "### MODEL: Perceptron"
   ]
  },
  {
   "cell_type": "code",
   "execution_count": 9,
   "metadata": {},
   "outputs": [
    {
     "name": "stdout",
     "output_type": "stream",
     "text": [
      "{'Pos': 9988, 'Neg': 10012, 'TP': 9988, 'TN': 10012, 'FP': 0, 'FN': 0, 'Accuracy': 1.0, 'Precision': 1.0, 'Recall': 1.0, 'desc': 'prc_train'}\n",
      "* * * * *\n",
      "{'Pos': 2512, 'Neg': 2488, 'TP': 2114, 'TN': 2054, 'FP': 434, 'FN': 398, 'Accuracy': 0.8336, 'Precision': 0.8296703296703297, 'Recall': 0.8415605095541401, 'desc': 'prc_test'}\n"
     ]
    }
   ],
   "source": [
    "from sklearn import linear_model\n",
    "prc = linear_model.SGDClassifier(loss='perceptron')\n",
    "prc.fit(X_train, y_train)\n",
    "\n",
    "prc_performance_train = BinaryClassificationPerformance(prc.predict(X_train), y_train, 'prc_train')\n",
    "prc_performance_train.compute_measures()\n",
    "print(prc_performance_train.performance_measures)\n",
    " \n",
    "print('* * * * *')\n",
    "\n",
    "prc_performance_test = BinaryClassificationPerformance(prc.predict(X_test), y_test, 'prc_test')\n",
    "prc_performance_test.compute_measures()\n",
    "print(prc_performance_test.performance_measures)"
   ]
  },
  {
   "cell_type": "markdown",
   "metadata": {},
   "source": [
    "### MODEL: Ridge Regression Classifier"
   ]
  },
  {
   "cell_type": "code",
   "execution_count": 10,
   "metadata": {},
   "outputs": [
    {
     "name": "stdout",
     "output_type": "stream",
     "text": [
      "{'Pos': 9988, 'Neg': 10012, 'TP': 9988, 'TN': 10012, 'FP': 0, 'FN': 0, 'Accuracy': 1.0, 'Precision': 1.0, 'Recall': 1.0, 'desc': 'rdg_train'}\n",
      "* * * * * \n",
      "{'Pos': 2512, 'Neg': 2488, 'TP': 2060, 'TN': 1978, 'FP': 510, 'FN': 452, 'Accuracy': 0.8076, 'Precision': 0.8015564202334631, 'Recall': 0.8200636942675159, 'desc': 'rdg_test'}\n"
     ]
    }
   ],
   "source": [
    "from sklearn import linear_model\n",
    "rdg = linear_model.RidgeClassifier()\n",
    "rdg.fit(X_train, y_train)\n",
    "\n",
    "rdg_performance_train = BinaryClassificationPerformance(rdg.predict(X_train), y_train, 'rdg_train')\n",
    "rdg_performance_train.compute_measures()\n",
    "print(rdg_performance_train.performance_measures)\n",
    "\n",
    "print('* * * * * ')\n",
    "\n",
    "rdg_performance_test = BinaryClassificationPerformance(rdg.predict(X_test), y_test, 'rdg_test')\n",
    "rdg_performance_test.compute_measures()\n",
    "print(rdg_performance_test.performance_measures)"
   ]
  },
  {
   "cell_type": "markdown",
   "metadata": {},
   "source": [
    "### MODEL: Random Forest Classifier"
   ]
  },
  {
   "cell_type": "code",
   "execution_count": 11,
   "metadata": {},
   "outputs": [
    {
     "name": "stdout",
     "output_type": "stream",
     "text": [
      "{'Pos': 9988, 'Neg': 10012, 'TP': 8431, 'TN': 6955, 'FP': 3057, 'FN': 1557, 'Accuracy': 0.7693, 'Precision': 0.7338962395543176, 'Recall': 0.8441129355226271, 'desc': 'rdf_train'}\n",
      "* * * * *\n",
      "{'Pos': 2512, 'Neg': 2488, 'TP': 2105, 'TN': 1722, 'FP': 766, 'FN': 407, 'Accuracy': 0.7654, 'Precision': 0.733194009056078, 'Recall': 0.8379777070063694, 'desc': 'rdf_test'}\n"
     ]
    }
   ],
   "source": [
    "from sklearn.ensemble import RandomForestClassifier\n",
    "rdf = RandomForestClassifier(max_depth=2, random_state=0)\n",
    "rdf.fit(X_train, y_train)\n",
    "\n",
    "rdf_performance_train = BinaryClassificationPerformance(rdf.predict(X_train), y_train, 'rdf_train')\n",
    "rdf_performance_train.compute_measures()\n",
    "print(rdf_performance_train.performance_measures)\n",
    "\n",
    "print('* * * * *')\n",
    "\n",
    "rdf_performance_test = BinaryClassificationPerformance(rdf.predict(X_test), y_test, 'rdf_test')\n",
    "rdf_performance_test.compute_measures()\n",
    "print(rdf_performance_test.performance_measures)"
   ]
  },
  {
   "cell_type": "markdown",
   "metadata": {},
   "source": [
    "### ROC plot to compare performance of various models and fits"
   ]
  },
  {
   "cell_type": "code",
   "execution_count": 12,
   "metadata": {
    "scrolled": false
   },
   "outputs": [
    {
     "data": {
      "image/png": "[encoded data removed]",
      "text/plain": [
       "<Figure size 1080x432 with 2 Axes>"
      ]
     },
     "metadata": {},
     "output_type": "display_data"
    }
   ],
   "source": [
    "fits = [ols_performance_train, svm_performance_train, lgs_performance_train, nbs_performance_train, prc_performance_train, rdg_performance_train, rdf_performance_train]\n",
    "fits1 = [ols_performance_test, svm_performance_test, lgs_performance_test, nbs_performance_test, prc_performance_test, rdg_performance_test, rdf_performance_test]\n",
    "\n",
    "plt.style.use('ggplot')\n",
    "plt.figure(figsize=(15,6))\n",
    "\n",
    "plt.subplot(1, 2, 1)\n",
    "for fit in fits:\n",
    "    plt.plot(fit.performance_measures['FP'] / fit.performance_measures['Neg'], \n",
    "             fit.performance_measures['TP'] / fit.performance_measures['Pos'], 'bo')\n",
    "    plt.text(fit.performance_measures['FP'] / fit.performance_measures['Neg'], \n",
    "             fit.performance_measures['TP'] / fit.performance_measures['Pos'], fit.desc)\n",
    "plt.axis([0, 1, 0, 1])\n",
    "plt.title('ROC plot: test set')\n",
    "plt.xlabel('False positive rate')\n",
    "plt.ylabel('True positive rate')\n",
    "\n",
    "plt.subplot(1, 2, 2)\n",
    "for fit in fits1:\n",
    "    plt.plot(fit.performance_measures['FP'] / fit.performance_measures['Neg'], \n",
    "             fit.performance_measures['TP'] / fit.performance_measures['Pos'], 'bo')\n",
    "    plt.text(fit.performance_measures['FP'] / fit.performance_measures['Neg'], \n",
    "             fit.performance_measures['TP'] / fit.performance_measures['Pos'], fit.desc)\n",
    "plt.axis([0, 1, 0, 1])\n",
    "plt.title('ROC plot: test set')\n",
    "plt.xlabel('False positive rate')\n",
    "plt.ylabel('True positive rate')\n",
    "\n",
    "plt.show()"
   ]
  },
  {
   "cell_type": "markdown",
   "metadata": {},
   "source": [
    "## MODIFIED feature building and extraction functions "
   ]
  },
  {
   "cell_type": "code",
   "execution_count": 13,
   "metadata": {},
   "outputs": [],
   "source": [
    "# function that takes raw data and completes all preprocessing required before model fits\n",
    "def process_raw_data_modified(fn, my_random_seed, test=False):\n",
    "    # read and summarize data\n",
    "    movie_data = pd.read_csv(fn, sep='\\t')\n",
    "    print(\"movie_data is:\", type(movie_data))\n",
    "    print(\"movie_data has\", movie_data.shape[0], \"rows and\", movie_data.shape[1], \"columns\", \"\\n\")\n",
    "    print(\"the data types for each of the columns in movie_data:\")\n",
    "    print(movie_data.dtypes, \"\\n\")\n",
    "    print(\"the first 10 rows in movie_data:\")\n",
    "    print(movie_data.head(5))\n",
    "    if (not test):\n",
    "        print(\"The rate of 'good' movie reviews in the dataset: \")\n",
    "        print(movie_data['sentiment'].mean())\n",
    "\n",
    "    # vectorize Bag of Words from review text; as sparse matrix; added uni- & bigrams; deleted stopwords\n",
    "    if (not test): # fit_transform()\n",
    "        hv = HashingVectorizer(n_features=2 ** 16, ngram_range = (1,2), alternate_sign=False)\n",
    "        X_hv = hv.fit_transform(movie_data.review)\n",
    "        fitted_transformations.append(hv)\n",
    "        print(\"Shape of HashingVectorizer X:\")\n",
    "        print(X_hv.shape)\n",
    "    else: # transform() \n",
    "        X_hv = fitted_transformations[0].transform(movie_data.review)\n",
    "        print(\"Shape of HashingVectorizer X:\")\n",
    "        print(X_hv.shape)\n",
    "    \n",
    "    # http://scikit-learn.org/stable/modules/generated/sklearn.feature_extraction.text.TfidfTransformer.html\n",
    "    if (not test):\n",
    "        transformer = TfidfTransformer()\n",
    "        X_tfidf = transformer.fit_transform(X_hv)\n",
    "        fitted_transformations.append(transformer)\n",
    "    else:\n",
    "        X_tfidf = fitted_transformations[1].transform(X_hv)\n",
    "    \n",
    "    # create additional quantitative features\n",
    "    # features from Amazon.csv to add to feature set\n",
    "    movie_data['word_count'] = movie_data['review'].str.split(' ').str.len()\n",
    "    movie_data['punc_count'] = movie_data['review'].str.count(\"\\.\")\n",
    "\n",
    "    X_quant_features = movie_data[[\"word_count\", \"punc_count\"]]\n",
    "    print(\"Look at a few rows of the new quantitative features: \")\n",
    "    print(X_quant_features.head(10))\n",
    "    \n",
    "    # Combine all quantitative features into a single sparse matrix\n",
    "    X_quant_features_csr = csr_matrix(X_quant_features)\n",
    "    X_combined = hstack([X_tfidf, X_quant_features_csr])\n",
    "    X_matrix = csr_matrix(X_combined) # convert to sparse matrix\n",
    "    print(\"Size of combined bag of words and new quantitative variables matrix:\")\n",
    "    print(X_matrix.shape)\n",
    "    \n",
    "    # Create `X`, scaled matrix of features\n",
    "    # feature scaling\n",
    "    if (not test):\n",
    "        sc = StandardScaler(with_mean=False)\n",
    "        X = sc.fit_transform(X_matrix)\n",
    "        fitted_transformations.append(sc)\n",
    "        print(X.shape)\n",
    "        y = movie_data['sentiment']\n",
    "    else:\n",
    "        X = fitted_transformations[2].transform(X_matrix)\n",
    "        print(X.shape)\n",
    "    \n",
    "    # Create Training and Test Sets\n",
    "    # enter an integer for the random_state parameter; any integer will work\n",
    "    if (test):\n",
    "        X_submission_test = X\n",
    "        print(\"Shape of X_test for submission:\")\n",
    "        print(X_submission_test.shape)\n",
    "        print('SUCCESS!')\n",
    "        return(movie_data, X_submission_test)\n",
    "    else: \n",
    "        X_train, X_test, y_train, y_test, X_raw_train, X_raw_test = train_test_split(X, y, movie_data, test_size=0.2, random_state=my_random_seed)\n",
    "        print(\"Shape of X_train and X_test:\")\n",
    "        print(X_train.shape)\n",
    "        print(X_test.shape)\n",
    "        print(\"Shape of y_train and y_test:\")\n",
    "        print(y_train.shape)\n",
    "        print(y_test.shape)\n",
    "        print(\"Shape of X_raw_train and X_raw_test:\")\n",
    "        print(X_raw_train.shape)\n",
    "        print(X_raw_test.shape)\n",
    "        print('SUCCESS!')\n",
    "        return(X_train, X_test, y_train, y_test, X_raw_train, X_raw_test)"
   ]
  },
  {
   "cell_type": "markdown",
   "metadata": {},
   "source": [
    "## MODIFIED training and test sets from function"
   ]
  },
  {
   "cell_type": "code",
   "execution_count": 14,
   "metadata": {},
   "outputs": [
    {
     "name": "stdout",
     "output_type": "stream",
     "text": [
      "movie_data is: <class 'pandas.core.frame.DataFrame'>\n",
      "movie_data has 25000 rows and 3 columns \n",
      "\n",
      "the data types for each of the columns in movie_data:\n",
      "id           object\n",
      "sentiment     int64\n",
      "review       object\n",
      "dtype: object \n",
      "\n",
      "the first 10 rows in movie_data:\n",
      "       id  sentiment                                             review\n",
      "0  5814_8          1  With all this stuff going down at the moment w...\n",
      "1  2381_9          1  \\The Classic War of the Worlds\\\" by Timothy Hi...\n",
      "2  7759_3          0  The film starts with a manager (Nicholas Bell)...\n",
      "3  3630_4          0  It must be assumed that those who praised this...\n",
      "4  9495_8          1  Superbly trashy and wondrously unpretentious 8...\n",
      "The rate of 'good' movie reviews in the dataset: \n",
      "0.5\n",
      "Shape of HashingVectorizer X:\n",
      "(25000, 65536)\n",
      "Look at a few rows of the new quantitative features: \n",
      "   word_count  punc_count\n",
      "0         433          20\n",
      "1         158          16\n",
      "2         378          20\n",
      "3         379           8\n",
      "4         367           9\n",
      "5          89           5\n",
      "6         112           9\n",
      "7         132           9\n",
      "8         163           7\n",
      "9          43           5\n",
      "Size of combined bag of words and new quantitative variables matrix:\n",
      "(25000, 65538)\n",
      "(25000, 65538)\n",
      "Shape of X_train and X_test:\n",
      "(20000, 65538)\n",
      "(5000, 65538)\n",
      "Shape of y_train and y_test:\n",
      "(20000,)\n",
      "(5000,)\n",
      "Shape of X_raw_train and X_raw_test:\n",
      "(20000, 5)\n",
      "(5000, 5)\n",
      "SUCCESS!\n",
      "Number of fits stored in `fitted_transformations` list: \n",
      "3\n"
     ]
    }
   ],
   "source": [
    "# create an empty list to store any use of fit_transform() to transform() later\n",
    "# it is a global list to store model and feature extraction fits\n",
    "fitted_transformations = []\n",
    "\n",
    "# CHANGE FILE PATH and my_random_seed number (any integer other than 74 will do):\n",
    "X_train, X_test, y_train, y_test, X_raw_train, X_raw_test = process_raw_data_modified(fn='/Users/heewoong.kim/Documents/GitHub/ml/ProjectDataset/moviereviews_train.tsv', my_random_seed=99)\n",
    "\n",
    "print(\"Number of fits stored in `fitted_transformations` list: \")\n",
    "print(len(fitted_transformations))"
   ]
  },
  {
   "cell_type": "markdown",
   "metadata": {},
   "source": [
    "## Fit (and tune) Various Models"
   ]
  },
  {
   "cell_type": "markdown",
   "metadata": {},
   "source": [
    "### MODEL: ordinary least squares"
   ]
  },
  {
   "cell_type": "code",
   "execution_count": 15,
   "metadata": {},
   "outputs": [
    {
     "name": "stdout",
     "output_type": "stream",
     "text": [
      "OLS train model performance:\n",
      "{'Pos': 9988, 'Neg': 10012, 'TP': 5405, 'TN': 4320, 'FP': 5692, 'FN': 4583, 'Accuracy': 0.48625, 'Precision': 0.487068577092908, 'Recall': 0.5411493792551061, 'desc': 'ols_train_m'}\n",
      "* * * * *\n",
      "OLS test model performance:\n",
      "{'Pos': 2512, 'Neg': 2488, 'TP': 1517, 'TN': 951, 'FP': 1537, 'FN': 995, 'Accuracy': 0.4936, 'Precision': 0.49672560576293384, 'Recall': 0.6039012738853503, 'desc': 'ols_test_m'}\n",
      "* * * * *\n",
      "Compare Modified & Original feature models accuracy (Modified - Original); Train & Test\n",
      "-0.008349999999999969\n",
      "0.00019999999999997797\n"
     ]
    }
   ],
   "source": [
    "from sklearn import linear_model\n",
    "ols = linear_model.SGDClassifier(loss=\"squared_loss\")\n",
    "ols.fit(X_train, y_train)\n",
    "\n",
    "#Train set\n",
    "ols_performance_train_m = BinaryClassificationPerformance(ols.predict(X_train), y_train, 'ols_train_m')\n",
    "ols_performance_train_m.compute_measures()\n",
    "print('OLS train model performance:')\n",
    "print(ols_performance_train_m.performance_measures)\n",
    "\n",
    "print('* * * * *')\n",
    "\n",
    "#Test set\n",
    "ols_performance_test_m = BinaryClassificationPerformance(ols.predict(X_test), y_test, 'ols_test_m')\n",
    "ols_performance_test_m.compute_measures()\n",
    "print('OLS test model performance:')\n",
    "print(ols_performance_test_m.performance_measures)\n",
    "\n",
    "print('* * * * *')\n",
    "\n",
    "#compare with original feature function\n",
    "print('Compare Modified & Original feature models accuracy (Modified - Original); Train & Test')\n",
    "print(ols_performance_train_m.performance_measures['Accuracy'] - ols_performance_train.performance_measures['Accuracy'])\n",
    "print(ols_performance_test_m.performance_measures['Accuracy'] - ols_performance_test.performance_measures['Accuracy'])"
   ]
  },
  {
   "cell_type": "markdown",
   "metadata": {},
   "source": [
    "### MODEL: SVM, linear"
   ]
  },
  {
   "cell_type": "code",
   "execution_count": 16,
   "metadata": {},
   "outputs": [
    {
     "name": "stdout",
     "output_type": "stream",
     "text": [
      "SVM train model performance:\n",
      "{'Pos': 9988, 'Neg': 10012, 'TP': 9988, 'TN': 10012, 'FP': 0, 'FN': 0, 'Accuracy': 1.0, 'Precision': 1.0, 'Recall': 1.0, 'desc': 'svm_train_m'}\n",
      "* * * * *\n",
      "SVM test model performance:\n",
      "{'Pos': 2512, 'Neg': 2488, 'TP': 2107, 'TN': 2096, 'FP': 392, 'FN': 405, 'Accuracy': 0.8406, 'Precision': 0.8431372549019608, 'Recall': 0.8387738853503185, 'desc': 'svm_test_m'}\n",
      "* * * * *\n",
      "Compare Modified & Original feature models accuracy (Modified - Original); Train & Test\n",
      "0.0\n",
      "0.008000000000000007\n"
     ]
    }
   ],
   "source": [
    "from sklearn import linear_model\n",
    "svm = linear_model.SGDClassifier()\n",
    "svm.fit(X_train, y_train)\n",
    "\n",
    "svm_performance_train_m = BinaryClassificationPerformance(svm.predict(X_train), y_train, 'svm_train_m')\n",
    "svm_performance_train_m.compute_measures()\n",
    "print('SVM train model performance:')\n",
    "print(svm_performance_train_m.performance_measures)\n",
    "\n",
    "print('* * * * *')\n",
    "\n",
    "svm_performance_test_m = BinaryClassificationPerformance(svm.predict(X_test), y_test, 'svm_test_m')\n",
    "svm_performance_test_m.compute_measures()\n",
    "print('SVM test model performance:')\n",
    "print(svm_performance_test_m.performance_measures)\n",
    "\n",
    "print('* * * * *')\n",
    "\n",
    "#compare with original feature function\n",
    "print('Compare Modified & Original feature models accuracy (Modified - Original); Train & Test')\n",
    "print(svm_performance_train_m.performance_measures['Accuracy'] - svm_performance_train.performance_measures['Accuracy'])\n",
    "print(svm_performance_test_m.performance_measures['Accuracy'] - svm_performance_test.performance_measures['Accuracy'])"
   ]
  },
  {
   "cell_type": "markdown",
   "metadata": {},
   "source": [
    "### MODEL: logistic regression"
   ]
  },
  {
   "cell_type": "code",
   "execution_count": 17,
   "metadata": {},
   "outputs": [
    {
     "name": "stdout",
     "output_type": "stream",
     "text": [
      "Log Reg train model performance:\n",
      "{'Pos': 9988, 'Neg': 10012, 'TP': 9988, 'TN': 10012, 'FP': 0, 'FN': 0, 'Accuracy': 1.0, 'Precision': 1.0, 'Recall': 1.0, 'desc': 'lgs_train_m'}\n",
      "* * * * *\n",
      "Log Reg test model performance:\n",
      "{'Pos': 2512, 'Neg': 2488, 'TP': 2073, 'TN': 2081, 'FP': 407, 'FN': 439, 'Accuracy': 0.8308, 'Precision': 0.8358870967741936, 'Recall': 0.8252388535031847, 'desc': 'lgs_test_m'}\n",
      "* * * * *\n",
      "Compare Modified & Original feature models accuracy (Modified - Original); Train & Test\n",
      "0.0\n",
      "-0.007199999999999984\n"
     ]
    }
   ],
   "source": [
    "from sklearn import linear_model\n",
    "lgs = linear_model.SGDClassifier(loss='log')\n",
    "lgs.fit(X_train, y_train)\n",
    "\n",
    "lgs_performance_train_m = BinaryClassificationPerformance(lgs.predict(X_train), y_train, 'lgs_train_m')\n",
    "lgs_performance_train_m.compute_measures()\n",
    "print('Log Reg train model performance:')\n",
    "print(lgs_performance_train_m.performance_measures)\n",
    "\n",
    "print('* * * * *')\n",
    "\n",
    "lgs_performance_test_m = BinaryClassificationPerformance(lgs.predict(X_test), y_test, 'lgs_test_m')\n",
    "lgs_performance_test_m.compute_measures()\n",
    "print('Log Reg test model performance:')\n",
    "print(lgs_performance_test_m.performance_measures)\n",
    "\n",
    "print('* * * * *')\n",
    "\n",
    "#compare with original feature function\n",
    "print('Compare Modified & Original feature models accuracy (Modified - Original); Train & Test')\n",
    "print(lgs_performance_train_m.performance_measures['Accuracy'] - lgs_performance_train.performance_measures['Accuracy'])\n",
    "print(lgs_performance_test_m.performance_measures['Accuracy'] - lgs_performance_test.performance_measures['Accuracy'])"
   ]
  },
  {
   "cell_type": "markdown",
   "metadata": {},
   "source": [
    "### MODEL: Naive Bayes"
   ]
  },
  {
   "cell_type": "code",
   "execution_count": 24,
   "metadata": {},
   "outputs": [
    {
     "name": "stdout",
     "output_type": "stream",
     "text": [
      "Naive Bayes train model performance:\n",
      "{'Pos': 9988, 'Neg': 10012, 'TP': 9659, 'TN': 9685, 'FP': 327, 'FN': 329, 'Accuracy': 0.9672, 'Precision': 0.9672541558181454, 'Recall': 0.9670604725670805, 'desc': 'nbs_train_m'}\n",
      "* * * * *\n",
      "Naive Bayes test model performance:\n",
      "{'Pos': 2512, 'Neg': 2488, 'TP': 2146, 'TN': 2085, 'FP': 403, 'FN': 366, 'Accuracy': 0.8462, 'Precision': 0.8418987838367987, 'Recall': 0.8542993630573248, 'desc': 'nbs_test_m'}\n",
      "* * * * *\n",
      "Compare Modified & Original feature models accuracy (Modified - Original); Train & Test\n",
      "-0.0044000000000000705\n",
      "0.1097999999999999\n"
     ]
    }
   ],
   "source": [
    "from sklearn.naive_bayes import MultinomialNB\n",
    "nbs = MultinomialNB()\n",
    "nbs.fit(X_train, y_train)\n",
    "\n",
    "nbs_performance_train_m = BinaryClassificationPerformance(nbs.predict(X_train), y_train, 'nbs_train_m')\n",
    "nbs_performance_train_m.compute_measures()\n",
    "print('Naive Bayes train model performance:')\n",
    "print(nbs_performance_train_m.performance_measures)\n",
    "\n",
    "print('* * * * *')\n",
    "\n",
    "nbs_performance_test_m = BinaryClassificationPerformance(nbs.predict(X_test), y_test, 'nbs_test_m')\n",
    "nbs_performance_test_m.compute_measures()\n",
    "print('Naive Bayes test model performance:')\n",
    "print(nbs_performance_test_m.performance_measures)\n",
    "\n",
    "print('* * * * *')\n",
    "\n",
    "#compare with original feature function\n",
    "print('Compare Modified & Original feature models accuracy (Modified - Original); Train & Test')\n",
    "print(nbs_performance_train_m.performance_measures['Accuracy'] - nbs_performance_train.performance_measures['Accuracy'])\n",
    "print(nbs_performance_test_m.performance_measures['Accuracy'] - nbs_performance_test.performance_measures['Accuracy'])"
   ]
  },
  {
   "cell_type": "markdown",
   "metadata": {},
   "source": [
    "### MODEL: Perceptron"
   ]
  },
  {
   "cell_type": "code",
   "execution_count": 19,
   "metadata": {},
   "outputs": [
    {
     "name": "stdout",
     "output_type": "stream",
     "text": [
      "{'Pos': 9988, 'Neg': 10012, 'TP': 9988, 'TN': 10012, 'FP': 0, 'FN': 0, 'Accuracy': 1.0, 'Precision': 1.0, 'Recall': 1.0, 'desc': 'prc_train_m'}\n",
      "* * * * *\n",
      "{'Pos': 2512, 'Neg': 2488, 'TP': 2107, 'TN': 2089, 'FP': 399, 'FN': 405, 'Accuracy': 0.8392, 'Precision': 0.840782122905028, 'Recall': 0.8387738853503185, 'desc': 'prc_test_m'}\n"
     ]
    }
   ],
   "source": [
    "from sklearn import linear_model\n",
    "prc = linear_model.SGDClassifier(loss='perceptron')\n",
    "prc.fit(X_train, y_train)\n",
    "\n",
    "prc_performance_train_m = BinaryClassificationPerformance(prc.predict(X_train), y_train, 'prc_train_m')\n",
    "prc_performance_train_m.compute_measures()\n",
    "print(prc_performance_train_m.performance_measures)\n",
    " \n",
    "print('* * * * *')\n",
    "\n",
    "prc_performance_test_m = BinaryClassificationPerformance(prc.predict(X_test), y_test, 'prc_test_m')\n",
    "prc_performance_test_m.compute_measures()\n",
    "print(prc_performance_test_m.performance_measures)"
   ]
  },
  {
   "cell_type": "markdown",
   "metadata": {},
   "source": [
    "### MODEL: Ridge Regression Classifier"
   ]
  },
  {
   "cell_type": "code",
   "execution_count": 20,
   "metadata": {},
   "outputs": [
    {
     "name": "stdout",
     "output_type": "stream",
     "text": [
      "{'Pos': 9988, 'Neg': 10012, 'TP': 9988, 'TN': 10012, 'FP': 0, 'FN': 0, 'Accuracy': 1.0, 'Precision': 1.0, 'Recall': 1.0, 'desc': 'rdg_train_m'}\n",
      "* * * * * \n",
      "{'Pos': 2512, 'Neg': 2488, 'TP': 2115, 'TN': 2078, 'FP': 410, 'FN': 397, 'Accuracy': 0.8386, 'Precision': 0.8376237623762376, 'Recall': 0.8419585987261147, 'desc': 'rdg_test_m'}\n"
     ]
    }
   ],
   "source": [
    "from sklearn import linear_model\n",
    "rdg = linear_model.RidgeClassifier()\n",
    "rdg.fit(X_train, y_train)\n",
    "\n",
    "rdg_performance_train_m = BinaryClassificationPerformance(rdg.predict(X_train), y_train, 'rdg_train_m')\n",
    "rdg_performance_train_m.compute_measures()\n",
    "print(rdg_performance_train_m.performance_measures)\n",
    "\n",
    "print('* * * * * ')\n",
    "\n",
    "rdg_performance_test_m = BinaryClassificationPerformance(rdg.predict(X_test), y_test, 'rdg_test_m')\n",
    "rdg_performance_test_m.compute_measures()\n",
    "print(rdg_performance_test_m.performance_measures)"
   ]
  },
  {
   "cell_type": "markdown",
   "metadata": {},
   "source": [
    "### MODEL: Random Forest Classifier"
   ]
  },
  {
   "cell_type": "code",
   "execution_count": 21,
   "metadata": {},
   "outputs": [
    {
     "name": "stdout",
     "output_type": "stream",
     "text": [
      "{'Pos': 9988, 'Neg': 10012, 'TP': 8211, 'TN': 7639, 'FP': 2373, 'FN': 1777, 'Accuracy': 0.7925, 'Precision': 0.7757936507936508, 'Recall': 0.8220865038045655, 'desc': 'rdf_train_m'}\n",
      "* * * * *\n",
      "{'Pos': 2512, 'Neg': 2488, 'TP': 2057, 'TN': 1873, 'FP': 615, 'FN': 455, 'Accuracy': 0.786, 'Precision': 0.7698353293413174, 'Recall': 0.8188694267515924, 'desc': 'rdf_test_m'}\n"
     ]
    }
   ],
   "source": [
    "from sklearn.ensemble import RandomForestClassifier\n",
    "rdf = RandomForestClassifier(max_depth=2, random_state=0)\n",
    "rdf.fit(X_train, y_train)\n",
    "\n",
    "rdf_performance_train_m = BinaryClassificationPerformance(rdf.predict(X_train), y_train, 'rdf_train_m')\n",
    "rdf_performance_train_m.compute_measures()\n",
    "print(rdf_performance_train_m.performance_measures)\n",
    "\n",
    "print('* * * * *')\n",
    "\n",
    "rdf_performance_test_m = BinaryClassificationPerformance(rdf.predict(X_test), y_test, 'rdf_test_m')\n",
    "rdf_performance_test_m.compute_measures()\n",
    "print(rdf_performance_test_m.performance_measures)"
   ]
  },
  {
   "cell_type": "code",
   "execution_count": 22,
   "metadata": {},
   "outputs": [
    {
     "data": {
      "image/png": "[encoded data removed]",
      "text/plain": [
       "<Figure size 1008x432 with 2 Axes>"
      ]
     },
     "metadata": {},
     "output_type": "display_data"
    }
   ],
   "source": [
    "#compare models for modified and original features \n",
    "\n",
    "fits = [ols_performance_train, ols_performance_train_m, svm_performance_train, svm_performance_train_m, \n",
    "        lgs_performance_train, lgs_performance_train_m, nbs_performance_train, nbs_performance_train_m, \n",
    "        prc_performance_train, prc_performance_train_m, rdg_performance_train, rdg_performance_train_m, \n",
    "        rdf_performance_train, rdf_performance_train_m]\n",
    "fits2 = [ols_performance_test, ols_performance_test_m, svm_performance_test, svm_performance_test_m, \n",
    "        lgs_performance_test, lgs_performance_test_m, nbs_performance_test, nbs_performance_test_m,\n",
    "        prc_performance_test, prc_performance_test_m, rdg_performance_test, rdg_performance_test_m, \n",
    "        rdf_performance_test, rdf_performance_test_m]\n",
    "\n",
    "\n",
    "plt.figure(figsize=(14,6))\n",
    "\n",
    "plt.subplot(1, 2, 1)\n",
    "for fit in fits:\n",
    "    plt.barh(fit.desc, fit.performance_measures['Accuracy'], color=['tab:blue'])\n",
    "    plt.title('Compare Model Accuracy - Train set')\n",
    "\n",
    "plt.subplot(1, 2, 2)\n",
    "for fit in fits2:\n",
    "    plt.barh(fit.desc, fit.performance_measures['Accuracy'], color=['tab:green'])\n",
    "    plt.title('Compare Model Accuracy - Test set')\n",
    "    \n",
    "plt.tight_layout()\n",
    "plt.show()"
   ]
  },
  {
   "cell_type": "markdown",
   "metadata": {},
   "source": [
    "### ROC plot to compare performance of various models and fits"
   ]
  },
  {
   "cell_type": "code",
   "execution_count": 23,
   "metadata": {
    "scrolled": false
   },
   "outputs": [
    {
     "data": {
      "image/png": "[encoded data removed]",
      "text/plain": [
       "<Figure size 1080x432 with 2 Axes>"
      ]
     },
     "metadata": {},
     "output_type": "display_data"
    }
   ],
   "source": [
    "fits = [ols_performance_train_m, svm_performance_train_m, lgs_performance_train_m, nbs_performance_train_m, prc_performance_train_m, rdg_performance_train_m, rdf_performance_train_m]\n",
    "fits1 = [ols_performance_test_m, svm_performance_test_m, lgs_performance_test_m, nbs_performance_test_m, prc_performance_test_m, rdg_performance_test_m, rdf_performance_test_m]\n",
    "\n",
    "plt.style.use('ggplot')\n",
    "plt.figure(figsize=(15,6))\n",
    "\n",
    "plt.subplot(1, 2, 1)\n",
    "\n",
    "for fit in fits:\n",
    "    plt.plot(fit.performance_measures['FP'] / fit.performance_measures['Neg'], \n",
    "             fit.performance_measures['TP'] / fit.performance_measures['Pos'], 'bo')\n",
    "    plt.text(fit.performance_measures['FP'] / fit.performance_measures['Neg'], \n",
    "             fit.performance_measures['TP'] / fit.performance_measures['Pos'], fit.desc)\n",
    "plt.axis([0, 1, 0, 1])\n",
    "plt.title('ROC plot: test set')\n",
    "plt.xlabel('False positive rate')\n",
    "plt.ylabel('True positive rate')\n",
    "\n",
    "plt.subplot(1, 2, 2)\n",
    "for fit in fits1:\n",
    "    plt.plot(fit.performance_measures['FP'] / fit.performance_measures['Neg'], \n",
    "             fit.performance_measures['TP'] / fit.performance_measures['Pos'], 'bo')\n",
    "    plt.text(fit.performance_measures['FP'] / fit.performance_measures['Neg'], \n",
    "             fit.performance_measures['TP'] / fit.performance_measures['Pos'], fit.desc)\n",
    "plt.axis([0, 1, 0, 1])\n",
    "plt.title('ROC plot: test set')\n",
    "plt.xlabel('False positive rate')\n",
    "plt.ylabel('True positive rate')\n",
    "\n",
    "plt.show()"
   ]
  },
  {
   "cell_type": "markdown",
   "metadata": {},
   "source": [
    "### looking at reviews based on their classification\n",
    "\n",
    "Select Naive Bayes model using the modified features code. "
   ]
  },
  {
   "cell_type": "code",
   "execution_count": 25,
   "metadata": {},
   "outputs": [],
   "source": [
    "nbs_predictions = nbs.predict(X_train)"
   ]
  },
  {
   "cell_type": "markdown",
   "metadata": {},
   "source": [
    "### let's look at some false positives:"
   ]
  },
  {
   "cell_type": "code",
   "execution_count": 26,
   "metadata": {},
   "outputs": [
    {
     "name": "stdout",
     "output_type": "stream",
     "text": [
      "Examples of false positives:\n",
      "197\n",
      "This cowardly and offensive film had me intrigued to begin with. The characters are the familiar dispossessed young males frequently to be seen hanging around bored in a sea side town. Robert is an outsider but he has his music which could have been his soul. Instead Clay makes Robert into a freak who embarks on a journey into cannabis and ecstasy and getting in with the wrong crowd. Clay seems to believe in \\reefer madness\\\" and Robert ends the film as a homicidal rapist. One wonders how much experience of real life this young director has. No one can save poor Robert. Clay leaves us with the message that young British men are out of control. A very unsubtle link is made to the Iraqi insurgents; during the needlessly graphic rape we are subjected to explosions and images of war. The film shows male peer group extremism pushed to it's limits. The young bombers in London draw a parallel with Clay's hateful depiction of modern male. Clay implies that men simply cannot help themselves from inflicting terrible acts of violence. It is a wonder the British film industry allows money to be invested in films which advocate such divisive propaganda, when in London we are still reeling from the recent attacks. This is Clay's first film, I would be delighted if it is his last.\"\n",
      "* * * * * * * * * \n",
      "389\n",
      "The script is nice.Though the casting is absolutely non-watchable.No style. the costumes do not look like some from the High Highbury society. Comparing Gwyneth Paltrow with Kate Beckinsale I can only say that Ms. Beckinsale speaks British English better than Ms. Paltrow, though in Ms. Paltrow's acting lies the very nature of Emma Woodhouse. Mr. Northam undoubtedly is the best Mr. Knightley of all versions, he is romantic and not at all sharp-looking and unfeeling like Mr. Knightley in the TV-version. P.S.The spectator cannot see at all Mr. Elton-Ms. Smith relationship's development as it was in the motion version, so one cannot understand where was all Emma's trying of make a Elton-Smith match (besides of the portrait).\n",
      "* * * * * * * * * \n",
      "1574\n",
      "If I had not read Pat Barker's 'Union Street' before seeing this film, I would have liked it. Unfortuntately this is not the case. It is actually my kind of film, it is well made, and in no way do I want to say otherwise, but as an adaptation, it fails from every angle.<br /><br />The harrowing novel about the reality of living in a northern England working-class area grabbed hold of my heartstrings and refused to let go for weeks after I had finished. I was put through tears, repulsion, shock, anger, sympathy and misery when reading about the women of Union Street. Excellent. A novel that at times I felt I could not read any more of, but I novel I simply couldn't put down. Depressing yes, but utterly gripping.<br /><br />The film. Oh dear. Hollywood took Barker's truth and reality, and showered a layer of sweet icing sugar over the top of it. A beautiful film, an inspiring soundtrack, excellent performances, a tale of hope and romance...yes. An adaptation of 'Union Street'...no.<br /><br />The women of Union Street and their stories are condensed into Fonda's character, their stories are touched on, but many are discarded. I accept that some of Barker's tales are sensitive issues and are too horrific for mass viewing, and that a film with around 7 leading protagonists just isn't practical, but the content is not my main issue. The essence and the real gut of the novel is lost - darkness and rain, broken windows covered with cardboard, and the graphically described stench of poverty is replaced with sunshine, pretty houses, and a twinkling William's score.<br /><br />If you enjoyed the film for its positivity and hope in the face of 'reality', I advise that you hesitate to read the book without first preparing yourself for something more like 'Schindler's List'...but without the happy ending.\n",
      "* * * * * * * * * \n",
      "1862\n",
      "This TV film tells the story of extrovert Frannie suddenly returning to Silk Hope to visit friends and family, but unaware of her mother's death. Her sister runs the family home, but is intending to sell it and move away with her new husband. Frannie strongly objects to the idea, and vows to keep the family heirloom as it were, by getting a job and maintaining responsibility.<br /><br />In comes handsome Ruben and the two soon fall in love (as you do), and it's from this point that I sort of lost interest....<br /><br />There is more to Farrah Fawcett than just the blonde hair and looks, she can portray a character extremely convincingly when she puts her mind to it - and it is certainly proved here as well as some of her previous efforts like Extremities and Small Sacrificies - a great performance from the legendary Charlie's Angel.<br /><br />Silk Hope is the type of film that never shies away from its cheap and cheerful TV image, and you know there was a limit to the budget, but it's not the worst film ever made. The positive aspects are there; you just have to find them.\n",
      "* * * * * * * * * \n",
      "1888\n",
      "Today I found \\They All Laughed\\\" on VHS on sale in a rental. It was a really old and very used VHS, I had no information about this movie, but I liked the references listed on its cover: the names of Peter Bogdanovich, Audrey Hepburn, John Ritter and specially Dorothy Stratten attracted me, the price was very low and I decided to risk and buy it. I searched IMDb, and the User Rating of 6.0 was an excellent reference. I looked in \\\"Mick Martin & Marsha Porter Video & DVD Guide 2003\\\" and  wow  four stars! So, I decided that I could not waste more time and immediately see it. Indeed, I have just finished watching \\\"They All Laughed\\\" and I found it a very boring overrated movie. The characters are badly developed, and I spent lots of minutes to understand their roles in the story. The plot is supposed to be funny (private eyes who fall in love for the women they are chasing), but I have not laughed along the whole story. The coincidences, in a huge city like New York, are ridiculous. Ben Gazarra as an attractive and very seductive man, with the women falling for him as if her were a Brad Pitt, Antonio Banderas or George Clooney, is quite ridiculous. In the end, the greater attractions certainly are the presence of the Playboy centerfold and playmate of the year Dorothy Stratten, murdered by her husband pretty after the release of this movie, and whose life was showed in \\\"Star 80\\\" and \\\"Death of a Centerfold: The Dorothy Stratten Story\\\"; the amazing beauty of the sexy Patti Hansen, the future Mrs. Keith Richards; the always wonderful, even being fifty-two years old, Audrey Hepburn; and the song \\\"Amigo\\\", from Roberto Carlos. Although I do not like him, Roberto Carlos has been the most popular Brazilian singer since the end of the 60's and is called by his fans as \\\"The King\\\". I will keep this movie in my collection only because of these attractions (manly Dorothy Stratten). My vote is four.<br /><br />Title (Brazil): \\\"Muito Riso e Muita Alegria\\\" (\\\"Many Laughs and Lots of Happiness\\\")\"\n",
      "* * * * * * * * * \n",
      "2378\n",
      "-SPOILES- Lame south of the border adventure movie that has something to do with the blackmail of a big cooperate executive Rosenlski the president of Unasco Inc. by on the lamb beachcomber David Ziegler who's living the life of Reilly, or Ziegler, in his beach house in Cancun Mexico.Having this CD, that he gave to his brother James, that has three years of phone conversations between Rosenlski and the President of the United States involved in criminal deals. This CD has given David an edge over the international mobsters who are after him. <br /><br />The fact that James get's a little greedy by trying to shake down Rosenlski for 2 million in diamonds not only cost him his life but put David in danger of losing his as well. Ropsenlski want's to negotiate with David for the CD by getting his ex-wife Liz to talk to him about giving it up, Rosnelski made a deal to pay off her debts if she comes through. David is later killed by Rosenliski's Mexican hit-man Tony, with the help of a great white shark, who just doesn't go for all this peaceful dealings on his boss' part. <br /><br />Tony had taken the CD that Liz left for his boss at a local hotel safe and now want's to murder James, like he did David, and at the same time keep the CD to have something over Rosenlski.<br /><br />David who had secretly hidden the diamonds that James had on him at the time of his murder is now the target of Tony and his men to shut him up for good. David also wants to take the diamonds and at the same time give his boss Rosenlski the impression that the CD that David had is lost but use it later, without Rosenlski knowing who's behind it,to blackmail him. <br /><br />The movie \\Night of the Sharks\\\" has a number of shark attacks in it with this huge one-eyed white shark who ends up taking out about a half dozen of the cast members including Tony. David who's a firm believer in gun-control uses knives high explosives and Molotov cocktails, as well as his fists, to take out the entire Tony crew. Even the killer shark is finished off by Tony but with a hunting knife, not a gun. When it came to using firearms to save his friend and sidekick Paco a girlfriend Juanita and his priest Father Mattia lives from Tony and his gang guns were a no-no with David; he was more of a knife and spear man then anything else. <br /><br />The ending of the movie was about as predictable as you can make it with David thought to be killed by the one-eyed shark later pops up out of the crowd,after Rosenlski was convinced that he's dead and leaves the village. David continues his life as a free living and loving beachcomber with no one looking to kill him and about two million dollars richer. to David's credit he had his friend Paco give Rosenski back his CD but under the conditions that if anything happened to him his cousin, who Rosenlski doesn't know who and where he is, will shoot his big mouth off and let the whole world know about his dirty and criminal dealings.\"\n",
      "* * * * * * * * * \n"
     ]
    },
    {
     "name": "stdout",
     "output_type": "stream",
     "text": [
      "4383\n",
      "Okay, I'm not going to critique this film in depth. I note the many elogious reviews in advance of me, and as I generally like Maria de Medeiros, I have been long hesitant to make a disparaging comment - and in such fashion nearly a year has passed. But each time I see that DVD on my shelf, I sense an inner groan. Anyway, let the elogious voices override me! But for other cinephiles like me - beware.<br /><br />Expressed in simplest and gentlest terms, here's my stance:<br /><br />The political turmoil and overthrow providing the backdrop for this film also served as a backdrop for a certain period of my life - via newspapers I read daily in my local middle-European pub. At that time, I followed the newsreports, but never fully grasped what the heck was transpiring. The reporters tended to report either in non-partisan terms, or with a conservatism which frowned upon any groups disturbing the peace or fomenting rebellion against the establishment. Those were times when other winds of unrest swirled through Paris, Berlin, Prague, and various places in the U.S., all of whose issues I understand clearly at the time - but dictatorship or not, my papers tended to treat the govermentment of Portugal simply as the establishment - not as a well-fleshed out \\evil empire\\\", to use flippant Star War terms.<br /><br />So, week after week, I read of disturbances, but never found an intelligent editorial that might provide the history behind them, or evaluate the practices and social-economic impacts of the dictatorship, etc.<br /><br />So, in purchasing this film, I had at least two hopes: to finally understand the details leading up to the social unrest, and to enjoy a well-conceived drama. This film gave me neither.<br /><br />The film presupposes that viewers already have ample knowledge and deep emotions regarding the historical facts. And the drama - well, as I said, I want to encourage Maria de Medeiros and the Portugues film industry, but - it was trite and shallow.<br /><br />I obtained my copy of the DVD from France - \\\"Selection Official Cannes 2000 - Un Certain Regard\\\". The box shows smiling clean-shaven actors, the lead giving the victory sign in a fashion that reminds me more of the Playboy bunny. After seeing the work, I wondered what the French could have thought of it - though as a shallow piece of \\\"cinema verite'\\\" with sensitive ethnic content, I can understand their natural inclination to praise it for its \\\"honesty\\\" but...<br /><br />Look at the back of the box: \\\"Un regard chaleuruex sur la Revolution\\\" - a warm regard? Try describing Allende's overthrown and murder with a a \\\"warm regard\\\"! Try it with Czechoslovakia in 1968! Try it with the whole line-up of overthrows, and civil rebellions!<br /><br />Another review: Maria de Medeiros a renoue' avec son pays, son enfance et son histoire.\\\" Rubbish, rubbish, rubbish! At least for me.<br /><br />I love Portugal. In all of Europe, Lisbon, Barcelona and Prague are my favorite cities. But my love for a city and a country doesn't flesh out a vacuous film. I'll hang on to my ancient VHS tapes of Capas Negras and A Cancao de Lisboa - meanwhile, I'm stuck with a zone 2 by the above title that might as well go in the trash.\"\n",
      "* * * * * * * * * \n",
      "5578\n",
      "Well, as Goethe once said, there really isn't any point in trying to pass a negative judgement that aspires to be objective on \\something that has had a great effect\\\". \\\"La Maman et La Putain\\\" has surely passed into history as an influence on much of what's been done in France and elsewhere in the past thirty years and no one interested in the history of film, certainly, should be dissuaded from watching it. To express a purely subjective judgement, however, I feel compelled to disagree with almost every other review posted here and say to people: \\\"Don't watch it; it's a waste of hours of your time that will just leave you feeling rather sick and angry.\\\" And by that I don't mean \\\"sick and angry\\\" about \\\"the human condition\\\" or anything so general and profound as that, because that is exactly the line that most critics have adopted in their fulsome praise of the film - \\\"an ordeal to watch in its ruthless dissection of our emotional cowardice and cruelty\\\" and so on - and, if it really managed to put across a universally or even broadly relevant message of this sort, then the director would have good reason to be satisfied with himself, however pessimistic his conclusions may be. My beef with the film is rather that I don't see this hours-long record of empty vanity and petty treachery as being justified or excused by any GENERALLY relevant message at all. All three main characters are deeply morally unattractive individuals: Alexandre to the greatest degree, of course, because we see by far the most of him and because he seldom shuts up for more than thirty seconds; Marie perhaps to the least degree, because we see the least of her. Alexandre's affected and pretentious monologues have a kind of amusement value, of course, but the amusement wears thin as one comes more and more clearly to realize that Jean-Pierre Léaud is most likely not even acting and that, with absurd remarks like \\\"un homme beau comme un film de Nicholas Ray\\\", he really was just reproducing word-for-word opinions that were accepted as authentic and profound by the milieu in which he, along with the director Eustache, had been living for about ten years by the time of the making of the film. I suppose if the tone of relentless superficiality and triviality had been sustained throughout 100% of the film, it might have worked as a long sardonic comedy about a particularly shallow, worthless and despicable post-'68 milieu. What made, however, this viewer at least extremely angry with the director was his granting of at least one lengthy scene each to Alexandre and Veronika in which we are clearly expected to empathize with and feel for them as if they shared a moral universe with us. If a man can get away with living in the flat of and professing to love one woman, sleeping (mostly in this very flat) with another, and running around Paris proposing marriage to yet a third, well, I suppose I can wish him the best of luck in the dog-eat-dog world he's chosen to create for himself. What I can't, however, in all conscience do is listen even for a moment to maudlin monologues from him in which he speaks about his \\\"anxiety\\\" and his \\\"despair\\\". The same goes double for the even more despicable Veronika, whom we are shown barging drunk into the apartment and even the bed shared by Marie and Alexandre and behaving there with an infantile inconsistency tantamount to the most savage and heartless cruelty. As I say, if \\\"La Maman et La Putain\\\" is intended to be nothing more nor other than a portrait of Alexandre, Veronika and Marie, three individuals whom any even halfway decent person would never admit into their company let alone their home, then I suppose there is a kind of legitimacy in praising the director for being \\\"unflinching\\\" (though why one should even feel like \\\"flinching\\\" once one had consciously opted to create such thoroughly repellent characters to filmically observe I can't imagine). The problem, however, is that the director is clearly convinced - and appears to have succeeded in convincing generations of critics - that Alexander, Veronika and Marie are somehow representative of human beings in general and of the limits of human beings' emotional capabilities. This latter idea, however, is arrant and offensive nonsense. There may indeed be an inherent fallibility and tendency to tragedy in human relations in general and sexual relations in particular. But the nature and degree of this fallibility and tendency to tragedy can only possibly be determined by people who make a sincere and serious effort to make such relations work. It surely needs no cinematic or authorial genius to convey to us the information that a man who behaves like Alexandre is going to end up hated, miserable, and alone, or that women who insist on expecting love from a man like Alexandre are going to end up disappointed and bitter. Watch \\\"La Maman et La Putain\\\" if you're historically interested in what passed for culture and human interaction in a certain post-'68 Parisian milieu which was probably, unfortunately, not restricted to just a few particularly anti-social types like these. But please don't make the mistake of believing that what is recorded here has any general relevance for humanity in the way that a film by Jean Renoir or Martin Scorsese might be argued to have.\"\n",
      "* * * * * * * * * \n",
      "7055\n",
      "Noting the cast, I recently watched this movie on TCM, hoping for an under-appreciated gem, as I regard many films from the 30's. This is no gem - not even semi-precious. The anachronistic clothing and 1930's Rolls Royce limo hit you immediately. The casting is strange, also. But mostly, there are too many dumb and unnecessary plot devices. This film has lots of good ingredients and a basic plot that holds promise, but the components aren't mixed according to the right recipe. It simply doesn't come together like it should. And that's a shame. WIth a few rather obvious, but minor alterations, this might have been a very good movie.<br /><br />The film is about an American showgirl (Jean Harlow) seeking a rich British husband - preferably from the nobility. She meets Franchot Tone and his buddy, who are on a lark in a Rolls Royce owned by his buddy's employer. Harlow mistakenly assumes Tone is the Lord who owns the Rolls, and she sets her sights on him. This early part of the film is a light comedy of no real distinction. <br /><br />However, Tone unwittingly uncovers the fact that his employer is actually a German 5th columnist on the eve of WWI, and that is when the movie changes tone altogether and begins to fall apart. Tone and Harlow are married, but just as the honeymoon begins, he is gunned down by a Mata Hari-type (Benita Hume), and Harlow flees the scene, with a bystander accusing her of Tone's murder. (In fact, Tone recovers from the wounds.)<br /><br />Harlow flees to France, where she falls in love again - this time with a wealthy French cad (Cary Grant). Tone, now in the army, and Harlow are unexpectedly brought back together in Grant's hospital room where he is in rehab from a plane crash. In the following scene, Tone accuses Harlow of abandoning him because she is essentially a gold-digger. Harlow never explains about the witness' accusing her of murder and her panic! That is one of those unreal, movie-plot-device break-downs in the story.<br /><br />Then Tone is also brought back into contact with the woman (Hume) who shot him. She is on hand to watch her paramour, Grant, test the new plane that Tone has delivered to him from England. Incredibly, both Hume and Tone dimly recognize each other, but simply can't place where from! Okay, so Tone was shot and almost died; perhaps his memory is a little out of whack. But how many men did Hume shoot that she would forget one of her marks? (She does not seem to be faking the memory lapse.)<br /><br />This is inexplicable and unnecessary. Hume should have absolutely recognized him, but played it coy when she realized that Tone wasn't able to place her. That would have been a much better treatment of that issue.<br /><br />The finale also is very unsatisfying. The movie, as made, has Tone and Harlow conspiring to preserve the good reputation of the cad, Grant, leading to his fraudulent burial as a hero. Then Harlow and Tone just walk away. It is noble to preserve the French public's perception of their national war hero, but very unsatisfying as a love story!<br /><br />What the film begs for is this: Harlow explains that she fled in a panic in the face of accusations of murder; Tone forgives her and quietly rekindles his love for her; he then carries a torch for her, even while helping her to rig the crash site to preserve Grant's reputation. Meanwhile, Harlow finally recognizes Grant for the cad he is. Then having seen Tone for the brave and noble man he is, Harlow rekindles feelings for him, too. At film's end, the two of them become reconciled even as they work together to rig the appearance of Grant's death. After Grant's hero's burial, we see them embrace and kiss at the fade-out. That would have made a nice little movie. For Cary Grant fans, it would have been even better had Tone played the French cad who is killed and Grant the long-suffering first husband, reunited with Harlow.<br /><br />It is incomprehensible that Franchot Tone is cast as the Irishman living in England, while Cary Grant is cast as the Frenchman. This movie would have been much better had they reversed roles. That also would have been more conducive to the film that should have been...\n",
      "* * * * * * * * * \n",
      "7133\n",
      "College students, who are clearing out a condemned dormitory, are stalked by an elusive killer.<br /><br />The Dorm That Dripped Blood (aka Pranks) is a bit of a mixed bag for slasher fans. The movies production values are pretty low and the story for the most part is pretty routine, there's even a creepy bum hanging around for a red herring. In fact much of the story's build-up is pretty forgettable, save for one or two brutal murders. But the movie is really made better by its surprisingly intense climax (in an atmospheric setting) and one fairly bold, unconventional conclusion.<br /><br />The cast is lackluster for the most part. Stephen Sachs is the best of the lot as he does a pretty nice turn in character. Also look for a young Daphne Zuniga as an ill-fated student.<br /><br />Over all this is a pretty standard B slasher effort, but the finale is well worth savoring and for this viewer saved the movie from being a complete ho-hum.<br /><br />** out of ****\n",
      "* * * * * * * * * \n"
     ]
    },
    {
     "name": "stdout",
     "output_type": "stream",
     "text": [
      "7886\n",
      "It is enjoyable and fast-paced. <br /><br />There is no way on Earth that the actor playing Mat could be eighteen. However, the main thing is that he does act eighteen very convincingly. It must be a credit to his audition that he convinced them to cast him. I quite soon accepted him as being a naive young country boy.<br /><br />While his was the best performance, most of the others were also very engaging. In particular, the interplay between the policemen was natural and well-balanced, and worked very well.<br /><br />It is only about 45 minutes long, so the plot is not complex. More key is the style of the whole thing. It is very slick and vibrant, and the backdrops are atmospheric, especially from the fact that all the colours are extremely rich. The gangland is identifiable to foreign audiences, but still manages to be distinctly Australian.\n",
      "* * * * * * * * * \n",
      "9817\n",
      "Bridges of madison county is a better made version of this story. I felt the ending of this movie was not handled sensitively as they did in the original English movie. This movie is very indianised, if you are a very sensitive person who cries in a movie when hero dies in the end you'll love this movie, On the other hand if you are a fighter in life and think crying is for wimps you may not like the ending.But on the whole it's pretty good subject is well handled for indian conditions. Tabu was good as a caring wife and mother. Everybody acted well.\n",
      "* * * * * * * * * \n",
      "10960\n",
      "This film is deeply disappointing. Not only that Wenders only displays a very limited musical spectrum of Blues, it is his subjective and personal interest in parts of the music he brings on film that make watching and listening absolutely boring. The only highlight of the movie is the interview of a Swedish couple who were befriended with J.B. Lenoir and show their private video footage as well as tell stories. Wenders's introduction of the filmic topic starts off quite interestingly - alluding to world's culture (or actually, American culture) traveling in space, but his limited looks on the theme as well as the neither funny nor utterly fascinating reproduction of stories from the 30s renders this movie as a mere sleeping aid. Yawn. I had expected more of him.\n",
      "* * * * * * * * * \n",
      "11386\n",
      "Even duller, if possible, than the original (I hope I may say that under the IMDb guidelines). THE FRENCH CONNECTION at least tried to absorb European influences, to complicate the conventional view of the American police detective, even if the attempt was foundered by Friedkin's ambivalence, Americaness and general indirection. The (relative) arthouse boom of the 1960s (especially with the nouvelle vague) allowed for a huge influence of European cinema in Hollywood. This lent a new vigour and complexity to a weary medium, and, in the best of them (eg BONNIE AND CLYDE, early Scorcese), a new subversion of received practice. The original CONNECTION was part of this movement, with its difficultly distanced style, and anti-detective figure. TWO is old Hollywood's right-wing reassertion of American values.<br /><br />This is figured in the film's very tiresome America vs France dialectic. For instance, TWO is shot like a 70s French policier. It was the French, of course, who insisted on the greatness of American movies when they were ignored at home, and this, in a sense, is a reclamation, a warning against Gallic presumption. This can be seen in the pattern of the two movies. CONNECTION has French gangsters invading New York, with the French style smothering the American thriller - this leads to the dissolution of the detective figure, and irresolution of plot - the baddie got away. <br /><br />TWO has the American returning to France, with American thriller values imposed on the native genre - the power of the detective is reasserted and conventional resolution is achieved. This is further dramatised in Doyle's relationship with French inspector Barthelmy, whose dominant influence he must shake off before he can control the plot.<br /><br />TWO seems to follow the original by undermining its detective hero. From the start, Doyle's importance is diminished at every turn. Despite the ending of CONNECTION, he is considered a hero. But he is an American in a foreign land, and his inability to control language or customs means he cannot dominate the plot. He even misreads the signs of the police force, mistaking an informer for a criminal, and getting him killed. <br /><br />A detective's power comes from his power as subject to see and interpret, but Doyle spends much of the movie being watched, controlled, an object, a body (literally in the scenes after he is dumped by Charnier) to be viewed and interpreted. In CONNECTION, he instigated the action, chasing the criminals, forcing the plot; here he is passive, tied to a bed, locked in a cell, an addict, a dependent.<br /><br />This loss of phallic power is predictably symbolised in the loss of his gun, and the film follows a depressingly familiar Oedipal trajectory. In the heroin sequences, he is comforted by an old lady who says he looks like her son. His drugged state is like a return to the womb, robbed of adult pressures. Her taking his watch reinforces the timelessness of this state, doubly significant for a man whose career depends on timetables and precision.<br /><br />Oedipus was the first detective, and to avoid his fate, Doyle must reject this false mother who is dissolving his unified identity, and kill the father (Charnier) so that he can take his accepted masculine role in society. Psychoanalytic theory was popular among academics in the 70s(ironically instigated by a Frenchman, Jacques Lacan), but it's rare to see a film so literally full of it. <br /><br />If all of these facts tended towards the minimising of Doyle, then the film's style doesn't. Friedkin distanced us from his hero by refusing empathy or character motivation, focusing on the mechanics of plot. Here, Doyle is a very conventional Hollywood hero. Instead of being lost in murky long shot, he is made knowable and understandable to the viewer with the traditional devices - point-of-view shots, close ups, connecting shots etc.<br /><br />TWO is all about the fall and rise of Popeye Doyle. Plot in this case is subservient to the acting, which is the usual Hackman showiness. The cold turkey scenes, therefore, despite their tediousness, are not disturbing. We are allowed to share rather than coldly observe; this a far less discomforting experience. The scenes are also shot through with a lachrymose manly sentimentality that is very American. <br /><br />So while CONNECTION tried to imitate the complex thrillers of Jean Pierre Melville, TWO does the complete opposite. Melville's LE SAMOURAI featured a gangster who started the film whole, powerful, outside language, and charted his eventual disintegration. TWO starts with a disintegrated character, achieved partly through inability with language, whose dominance begins when he steps outside language - the concluding action sequences are largely wordless. <br /><br />In the film, the locale and language are important as they fixed and undermined the detective, but as he regains his power (figured in the return of his gun, and the cathartic burning of the primal site of vulnerability, the tower block where Charnier held him), the Marseilles setting becomes more irrelevant, and the mythic stand-off, which could take place anywhere, takes over. Compare the endings of the two films: one admits ambiguity and despair, the other absolute certainty.<br /><br />\n",
      "* * * * * * * * * \n",
      "12773\n",
      "It wasn't the most pointless animation film experience ever, but it certainly can't be admired as much as it tries to be good. Combining Dreamworks animation and computer graphics, this is the story of a mustang, later named Spirit (Matt Damon, providing the first person narration), and his journey through across the frontiers of the Old West. Basically he is born free amongst all the other horses in the beautiful countryside, then he is kidnapped to be used as a saddle horse, he manages to throw off all who try to ride him. However when he escapes his cage, along with Little Creek (Daniel Studi), the two of them form a friendship, oh, and he obviously has a thing for Little Creek's female horse. In the end, after a few more escapes, being chased by The Colonel (James Cromwell) and his men, and making a final big leap across a gorge, Little Creek lets Spirit go, and he also releases his female horse, and they run home to their countryside and fellow horses. Also starring Chopper Bernet as Sgt. Adams, Jeff LeBeau as Murphy/Railroad Foreman, John Rubano as Soldier, Richard McGonagle as Bill and Matthew Levin as Joe. I was expecting to see the horses talk in this film, but it turns out to be more like a Dumbo thing throughout, and the songs by Bryan Adams aren't the most engaging, but it isn't a terrible film. It was nominated the Oscar for Best Animated Feature, and it was nominated the Golden Globe for Best Song for Bryan Adams' \\Here I Am\\\". Okay!\"\n",
      "* * * * * * * * * \n"
     ]
    },
    {
     "name": "stdout",
     "output_type": "stream",
     "text": [
      "16396\n",
      "Drew Latham(Ben Affleck)is determined not to be lonely this Christmas. Not only is Drew a millionaire; but also obnoxious and guilty of being very grandiose. Drew goes back to the home he grew up in and offers the family living there, the Valco's, $250,000 to be his \\family\\\" through the Christmas season. Tom Valco(James Gandolfini)is reluctant, but is greedy enough to take Drew's offer. Christine Valco(Catherine O'Hara)has little to say in the matter, but learns to like having Drew around...not exactly the same sentiment with daughter Alicia(Christina Applegate), but that too has room for change. Drew's girlfriend Missy(Jennifer Morrison)tracks down Drew and wants her folks to meet his family. Genuine fun is in store as a happy Noel becomes a hilarious dysfunctional nightmare. Other members of the cast: Josh Zuckerman, Bill Macy, David Selby and Stephanie Faracy. Affleck is comedic, albeit strange.\"\n",
      "* * * * * * * * * \n"
     ]
    }
   ],
   "source": [
    "# false positives\n",
    "\n",
    "print(\"Examples of false positives:\")\n",
    "\n",
    "import random, time\n",
    "\n",
    "for i in range(0, len(nbs_predictions)):\n",
    "    if (nbs_predictions[i] == 1):\n",
    "        if (X_raw_train.iloc[i]['sentiment'] == 0):\n",
    "            if (random.uniform(0, 1) < 0.05): # to print only 5% of the false positives\n",
    "                print(i)\n",
    "                print(X_raw_train.iloc[i]['review'])\n",
    "                print('* * * * * * * * * ')\n"
   ]
  },
  {
   "cell_type": "markdown",
   "metadata": {},
   "source": [
    "---\n",
    "\n",
    "# <span style=\"color:red\">SUBMISSION</span>\n",
    "\n",
    "---"
   ]
  },
  {
   "cell_type": "code",
   "execution_count": 27,
   "metadata": {
    "scrolled": true
   },
   "outputs": [
    {
     "name": "stdout",
     "output_type": "stream",
     "text": [
      "movie_data is: <class 'pandas.core.frame.DataFrame'>\n",
      "movie_data has 25000 rows and 2 columns \n",
      "\n",
      "the data types for each of the columns in movie_data:\n",
      "id        object\n",
      "review    object\n",
      "dtype: object \n",
      "\n",
      "the first 10 rows in movie_data:\n",
      "         id                                             review\n",
      "0  12311_10  Naturally in a film who's main themes are of m...\n",
      "1    8348_2  This movie is a disaster within a disaster fil...\n",
      "2    5828_4  All in all, this is a movie for kids. We saw i...\n",
      "3    7186_2  Afraid of the Dark left me with the impression...\n",
      "4   12128_7  A very accurate depiction of small time mob li...\n",
      "Shape of HashingVectorizer X:\n",
      "(25000, 65536)\n",
      "Look at a few rows of the new quantitative features: \n",
      "   word_count  punc_count\n",
      "0         131           5\n",
      "1         169          15\n",
      "2         176          18\n",
      "3         112           5\n",
      "4         133           8\n",
      "5         331          20\n",
      "6         121          18\n",
      "7         230          22\n",
      "8          59           3\n",
      "9         224          14\n",
      "Size of combined bag of words and new quantitative variables matrix:\n",
      "(25000, 65538)\n",
      "(25000, 65538)\n",
      "Shape of X_test for submission:\n",
      "(25000, 65538)\n",
      "SUCCESS!\n",
      "Number of rows in the submission test set (should be 25,000): \n"
     ]
    }
   ],
   "source": [
    "# read in test data for submission\n",
    "# CHANGE FILE PATH and my_random_seed number (any integer other than 74 will do): \n",
    "raw_data, X_test_submission = process_raw_data(fn='/Users/heewoong.kim/Documents/GitHub/ml/ProjectDataset/moviereviews_test.tsv', my_random_seed=99, test=True)\n",
    "print(\"Number of rows in the submission test set (should be 25,000): \")"
   ]
  },
  {
   "cell_type": "markdown",
   "metadata": {},
   "source": [
    "---\n",
    "\n",
    "Choose a <span style=\"color:red\">*single*</span> model for your submission. In this code, I am choosing the Ordinary Least Squares model fit, which is in the `ols` object. But you should choose the model that is performing the best for you! "
   ]
  },
  {
   "cell_type": "code",
   "execution_count": 28,
   "metadata": {},
   "outputs": [
    {
     "name": "stdout",
     "output_type": "stream",
     "text": [
      "0.49172\n"
     ]
    }
   ],
   "source": [
    "# store the id from the raw data\n",
    "my_submission = pd.DataFrame(raw_data[\"id\"])\n",
    "# concatenate predictions to the id\n",
    "my_submission[\"prediction\"] = nbs.predict(X_test_submission)\n",
    "# look at the proportion of positive predictions\n",
    "print(my_submission['prediction'].mean())"
   ]
  },
  {
   "cell_type": "code",
   "execution_count": 29,
   "metadata": {},
   "outputs": [
    {
     "data": {
      "text/html": [
       "<div>\n",
       "<style scoped>\n",
       "    .dataframe tbody tr th:only-of-type {\n",
       "        vertical-align: middle;\n",
       "    }\n",
       "\n",
       "    .dataframe tbody tr th {\n",
       "        vertical-align: top;\n",
       "    }\n",
       "\n",
       "    .dataframe thead th {\n",
       "        text-align: right;\n",
       "    }\n",
       "</style>\n",
       "<table border=\"1\" class=\"dataframe\">\n",
       "  <thead>\n",
       "    <tr style=\"text-align: right;\">\n",
       "      <th></th>\n",
       "      <th>id</th>\n",
       "      <th>review</th>\n",
       "      <th>word_count</th>\n",
       "      <th>punc_count</th>\n",
       "    </tr>\n",
       "  </thead>\n",
       "  <tbody>\n",
       "    <tr>\n",
       "      <th>0</th>\n",
       "      <td>12311_10</td>\n",
       "      <td>Naturally in a film who's main themes are of m...</td>\n",
       "      <td>131</td>\n",
       "      <td>5</td>\n",
       "    </tr>\n",
       "    <tr>\n",
       "      <th>1</th>\n",
       "      <td>8348_2</td>\n",
       "      <td>This movie is a disaster within a disaster fil...</td>\n",
       "      <td>169</td>\n",
       "      <td>15</td>\n",
       "    </tr>\n",
       "    <tr>\n",
       "      <th>2</th>\n",
       "      <td>5828_4</td>\n",
       "      <td>All in all, this is a movie for kids. We saw i...</td>\n",
       "      <td>176</td>\n",
       "      <td>18</td>\n",
       "    </tr>\n",
       "    <tr>\n",
       "      <th>3</th>\n",
       "      <td>7186_2</td>\n",
       "      <td>Afraid of the Dark left me with the impression...</td>\n",
       "      <td>112</td>\n",
       "      <td>5</td>\n",
       "    </tr>\n",
       "    <tr>\n",
       "      <th>4</th>\n",
       "      <td>12128_7</td>\n",
       "      <td>A very accurate depiction of small time mob li...</td>\n",
       "      <td>133</td>\n",
       "      <td>8</td>\n",
       "    </tr>\n",
       "  </tbody>\n",
       "</table>\n",
       "</div>"
      ],
      "text/plain": [
       "         id                                             review  word_count  \\\n",
       "0  12311_10  Naturally in a film who's main themes are of m...         131   \n",
       "1    8348_2  This movie is a disaster within a disaster fil...         169   \n",
       "2    5828_4  All in all, this is a movie for kids. We saw i...         176   \n",
       "3    7186_2  Afraid of the Dark left me with the impression...         112   \n",
       "4   12128_7  A very accurate depiction of small time mob li...         133   \n",
       "\n",
       "   punc_count  \n",
       "0           5  \n",
       "1          15  \n",
       "2          18  \n",
       "3           5  \n",
       "4           8  "
      ]
     },
     "execution_count": 29,
     "metadata": {},
     "output_type": "execute_result"
    }
   ],
   "source": [
    "raw_data.head()"
   ]
  },
  {
   "cell_type": "code",
   "execution_count": 30,
   "metadata": {},
   "outputs": [
    {
     "data": {
      "text/html": [
       "<div>\n",
       "<style scoped>\n",
       "    .dataframe tbody tr th:only-of-type {\n",
       "        vertical-align: middle;\n",
       "    }\n",
       "\n",
       "    .dataframe tbody tr th {\n",
       "        vertical-align: top;\n",
       "    }\n",
       "\n",
       "    .dataframe thead th {\n",
       "        text-align: right;\n",
       "    }\n",
       "</style>\n",
       "<table border=\"1\" class=\"dataframe\">\n",
       "  <thead>\n",
       "    <tr style=\"text-align: right;\">\n",
       "      <th></th>\n",
       "      <th>id</th>\n",
       "      <th>prediction</th>\n",
       "    </tr>\n",
       "  </thead>\n",
       "  <tbody>\n",
       "    <tr>\n",
       "      <th>0</th>\n",
       "      <td>12311_10</td>\n",
       "      <td>1</td>\n",
       "    </tr>\n",
       "    <tr>\n",
       "      <th>1</th>\n",
       "      <td>8348_2</td>\n",
       "      <td>0</td>\n",
       "    </tr>\n",
       "    <tr>\n",
       "      <th>2</th>\n",
       "      <td>5828_4</td>\n",
       "      <td>1</td>\n",
       "    </tr>\n",
       "    <tr>\n",
       "      <th>3</th>\n",
       "      <td>7186_2</td>\n",
       "      <td>0</td>\n",
       "    </tr>\n",
       "    <tr>\n",
       "      <th>4</th>\n",
       "      <td>12128_7</td>\n",
       "      <td>1</td>\n",
       "    </tr>\n",
       "  </tbody>\n",
       "</table>\n",
       "</div>"
      ],
      "text/plain": [
       "         id  prediction\n",
       "0  12311_10           1\n",
       "1    8348_2           0\n",
       "2    5828_4           1\n",
       "3    7186_2           0\n",
       "4   12128_7           1"
      ]
     },
     "execution_count": 30,
     "metadata": {},
     "output_type": "execute_result"
    }
   ],
   "source": [
    "my_submission.head()"
   ]
  },
  {
   "cell_type": "code",
   "execution_count": 31,
   "metadata": {},
   "outputs": [
    {
     "data": {
      "text/plain": [
       "(25000, 2)"
      ]
     },
     "execution_count": 31,
     "metadata": {},
     "output_type": "execute_result"
    }
   ],
   "source": [
    "my_submission.shape"
   ]
  },
  {
   "cell_type": "code",
   "execution_count": 33,
   "metadata": {},
   "outputs": [],
   "source": [
    "# export submission file as csv\n",
    "# CHANGE FILE PATH: \n",
    "my_submission.to_csv('/Users/heewoong.kim/Documents/GitHub/ml/final_assignment_1/moviereviews_submission1.csv', index=False)"
   ]
  },
  {
   "cell_type": "markdown",
   "metadata": {},
   "source": [
    "# Submit to Canvas: 1) the CSV file that was written in the previous cell and 2) the url to the repository (GitHub or other) that contains your code and documentation"
   ]
  }
 ],
 "metadata": {
  "kernelspec": {
   "display_name": "Python 3",
   "language": "python",
   "name": "python3"
  },
  "language_info": {
   "codemirror_mode": {
    "name": "ipython",
    "version": 3
   },
   "file_extension": ".py",
   "mimetype": "text/x-python",
   "name": "python",
   "nbconvert_exporter": "python",
   "pygments_lexer": "ipython3",
   "version": "3.8.3"
  }
 },
 "nbformat": 4,
 "nbformat_minor": 2
}
