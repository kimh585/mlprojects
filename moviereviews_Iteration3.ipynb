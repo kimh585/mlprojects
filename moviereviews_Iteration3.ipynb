{
 "cells": [
  {
   "cell_type": "markdown",
   "metadata": {},
   "source": [
    "# Movie reviews - Final Assignment Iteration #3\n",
    "### Heew Kim | Nov 2020\n",
    "\n",
    "Third iteration of the final assignment 1 using the movie review dataset based on feature modification combined with regularized ridge regression model using further alpha optimization with more trade-offs between train/test. "
   ]
  },
  {
   "cell_type": "code",
   "execution_count": 1,
   "metadata": {},
   "outputs": [],
   "source": [
    "# all imports and magic commands\n",
    "import numpy as np\n",
    "import pandas as pd\n",
    "import matplotlib.pyplot as plt\n",
    "from my_measures import BinaryClassificationPerformance\n",
    "from sklearn.feature_extraction.text import HashingVectorizer\n",
    "from sklearn.feature_extraction.text import TfidfTransformer\n",
    "from scipy.sparse import csr_matrix, hstack\n",
    "from sklearn.preprocessing import StandardScaler\n",
    "from sklearn.model_selection import train_test_split\n",
    "%matplotlib inline"
   ]
  },
  {
   "cell_type": "markdown",
   "metadata": {},
   "source": [
    "### IMPORTANT!!! Make sure you are using `BinaryClassificationPerformance` v1.02"
   ]
  },
  {
   "cell_type": "code",
   "execution_count": 2,
   "metadata": {},
   "outputs": [
    {
     "name": "stdout",
     "output_type": "stream",
     "text": [
      "Help on class BinaryClassificationPerformance in module my_measures:\n",
      "\n",
      "class BinaryClassificationPerformance(builtins.object)\n",
      " |  BinaryClassificationPerformance(predictions, labels, desc, probabilities=None)\n",
      " |  \n",
      " |  Performance measures to evaluate the fit of a binary classification model, v1.02\n",
      " |  \n",
      " |  Methods defined here:\n",
      " |  \n",
      " |  __init__(self, predictions, labels, desc, probabilities=None)\n",
      " |      Initialize attributes: predictions-vector of predicted values for Y, labels-vector of labels for Y\n",
      " |  \n",
      " |  compute_measures(self)\n",
      " |      Compute performance measures defined by Flach p. 57\n",
      " |  \n",
      " |  img_indices(self)\n",
      " |      Get the indices of true and false positives to be able to locate the corresponding images in a list of image names\n",
      " |  \n",
      " |  ----------------------------------------------------------------------\n",
      " |  Data descriptors defined here:\n",
      " |  \n",
      " |  __dict__\n",
      " |      dictionary for instance variables (if defined)\n",
      " |  \n",
      " |  __weakref__\n",
      " |      list of weak references to the object (if defined)\n",
      "\n"
     ]
    }
   ],
   "source": [
    "help(BinaryClassificationPerformance)"
   ]
  },
  {
   "cell_type": "markdown",
   "metadata": {},
   "source": [
    "## MODIFIED feature building and extraction functions "
   ]
  },
  {
   "cell_type": "code",
   "execution_count": 3,
   "metadata": {},
   "outputs": [],
   "source": [
    "# function that takes raw data and completes all preprocessing required before model fits\n",
    "def process_raw_data_modified(fn, my_random_seed, test=False):\n",
    "    # read and summarize data\n",
    "    movie_data = pd.read_csv(fn, sep='\\t')\n",
    "    print(\"movie_data is:\", type(movie_data))\n",
    "    print(\"movie_data has\", movie_data.shape[0], \"rows and\", movie_data.shape[1], \"columns\", \"\\n\")\n",
    "    print(\"the data types for each of the columns in movie_data:\")\n",
    "    print(movie_data.dtypes, \"\\n\")\n",
    "    print(\"the first 10 rows in movie_data:\")\n",
    "    print(movie_data.head(5))\n",
    "    if (not test):\n",
    "        print(\"The rate of 'good' movie reviews in the dataset: \")\n",
    "        print(movie_data['sentiment'].mean())\n",
    "\n",
    "    # vectorize Bag of Words from review text; as sparse matrix; added uni- & bigrams; deleted stopwords\n",
    "    if (not test): # fit_transform()\n",
    "        hv = HashingVectorizer(n_features=2 ** 16, ngram_range = (1,2), alternate_sign=False)\n",
    "        X_hv = hv.fit_transform(movie_data.review)\n",
    "        fitted_transformations.append(hv)\n",
    "        print(\"Shape of HashingVectorizer X:\")\n",
    "        print(X_hv.shape)\n",
    "    else: # transform() \n",
    "        X_hv = fitted_transformations[0].transform(movie_data.review)\n",
    "        print(\"Shape of HashingVectorizer X:\")\n",
    "        print(X_hv.shape)\n",
    "    \n",
    "    # http://scikit-learn.org/stable/modules/generated/sklearn.feature_extraction.text.TfidfTransformer.html\n",
    "    if (not test):\n",
    "        transformer = TfidfTransformer()\n",
    "        X_tfidf = transformer.fit_transform(X_hv)\n",
    "        fitted_transformations.append(transformer)\n",
    "    else:\n",
    "        X_tfidf = fitted_transformations[1].transform(X_hv)\n",
    "    \n",
    "    # create additional quantitative features\n",
    "    # features from Amazon.csv to add to feature set\n",
    "    movie_data['word_count'] = movie_data['review'].str.split(' ').str.len()\n",
    "    movie_data['punc_count'] = movie_data['review'].str.count(\"\\.\")\n",
    "\n",
    "    X_quant_features = movie_data[[\"word_count\", \"punc_count\"]]\n",
    "    print(\"Look at a few rows of the new quantitative features: \")\n",
    "    print(X_quant_features.head(10))\n",
    "    \n",
    "    # Combine all quantitative features into a single sparse matrix\n",
    "    X_quant_features_csr = csr_matrix(X_quant_features)\n",
    "    X_combined = hstack([X_tfidf, X_quant_features_csr])\n",
    "    X_matrix = csr_matrix(X_combined) # convert to sparse matrix\n",
    "    print(\"Size of combined bag of words and new quantitative variables matrix:\")\n",
    "    print(X_matrix.shape)\n",
    "    \n",
    "    # Create `X`, scaled matrix of features\n",
    "    # feature scaling\n",
    "    if (not test):\n",
    "        sc = StandardScaler(with_mean=False)\n",
    "        X = sc.fit_transform(X_matrix)\n",
    "        fitted_transformations.append(sc)\n",
    "        print(X.shape)\n",
    "        y = movie_data['sentiment']\n",
    "    else:\n",
    "        X = fitted_transformations[2].transform(X_matrix)\n",
    "        print(X.shape)\n",
    "    \n",
    "    # Create Training and Test Sets\n",
    "    # enter an integer for the random_state parameter; any integer will work\n",
    "    if (test):\n",
    "        X_submission_test = X\n",
    "        print(\"Shape of X_test for submission:\")\n",
    "        print(X_submission_test.shape)\n",
    "        print('SUCCESS!')\n",
    "        return(movie_data, X_submission_test)\n",
    "    else: \n",
    "        X_train, X_test, y_train, y_test, X_raw_train, X_raw_test = train_test_split(X, y, movie_data, test_size=0.2, random_state=my_random_seed)\n",
    "        print(\"Shape of X_train and X_test:\")\n",
    "        print(X_train.shape)\n",
    "        print(X_test.shape)\n",
    "        print(\"Shape of y_train and y_test:\")\n",
    "        print(y_train.shape)\n",
    "        print(y_test.shape)\n",
    "        print(\"Shape of X_raw_train and X_raw_test:\")\n",
    "        print(X_raw_train.shape)\n",
    "        print(X_raw_test.shape)\n",
    "        print('SUCCESS!')\n",
    "        return(X_train, X_test, y_train, y_test, X_raw_train, X_raw_test)"
   ]
  },
  {
   "cell_type": "markdown",
   "metadata": {},
   "source": [
    "## MODIFIED training and test sets from function"
   ]
  },
  {
   "cell_type": "code",
   "execution_count": 4,
   "metadata": {
    "scrolled": true
   },
   "outputs": [
    {
     "name": "stdout",
     "output_type": "stream",
     "text": [
      "movie_data is: <class 'pandas.core.frame.DataFrame'>\n",
      "movie_data has 25000 rows and 3 columns \n",
      "\n",
      "the data types for each of the columns in movie_data:\n",
      "id           object\n",
      "sentiment     int64\n",
      "review       object\n",
      "dtype: object \n",
      "\n",
      "the first 10 rows in movie_data:\n",
      "       id  sentiment                                             review\n",
      "0  5814_8          1  With all this stuff going down at the moment w...\n",
      "1  2381_9          1  \\The Classic War of the Worlds\\\" by Timothy Hi...\n",
      "2  7759_3          0  The film starts with a manager (Nicholas Bell)...\n",
      "3  3630_4          0  It must be assumed that those who praised this...\n",
      "4  9495_8          1  Superbly trashy and wondrously unpretentious 8...\n",
      "The rate of 'good' movie reviews in the dataset: \n",
      "0.5\n",
      "Shape of HashingVectorizer X:\n",
      "(25000, 65536)\n",
      "Look at a few rows of the new quantitative features: \n",
      "   word_count  punc_count\n",
      "0         433          20\n",
      "1         158          16\n",
      "2         378          20\n",
      "3         379           8\n",
      "4         367           9\n",
      "5          89           5\n",
      "6         112           9\n",
      "7         132           9\n",
      "8         163           7\n",
      "9          43           5\n",
      "Size of combined bag of words and new quantitative variables matrix:\n",
      "(25000, 65538)\n",
      "(25000, 65538)\n",
      "Shape of X_train and X_test:\n",
      "(20000, 65538)\n",
      "(5000, 65538)\n",
      "Shape of y_train and y_test:\n",
      "(20000,)\n",
      "(5000,)\n",
      "Shape of X_raw_train and X_raw_test:\n",
      "(20000, 5)\n",
      "(5000, 5)\n",
      "SUCCESS!\n",
      "Number of fits stored in `fitted_transformations` list: \n",
      "3\n"
     ]
    }
   ],
   "source": [
    "# create an empty list to store any use of fit_transform() to transform() later\n",
    "# it is a global list to store model and feature extraction fits\n",
    "fitted_transformations = []\n",
    "\n",
    "# CHANGE FILE PATH and my_random_seed number (any integer other than 74 will do):\n",
    "X_train, X_test, y_train, y_test, X_raw_train, X_raw_test = process_raw_data_modified(fn='/Users/heewoong.kim/Documents/GitHub/ml/ProjectDataset/moviereviews_train.tsv', my_random_seed=99)\n",
    "\n",
    "print(\"Number of fits stored in `fitted_transformations` list: \")\n",
    "print(len(fitted_transformations))"
   ]
  },
  {
   "cell_type": "markdown",
   "metadata": {},
   "source": [
    "## Fit (and tune) the Ridge Regression Models"
   ]
  },
  {
   "cell_type": "code",
   "execution_count": 5,
   "metadata": {},
   "outputs": [],
   "source": [
    "from sklearn import linear_model\n",
    "\n",
    "#set alphas and arrays\n",
    "alphas = [8.5e+4, 9e+4, 9.25e+4, 9.5e+4, 9.75e+4, 1e+5, 1.03e+5, 1.05e+5, 1.08e+5, 1.1e+5]\n",
    "rdg={}\n",
    "rdg_train={}\n",
    "rdg_test={}\n",
    "\n",
    "#loop for rdg model fitting/tuning for alphas\n",
    "for i in range(10):\n",
    "    rdg[i] = linear_model.RidgeClassifier(alpha=alphas[i])\n",
    "    rdg[i].fit(X_train, y_train)\n",
    "    #train set performance\n",
    "    rdg_train[i] = BinaryClassificationPerformance(rdg[i].predict(X_train), y_train, ('tr'+str(alphas[i])))\n",
    "    rdg_train[i].compute_measures()\n",
    "    #test set performance\n",
    "    rdg_test[i] = BinaryClassificationPerformance(rdg[i].predict(X_test), y_test, ('ts'+str(alphas[i])))\n",
    "    rdg_test[i].compute_measures()\n"
   ]
  },
  {
   "cell_type": "code",
   "execution_count": 6,
   "metadata": {},
   "outputs": [
    {
     "name": "stdout",
     "output_type": "stream",
     "text": [
      "{'Pos': 9988, 'Neg': 10012, 'TP': 9973, 'TN': 10004, 'FP': 8, 'FN': 15, 'Accuracy': 0.99885, 'Precision': 0.9991984771065023, 'Recall': 0.9984981978374049, 'desc': 'tr85000.0'}\n",
      "{'Pos': 2512, 'Neg': 2488, 'TP': 2239, 'TN': 2166, 'FP': 322, 'FN': 273, 'Accuracy': 0.881, 'Precision': 0.8742678641155799, 'Recall': 0.8913216560509554, 'desc': 'ts85000.0'}\n",
      "* * * * *\n",
      "{'Pos': 9988, 'Neg': 10012, 'TP': 9969, 'TN': 10004, 'FP': 8, 'FN': 19, 'Accuracy': 0.99865, 'Precision': 0.999198155758244, 'Recall': 0.9980977172607128, 'desc': 'tr90000.0'}\n",
      "{'Pos': 2512, 'Neg': 2488, 'TP': 2241, 'TN': 2167, 'FP': 321, 'FN': 271, 'Accuracy': 0.8816, 'Precision': 0.8747072599531616, 'Recall': 0.8921178343949044, 'desc': 'ts90000.0'}\n",
      "* * * * *\n",
      "{'Pos': 9988, 'Neg': 10012, 'TP': 9967, 'TN': 10003, 'FP': 9, 'FN': 21, 'Accuracy': 0.9985, 'Precision': 0.9990978348035284, 'Recall': 0.9978974769723669, 'desc': 'tr92500.0'}\n",
      "{'Pos': 2512, 'Neg': 2488, 'TP': 2243, 'TN': 2168, 'FP': 320, 'FN': 269, 'Accuracy': 0.8822, 'Precision': 0.8751463129145532, 'Recall': 0.8929140127388535, 'desc': 'ts92500.0'}\n",
      "* * * * *\n",
      "{'Pos': 9988, 'Neg': 10012, 'TP': 9965, 'TN': 10002, 'FP': 10, 'FN': 23, 'Accuracy': 0.99835, 'Precision': 0.9989974937343359, 'Recall': 0.9976972366840208, 'desc': 'tr95000.0'}\n",
      "{'Pos': 2512, 'Neg': 2488, 'TP': 2243, 'TN': 2170, 'FP': 318, 'FN': 269, 'Accuracy': 0.8826, 'Precision': 0.8758297540023429, 'Recall': 0.8929140127388535, 'desc': 'ts95000.0'}\n",
      "* * * * *\n",
      "{'Pos': 9988, 'Neg': 10012, 'TP': 9962, 'TN': 10000, 'FP': 12, 'FN': 26, 'Accuracy': 0.9981, 'Precision': 0.9987968718668538, 'Recall': 0.9973968762515018, 'desc': 'tr97500.0'}\n",
      "{'Pos': 2512, 'Neg': 2488, 'TP': 2244, 'TN': 2169, 'FP': 319, 'FN': 268, 'Accuracy': 0.8826, 'Precision': 0.8755364806866953, 'Recall': 0.893312101910828, 'desc': 'ts97500.0'}\n",
      "* * * * *\n",
      "{'Pos': 9988, 'Neg': 10012, 'TP': 9958, 'TN': 9999, 'FP': 13, 'FN': 30, 'Accuracy': 0.99785, 'Precision': 0.9986962190352021, 'Recall': 0.9969963956748098, 'desc': 'tr100000.0'}\n",
      "{'Pos': 2512, 'Neg': 2488, 'TP': 2244, 'TN': 2168, 'FP': 320, 'FN': 268, 'Accuracy': 0.8824, 'Precision': 0.875195007800312, 'Recall': 0.893312101910828, 'desc': 'ts100000.0'}\n",
      "* * * * *\n",
      "{'Pos': 9988, 'Neg': 10012, 'TP': 9957, 'TN': 9996, 'FP': 16, 'FN': 31, 'Accuracy': 0.99765, 'Precision': 0.998395668304422, 'Recall': 0.9968962755306368, 'desc': 'tr103000.0'}\n",
      "{'Pos': 2512, 'Neg': 2488, 'TP': 2243, 'TN': 2168, 'FP': 320, 'FN': 269, 'Accuracy': 0.8822, 'Precision': 0.8751463129145532, 'Recall': 0.8929140127388535, 'desc': 'ts103000.0'}\n",
      "* * * * *\n",
      "{'Pos': 9988, 'Neg': 10012, 'TP': 9955, 'TN': 9995, 'FP': 17, 'FN': 33, 'Accuracy': 0.9975, 'Precision': 0.9982952266345768, 'Recall': 0.9966960352422908, 'desc': 'tr105000.0'}\n",
      "{'Pos': 2512, 'Neg': 2488, 'TP': 2244, 'TN': 2169, 'FP': 319, 'FN': 268, 'Accuracy': 0.8826, 'Precision': 0.8755364806866953, 'Recall': 0.893312101910828, 'desc': 'ts105000.0'}\n",
      "* * * * *\n",
      "{'Pos': 9988, 'Neg': 10012, 'TP': 9951, 'TN': 9992, 'FP': 20, 'FN': 37, 'Accuracy': 0.99715, 'Precision': 0.9979941831310801, 'Recall': 0.9962955546655987, 'desc': 'tr108000.0'}\n",
      "{'Pos': 2512, 'Neg': 2488, 'TP': 2243, 'TN': 2169, 'FP': 319, 'FN': 269, 'Accuracy': 0.8824, 'Precision': 0.875487900078064, 'Recall': 0.8929140127388535, 'desc': 'ts108000.0'}\n",
      "* * * * *\n",
      "{'Pos': 9988, 'Neg': 10012, 'TP': 9949, 'TN': 9991, 'FP': 21, 'FN': 39, 'Accuracy': 0.997, 'Precision': 0.9978936810431294, 'Recall': 0.9960953143772527, 'desc': 'tr110000.0'}\n",
      "{'Pos': 2512, 'Neg': 2488, 'TP': 2243, 'TN': 2171, 'FP': 317, 'FN': 269, 'Accuracy': 0.8828, 'Precision': 0.876171875, 'Recall': 0.8929140127388535, 'desc': 'ts110000.0'}\n",
      "* * * * *\n"
     ]
    }
   ],
   "source": [
    "#print performance measures \n",
    "\n",
    "for i in range(10):\n",
    "    print(rdg_train[i].performance_measures)\n",
    "    print(rdg_test[i].performance_measures)\n",
    "    print('* * * * *')\n"
   ]
  },
  {
   "cell_type": "code",
   "execution_count": 12,
   "metadata": {},
   "outputs": [
    {
     "data": {
      "image/png": "[encoded data removed]",
      "text/plain": [
       "<Figure size 1080x720 with 1 Axes>"
      ]
     },
     "metadata": {},
     "output_type": "display_data"
    }
   ],
   "source": [
    "#ROC plot original range\n",
    "plt.style.use('ggplot')\n",
    "plt.figure(figsize=(15,10))\n",
    "for i in range(10):\n",
    "    plt.plot(rdg_train[i].performance_measures['FP'] / rdg_train[i].performance_measures['Neg'],\n",
    "             rdg_train[i].performance_measures['TP'] / rdg_train[i].performance_measures['Pos'], 'bo')\n",
    "    plt.text(rdg_train[i].performance_measures['FP'] / rdg_train[i].performance_measures['Neg'],\n",
    "             rdg_train[i].performance_measures['TP'] / rdg_train[i].performance_measures['Pos'], rdg_train[i].desc)\n",
    "    plt.plot(rdg_test[i].performance_measures['FP'] / rdg_test[i].performance_measures['Neg'],\n",
    "             rdg_test[i].performance_measures['TP'] / rdg_test[i].performance_measures['Pos'], 'ro')\n",
    "    plt.text(rdg_test[i].performance_measures['FP'] / rdg_test[i].performance_measures['Neg']+0.001,\n",
    "             rdg_test[i].performance_measures['TP'] / rdg_test[i].performance_measures['Pos'], rdg_test[i].desc)\n",
    "plt.axis([0, 1, 0, 1])\n",
    "plt.title('ROC plot: train (blue) & test (red)')\n",
    "plt.xlabel('False positive rate')\n",
    "plt.ylabel('True positive rate')\n",
    "plt.show()"
   ]
  },
  {
   "cell_type": "code",
   "execution_count": 8,
   "metadata": {},
   "outputs": [
    {
     "data": {
      "image/png": "[encoded data removed]",
      "text/plain": [
       "<Figure size 1080x720 with 1 Axes>"
      ]
     },
     "metadata": {},
     "output_type": "display_data"
    }
   ],
   "source": [
    "#ROC plot modified range\n",
    "\n",
    "plt.figure(figsize=(15,10))\n",
    "\n",
    "for i in range(10):\n",
    "    plt.plot(rdg_train[i].performance_measures['FP'] / rdg_train[i].performance_measures['Neg'],\n",
    "             rdg_train[i].performance_measures['TP'] / rdg_train[i].performance_measures['Pos'], 'bo')\n",
    "    plt.text(rdg_train[i].performance_measures['FP'] / rdg_train[i].performance_measures['Neg'],\n",
    "             rdg_train[i].performance_measures['TP'] / rdg_train[i].performance_measures['Pos'], rdg_train[i].desc)\n",
    "    plt.plot(rdg_test[i].performance_measures['FP'] / rdg_test[i].performance_measures['Neg'],\n",
    "             rdg_test[i].performance_measures['TP'] / rdg_test[i].performance_measures['Pos'], 'ro')\n",
    "    plt.text(rdg_test[i].performance_measures['FP'] / rdg_test[i].performance_measures['Neg']+0.001,\n",
    "             rdg_test[i].performance_measures['TP'] / rdg_test[i].performance_measures['Pos'], rdg_test[i].desc)\n",
    "plt.axis([0, .175, .825, 1])\n",
    "plt.title('ROC plot: train (blue) & test (red)')\n",
    "plt.xlabel('False positive rate')\n",
    "plt.ylabel('True positive rate')\n",
    "plt.show()\n"
   ]
  },
  {
   "cell_type": "code",
   "execution_count": 9,
   "metadata": {},
   "outputs": [
    {
     "data": {
      "text/html": [
       "<div>\n",
       "<style scoped>\n",
       "    .dataframe tbody tr th:only-of-type {\n",
       "        vertical-align: middle;\n",
       "    }\n",
       "\n",
       "    .dataframe tbody tr th {\n",
       "        vertical-align: top;\n",
       "    }\n",
       "\n",
       "    .dataframe thead th {\n",
       "        text-align: right;\n",
       "    }\n",
       "</style>\n",
       "<table border=\"1\" class=\"dataframe\">\n",
       "  <thead>\n",
       "    <tr style=\"text-align: right;\">\n",
       "      <th></th>\n",
       "      <th>alphas</th>\n",
       "      <th>train_accuracy</th>\n",
       "      <th>test_accuracy</th>\n",
       "    </tr>\n",
       "  </thead>\n",
       "  <tbody>\n",
       "    <tr>\n",
       "      <th>0</th>\n",
       "      <td>85000.0</td>\n",
       "      <td>0.99885</td>\n",
       "      <td>0.8810</td>\n",
       "    </tr>\n",
       "    <tr>\n",
       "      <th>1</th>\n",
       "      <td>90000.0</td>\n",
       "      <td>0.99865</td>\n",
       "      <td>0.8816</td>\n",
       "    </tr>\n",
       "    <tr>\n",
       "      <th>2</th>\n",
       "      <td>92500.0</td>\n",
       "      <td>0.99850</td>\n",
       "      <td>0.8822</td>\n",
       "    </tr>\n",
       "    <tr>\n",
       "      <th>3</th>\n",
       "      <td>95000.0</td>\n",
       "      <td>0.99835</td>\n",
       "      <td>0.8826</td>\n",
       "    </tr>\n",
       "    <tr>\n",
       "      <th>4</th>\n",
       "      <td>97500.0</td>\n",
       "      <td>0.99810</td>\n",
       "      <td>0.8826</td>\n",
       "    </tr>\n",
       "    <tr>\n",
       "      <th>5</th>\n",
       "      <td>100000.0</td>\n",
       "      <td>0.99785</td>\n",
       "      <td>0.8824</td>\n",
       "    </tr>\n",
       "    <tr>\n",
       "      <th>6</th>\n",
       "      <td>103000.0</td>\n",
       "      <td>0.99765</td>\n",
       "      <td>0.8822</td>\n",
       "    </tr>\n",
       "    <tr>\n",
       "      <th>7</th>\n",
       "      <td>105000.0</td>\n",
       "      <td>0.99750</td>\n",
       "      <td>0.8826</td>\n",
       "    </tr>\n",
       "    <tr>\n",
       "      <th>8</th>\n",
       "      <td>108000.0</td>\n",
       "      <td>0.99715</td>\n",
       "      <td>0.8824</td>\n",
       "    </tr>\n",
       "    <tr>\n",
       "      <th>9</th>\n",
       "      <td>110000.0</td>\n",
       "      <td>0.99700</td>\n",
       "      <td>0.8828</td>\n",
       "    </tr>\n",
       "  </tbody>\n",
       "</table>\n",
       "</div>"
      ],
      "text/plain": [
       "     alphas  train_accuracy  test_accuracy\n",
       "0   85000.0         0.99885         0.8810\n",
       "1   90000.0         0.99865         0.8816\n",
       "2   92500.0         0.99850         0.8822\n",
       "3   95000.0         0.99835         0.8826\n",
       "4   97500.0         0.99810         0.8826\n",
       "5  100000.0         0.99785         0.8824\n",
       "6  103000.0         0.99765         0.8822\n",
       "7  105000.0         0.99750         0.8826\n",
       "8  108000.0         0.99715         0.8824\n",
       "9  110000.0         0.99700         0.8828"
      ]
     },
     "execution_count": 9,
     "metadata": {},
     "output_type": "execute_result"
    }
   ],
   "source": [
    "rdg_train_df = []\n",
    "rdg_test_df = []\n",
    "\n",
    "for i in range(10):\n",
    "    rdg_train_df.append(rdg_train[i].performance_measures['Accuracy'])\n",
    "    rdg_test_df.append(rdg_test[i].performance_measures['Accuracy'])\n",
    "\n",
    "rdg_df = pd.concat([pd.DataFrame(alphas), pd.DataFrame(rdg_train_df), pd.DataFrame(rdg_test_df)], axis=1)\n",
    "rdg_df.columns = ['alphas', 'train_accuracy', 'test_accuracy']\n",
    "\n",
    "rdg_df\n"
   ]
  },
  {
   "cell_type": "code",
   "execution_count": 11,
   "metadata": {},
   "outputs": [
    {
     "data": {
      "image/png": "[encoded data removed]",
      "text/plain": [
       "<Figure size 1080x720 with 1 Axes>"
      ]
     },
     "metadata": {},
     "output_type": "display_data"
    }
   ],
   "source": [
    "plt.figure(figsize=(15,10))\n",
    "\n",
    "for i in range(10):\n",
    "    plt.plot(rdg_train[i].performance_measures['Accuracy'], rdg_test[i].performance_measures['Accuracy'], 'bo')\n",
    "    plt.text(rdg_train[i].performance_measures['Accuracy']+1e-4, rdg_test[i].performance_measures['Accuracy'], alphas[i])\n",
    "    \n",
    "plt.axis([.995, 1.0005, .88, .89])\n",
    "plt.title('Change in Train and Test sets Accuracy by Alpha parameter')\n",
    "plt.xlabel('Train set Accuracy')\n",
    "plt.ylabel('Test set Accuracy')\n",
    "plt.show()\n",
    "\n"
   ]
  },
  {
   "cell_type": "markdown",
   "metadata": {},
   "source": [
    "## Fit the optimal Ridge Regression Models with alpha 9.5e+4"
   ]
  },
  {
   "cell_type": "code",
   "execution_count": 13,
   "metadata": {},
   "outputs": [
    {
     "name": "stdout",
     "output_type": "stream",
     "text": [
      "{'Pos': 9988, 'Neg': 10012, 'TP': 9965, 'TN': 10002, 'FP': 10, 'FN': 23, 'Accuracy': 0.99835, 'Precision': 0.9989974937343359, 'Recall': 0.9976972366840208, 'desc': 'train'}\n",
      "{'Pos': 2512, 'Neg': 2488, 'TP': 2243, 'TN': 2170, 'FP': 318, 'FN': 269, 'Accuracy': 0.8826, 'Precision': 0.8758297540023429, 'Recall': 0.8929140127388535, 'desc': 'test'}\n"
     ]
    }
   ],
   "source": [
    "from sklearn import linear_model\n",
    "\n",
    "# ridge regression based on alpha set at 7e+4 based on previous model tuning\n",
    "rdg = linear_model.RidgeClassifier(alpha=9.5e+4)\n",
    "rdg.fit(X_train, y_train)\n",
    "#train set performance\n",
    "rdg_train = BinaryClassificationPerformance(rdg.predict(X_train), y_train, 'train')\n",
    "rdg_train.compute_measures()\n",
    "#test set performance\n",
    "rdg_test = BinaryClassificationPerformance(rdg.predict(X_test), y_test, 'test')\n",
    "rdg_test.compute_measures()\n",
    "\n",
    "print(rdg_train.performance_measures)\n",
    "print(rdg_test.performance_measures)"
   ]
  },
  {
   "cell_type": "markdown",
   "metadata": {},
   "source": [
    "## Reviews predictions based on choosen model"
   ]
  },
  {
   "cell_type": "code",
   "execution_count": 14,
   "metadata": {},
   "outputs": [],
   "source": [
    "rdg_predictions = rdg.predict(X_train)"
   ]
  },
  {
   "cell_type": "markdown",
   "metadata": {},
   "source": [
    "### let's look at some false positives:"
   ]
  },
  {
   "cell_type": "code",
   "execution_count": 15,
   "metadata": {},
   "outputs": [
    {
     "name": "stdout",
     "output_type": "stream",
     "text": [
      "Examples of false positives:\n"
     ]
    }
   ],
   "source": [
    "# false positives\n",
    "\n",
    "print(\"Examples of false positives:\")\n",
    "\n",
    "import random, time\n",
    "\n",
    "for i in range(0, len(rdg_predictions)):\n",
    "    if (rdg_predictions[i] == 1):\n",
    "        if (X_raw_train.iloc[i]['sentiment'] == 0):\n",
    "            if (random.uniform(0, 1) < 0.05): # to print only 5% of the false positives\n",
    "                print(i)\n",
    "                print(X_raw_train.iloc[i]['review'])\n",
    "                print('* * * * * * * * * ')\n"
   ]
  },
  {
   "cell_type": "markdown",
   "metadata": {},
   "source": [
    "---\n",
    "\n",
    "# <span style=\"color:red\">SUBMISSION</span>\n",
    "\n",
    "---"
   ]
  },
  {
   "cell_type": "code",
   "execution_count": 16,
   "metadata": {
    "scrolled": true
   },
   "outputs": [
    {
     "name": "stdout",
     "output_type": "stream",
     "text": [
      "movie_data is: <class 'pandas.core.frame.DataFrame'>\n",
      "movie_data has 25000 rows and 2 columns \n",
      "\n",
      "the data types for each of the columns in movie_data:\n",
      "id        object\n",
      "review    object\n",
      "dtype: object \n",
      "\n",
      "the first 10 rows in movie_data:\n",
      "         id                                             review\n",
      "0  12311_10  Naturally in a film who's main themes are of m...\n",
      "1    8348_2  This movie is a disaster within a disaster fil...\n",
      "2    5828_4  All in all, this is a movie for kids. We saw i...\n",
      "3    7186_2  Afraid of the Dark left me with the impression...\n",
      "4   12128_7  A very accurate depiction of small time mob li...\n",
      "Shape of HashingVectorizer X:\n",
      "(25000, 65536)\n",
      "Look at a few rows of the new quantitative features: \n",
      "   word_count  punc_count\n",
      "0         131           5\n",
      "1         169          15\n",
      "2         176          18\n",
      "3         112           5\n",
      "4         133           8\n",
      "5         331          20\n",
      "6         121          18\n",
      "7         230          22\n",
      "8          59           3\n",
      "9         224          14\n",
      "Size of combined bag of words and new quantitative variables matrix:\n",
      "(25000, 65538)\n",
      "(25000, 65538)\n",
      "Shape of X_test for submission:\n",
      "(25000, 65538)\n",
      "SUCCESS!\n",
      "Number of rows in the submission test set (should be 25,000): \n"
     ]
    }
   ],
   "source": [
    "# read in test data for submission\n",
    "# CHANGE FILE PATH and my_random_seed number (any integer other than 74 will do): \n",
    "raw_data, X_test_submission = process_raw_data_modified(fn='/Users/heewoong.kim/Documents/GitHub/ml/ProjectDataset/moviereviews_test.tsv', my_random_seed=99, test=True)\n",
    "print(\"Number of rows in the submission test set (should be 25,000): \")"
   ]
  },
  {
   "cell_type": "code",
   "execution_count": 17,
   "metadata": {},
   "outputs": [
    {
     "name": "stdout",
     "output_type": "stream",
     "text": [
      "0.49956\n"
     ]
    }
   ],
   "source": [
    "# store the id from the raw data\n",
    "my_submission = pd.DataFrame(raw_data[\"id\"])\n",
    "# concatenate predictions to the id\n",
    "my_submission[\"prediction\"] = rdg.predict(X_test_submission)\n",
    "# look at the proportion of positive predictions\n",
    "print(my_submission['prediction'].mean())"
   ]
  },
  {
   "cell_type": "code",
   "execution_count": 18,
   "metadata": {},
   "outputs": [
    {
     "data": {
      "text/html": [
       "<div>\n",
       "<style scoped>\n",
       "    .dataframe tbody tr th:only-of-type {\n",
       "        vertical-align: middle;\n",
       "    }\n",
       "\n",
       "    .dataframe tbody tr th {\n",
       "        vertical-align: top;\n",
       "    }\n",
       "\n",
       "    .dataframe thead th {\n",
       "        text-align: right;\n",
       "    }\n",
       "</style>\n",
       "<table border=\"1\" class=\"dataframe\">\n",
       "  <thead>\n",
       "    <tr style=\"text-align: right;\">\n",
       "      <th></th>\n",
       "      <th>id</th>\n",
       "      <th>review</th>\n",
       "      <th>word_count</th>\n",
       "      <th>punc_count</th>\n",
       "    </tr>\n",
       "  </thead>\n",
       "  <tbody>\n",
       "    <tr>\n",
       "      <th>0</th>\n",
       "      <td>12311_10</td>\n",
       "      <td>Naturally in a film who's main themes are of m...</td>\n",
       "      <td>131</td>\n",
       "      <td>5</td>\n",
       "    </tr>\n",
       "    <tr>\n",
       "      <th>1</th>\n",
       "      <td>8348_2</td>\n",
       "      <td>This movie is a disaster within a disaster fil...</td>\n",
       "      <td>169</td>\n",
       "      <td>15</td>\n",
       "    </tr>\n",
       "    <tr>\n",
       "      <th>2</th>\n",
       "      <td>5828_4</td>\n",
       "      <td>All in all, this is a movie for kids. We saw i...</td>\n",
       "      <td>176</td>\n",
       "      <td>18</td>\n",
       "    </tr>\n",
       "    <tr>\n",
       "      <th>3</th>\n",
       "      <td>7186_2</td>\n",
       "      <td>Afraid of the Dark left me with the impression...</td>\n",
       "      <td>112</td>\n",
       "      <td>5</td>\n",
       "    </tr>\n",
       "    <tr>\n",
       "      <th>4</th>\n",
       "      <td>12128_7</td>\n",
       "      <td>A very accurate depiction of small time mob li...</td>\n",
       "      <td>133</td>\n",
       "      <td>8</td>\n",
       "    </tr>\n",
       "  </tbody>\n",
       "</table>\n",
       "</div>"
      ],
      "text/plain": [
       "         id                                             review  word_count  \\\n",
       "0  12311_10  Naturally in a film who's main themes are of m...         131   \n",
       "1    8348_2  This movie is a disaster within a disaster fil...         169   \n",
       "2    5828_4  All in all, this is a movie for kids. We saw i...         176   \n",
       "3    7186_2  Afraid of the Dark left me with the impression...         112   \n",
       "4   12128_7  A very accurate depiction of small time mob li...         133   \n",
       "\n",
       "   punc_count  \n",
       "0           5  \n",
       "1          15  \n",
       "2          18  \n",
       "3           5  \n",
       "4           8  "
      ]
     },
     "execution_count": 18,
     "metadata": {},
     "output_type": "execute_result"
    }
   ],
   "source": [
    "raw_data.head()"
   ]
  },
  {
   "cell_type": "code",
   "execution_count": 19,
   "metadata": {},
   "outputs": [
    {
     "data": {
      "text/html": [
       "<div>\n",
       "<style scoped>\n",
       "    .dataframe tbody tr th:only-of-type {\n",
       "        vertical-align: middle;\n",
       "    }\n",
       "\n",
       "    .dataframe tbody tr th {\n",
       "        vertical-align: top;\n",
       "    }\n",
       "\n",
       "    .dataframe thead th {\n",
       "        text-align: right;\n",
       "    }\n",
       "</style>\n",
       "<table border=\"1\" class=\"dataframe\">\n",
       "  <thead>\n",
       "    <tr style=\"text-align: right;\">\n",
       "      <th></th>\n",
       "      <th>id</th>\n",
       "      <th>prediction</th>\n",
       "    </tr>\n",
       "  </thead>\n",
       "  <tbody>\n",
       "    <tr>\n",
       "      <th>0</th>\n",
       "      <td>12311_10</td>\n",
       "      <td>1</td>\n",
       "    </tr>\n",
       "    <tr>\n",
       "      <th>1</th>\n",
       "      <td>8348_2</td>\n",
       "      <td>0</td>\n",
       "    </tr>\n",
       "    <tr>\n",
       "      <th>2</th>\n",
       "      <td>5828_4</td>\n",
       "      <td>1</td>\n",
       "    </tr>\n",
       "    <tr>\n",
       "      <th>3</th>\n",
       "      <td>7186_2</td>\n",
       "      <td>0</td>\n",
       "    </tr>\n",
       "    <tr>\n",
       "      <th>4</th>\n",
       "      <td>12128_7</td>\n",
       "      <td>1</td>\n",
       "    </tr>\n",
       "  </tbody>\n",
       "</table>\n",
       "</div>"
      ],
      "text/plain": [
       "         id  prediction\n",
       "0  12311_10           1\n",
       "1    8348_2           0\n",
       "2    5828_4           1\n",
       "3    7186_2           0\n",
       "4   12128_7           1"
      ]
     },
     "execution_count": 19,
     "metadata": {},
     "output_type": "execute_result"
    }
   ],
   "source": [
    "my_submission.head()"
   ]
  },
  {
   "cell_type": "code",
   "execution_count": 20,
   "metadata": {},
   "outputs": [
    {
     "data": {
      "text/plain": [
       "(25000, 2)"
      ]
     },
     "execution_count": 20,
     "metadata": {},
     "output_type": "execute_result"
    }
   ],
   "source": [
    "my_submission.shape"
   ]
  },
  {
   "cell_type": "code",
   "execution_count": 21,
   "metadata": {},
   "outputs": [],
   "source": [
    "# export submission file as csv\n",
    "# CHANGE FILE PATH: \n",
    "my_submission.to_csv('/Users/heewoong.kim/Documents/GitHub/ml/final_assignment_1/moviereviews_submission3.csv', index=False)"
   ]
  },
  {
   "cell_type": "markdown",
   "metadata": {},
   "source": [
    "# Submit to Canvas: 1) the CSV file that was written in the previous cell and 2) the url to the repository (GitHub or other) that contains your code and documentation"
   ]
  }
 ],
 "metadata": {
  "kernelspec": {
   "display_name": "Python 3",
   "language": "python",
   "name": "python3"
  },
  "language_info": {
   "codemirror_mode": {
    "name": "ipython",
    "version": 3
   },
   "file_extension": ".py",
   "mimetype": "text/x-python",
   "name": "python",
   "nbconvert_exporter": "python",
   "pygments_lexer": "ipython3",
   "version": "3.8.3"
  }
 },
 "nbformat": 4,
 "nbformat_minor": 2
}
