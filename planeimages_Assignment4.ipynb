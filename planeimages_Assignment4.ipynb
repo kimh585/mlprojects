{
 "cells": [
  {
   "cell_type": "code",
   "execution_count": 1,
   "metadata": {},
   "outputs": [],
   "source": [
    "import numpy as np\n",
    "import pandas as pd\n",
    "import matplotlib.pyplot as plt\n",
    "import pickle\n",
    "import warnings\n",
    "warnings.filterwarnings(\"ignore\", message=\"numpy.ufunc size changed\")\n",
    "from skimage import io, color, transform, feature, exposure\n",
    "from my_measures import BinaryClassificationPerformance  \n",
    "from sklearn.model_selection import train_test_split\n",
    "%matplotlib inline"
   ]
  },
  {
   "cell_type": "markdown",
   "metadata": {},
   "source": [
    "### IMPORTANT!!! Make sure you are using BinaryClassificationPerformance v1.03\n"
   ]
  },
  {
   "cell_type": "code",
   "execution_count": 2,
   "metadata": {},
   "outputs": [
    {
     "name": "stdout",
     "output_type": "stream",
     "text": [
      "Help on class BinaryClassificationPerformance in module my_measures:\n",
      "\n",
      "class BinaryClassificationPerformance(builtins.object)\n",
      " |  BinaryClassificationPerformance(predictions, labels, desc, probabilities=None)\n",
      " |  \n",
      " |  Performance measures to evaluate the fit of a binary classification model, v1.03\n",
      " |  \n",
      " |  Methods defined here:\n",
      " |  \n",
      " |  __init__(self, predictions, labels, desc, probabilities=None)\n",
      " |      Initialize attributes: predictions-vector of predicted values for Y, labels-vector of labels for Y\n",
      " |  \n",
      " |  compute_measures(self)\n",
      " |      Compute performance measures defined by Flach p. 57\n",
      " |  \n",
      " |  img_indices(self)\n",
      " |      Get the indices of true and false positives to be able to locate the corresponding images in a list of image names\n",
      " |  \n",
      " |  ----------------------------------------------------------------------\n",
      " |  Data descriptors defined here:\n",
      " |  \n",
      " |  __dict__\n",
      " |      dictionary for instance variables (if defined)\n",
      " |  \n",
      " |  __weakref__\n",
      " |      list of weak references to the object (if defined)\n",
      "\n"
     ]
    }
   ],
   "source": [
    "help(BinaryClassificationPerformance)"
   ]
  },
  {
   "cell_type": "markdown",
   "metadata": {},
   "source": [
    "### file paths and names"
   ]
  },
  {
   "cell_type": "code",
   "execution_count": 2,
   "metadata": {},
   "outputs": [],
   "source": [
    "# file paths\n",
    "ci_path = 'plane_data/cropped_images/'\n",
    "l_file = 'plane_data/plane_labels.csv'"
   ]
  },
  {
   "cell_type": "markdown",
   "metadata": {},
   "source": [
    "# Function for feature building and extraction on photographs¶\n",
    "\n",
    "scikit-image documentation on methods used for feature extraction:  \n",
    "\n",
    "* http://scikit-image.org/docs/dev/api/skimage.color.html#rgb2gray  \n",
    "* http://scikit-image.org/docs/dev/api/skimage.transform.html#skimage.transform.resize  \n",
    "* http://scikit-image.org/docs/stable/api/skimage.feature.html#skimage.feature.canny"
   ]
  },
  {
   "cell_type": "markdown",
   "metadata": {},
   "source": [
    "# function to process raw images, resulting in training and test datasets"
   ]
  },
  {
   "cell_type": "code",
   "execution_count": 3,
   "metadata": {},
   "outputs": [],
   "source": [
    "# function that takes raw images and completes all preprocessing required before model fits\n",
    "def process_raw_data(labels_fn, images_fp, my_random_seed, imview=False, test=False):\n",
    "    plane_data = pd.read_csv(labels_fn) # read in photograph labels\n",
    "#     print(\"First few lines of image labels: \")\n",
    "#     print(plane_data.head())\n",
    "#     print(\"Size of image label dataFrame: \")\n",
    "#     print(plane_data.shape)\n",
    "        \n",
    "    # construct lists for features, labels, and a crosswalk reference to image names\n",
    "    features_list = []\n",
    "    if (not test):\n",
    "        y_list = []\n",
    "    imnames_list = []\n",
    "\n",
    "    for index, row in plane_data.iterrows():\n",
    "        features_list.append(image_manipulation(row['img_name'], images_fp))\n",
    "        if (not test):\n",
    "            y_list.append(row['plane'])\n",
    "        imnames_list.append(row['img_name'])\n",
    "    \n",
    "    # convert the lists to ndarrays\n",
    "    features = np.asarray(features_list)\n",
    "    if (not test):\n",
    "        Y = np.asarray(y_list)\n",
    "    imgs = np.asarray(imnames_list)\n",
    "#     print('Shape of original feature representation: ')\n",
    "#     print(features.shape)\n",
    "\n",
    "    # flatten the images ndarray to one row per image\n",
    "    features_flat = features.reshape((features.shape[0], -1))\n",
    "\n",
    "#     print('Shape of flat feature representation: ')\n",
    "#     print(features_flat.shape)\n",
    "\n",
    "    if (not test):\n",
    "#         print('Shape of Y: ')\n",
    "#         print(Y.shape)\n",
    "\n",
    "#         print('Number of images with planes: ')\n",
    "#         print(Y.sum())\n",
    "    \n",
    "        # create train and test sets\n",
    "        data_train, data_test, y_train, y_test, imgs_train, imgs_test = train_test_split(features_flat, \n",
    "            Y, imgs, test_size = 0.25, random_state = my_random_seed)\n",
    "\n",
    "#         print('Shape of training set: ')\n",
    "#         print(y_train.shape)\n",
    "#         print('Number of training images that contain an airplane: ')\n",
    "#         print(y_train.sum())\n",
    "\n",
    "#         print('Shape of test set: ')\n",
    "#         print(y_test.shape)\n",
    "#         print('Number of test images that contain an airplane: ')\n",
    "#         print(y_test.sum())\n",
    "    \n",
    "    if (test):\n",
    "        X_submission_test = features_flat\n",
    "#         print(\"Shape of X_test for submission:\")\n",
    "#         print(X_submission_test.shape)\n",
    "#         print('SUCCESS!')\n",
    "        return(X_submission_test, plane_data)\n",
    "    else: \n",
    "#         print(\"Shape of data_train and data_test:\")\n",
    "#         print(data_train.shape)\n",
    "#         print(data_test.shape)\n",
    "#         print(\"Shape of y_train and y_test:\")\n",
    "#         print(y_train.shape)\n",
    "#         print(y_test.shape)\n",
    "#         print(\"Shape of imgs_train and imgs_test:\")\n",
    "#         print(imgs_train.shape)\n",
    "#         print(imgs_test.shape)\n",
    "#         print('SUCCESS!')\n",
    "        return(data_train, data_test, y_train, y_test, imgs_train, imgs_test)\n"
   ]
  },
  {
   "cell_type": "markdown",
   "metadata": {},
   "source": [
    "## Image Transformation using Canny Edge Detector"
   ]
  },
  {
   "cell_type": "code",
   "execution_count": 7,
   "metadata": {},
   "outputs": [
    {
     "name": "stdout",
     "output_type": "stream",
     "text": [
      "TRAINING SET: \n",
      "{'Pos': 80, 'Neg': 4988, 'TP': 80, 'TN': 4988, 'FP': 0, 'FN': 0, 'Accuracy': 1.0, 'Precision': 1.0, 'Recall': 1.0, 'desc': 'nn1', 'set': 'train'}\n",
      "TEST SET: \n",
      "{'Pos': 21, 'Neg': 1669, 'TP': 12, 'TN': 1669, 'FP': 0, 'FN': 9, 'Accuracy': 0.9946745562130177, 'Precision': 1.0, 'Recall': 0.5714285714285714, 'desc': 'nn1', 'set': 'test'}\n",
      "* * * * *\n",
      "TRAINING SET: \n",
      "{'Pos': 80, 'Neg': 4988, 'TP': 80, 'TN': 4988, 'FP': 0, 'FN': 0, 'Accuracy': 1.0, 'Precision': 1.0, 'Recall': 1.0, 'desc': 'nn1.15', 'set': 'train'}\n",
      "TEST SET: \n",
      "{'Pos': 21, 'Neg': 1669, 'TP': 13, 'TN': 1668, 'FP': 1, 'FN': 8, 'Accuracy': 0.9946745562130177, 'Precision': 0.9285714285714286, 'Recall': 0.6190476190476191, 'desc': 'nn1.15', 'set': 'test'}\n",
      "* * * * *\n",
      "TRAINING SET: \n",
      "{'Pos': 80, 'Neg': 4988, 'TP': 80, 'TN': 4988, 'FP': 0, 'FN': 0, 'Accuracy': 1.0, 'Precision': 1.0, 'Recall': 1.0, 'desc': 'nn1.2', 'set': 'train'}\n",
      "TEST SET: \n",
      "{'Pos': 21, 'Neg': 1669, 'TP': 11, 'TN': 1668, 'FP': 1, 'FN': 10, 'Accuracy': 0.993491124260355, 'Precision': 0.9166666666666666, 'Recall': 0.5238095238095238, 'desc': 'nn1.2', 'set': 'test'}\n",
      "* * * * *\n",
      "TRAINING SET: \n",
      "{'Pos': 80, 'Neg': 4988, 'TP': 80, 'TN': 4988, 'FP': 0, 'FN': 0, 'Accuracy': 1.0, 'Precision': 1.0, 'Recall': 1.0, 'desc': 'nn1.25', 'set': 'train'}\n",
      "TEST SET: \n",
      "{'Pos': 21, 'Neg': 1669, 'TP': 12, 'TN': 1668, 'FP': 1, 'FN': 9, 'Accuracy': 0.9940828402366864, 'Precision': 0.9230769230769231, 'Recall': 0.5714285714285714, 'desc': 'nn1.25', 'set': 'test'}\n",
      "* * * * *\n",
      "TRAINING SET: \n",
      "{'Pos': 80, 'Neg': 4988, 'TP': 80, 'TN': 4988, 'FP': 0, 'FN': 0, 'Accuracy': 1.0, 'Precision': 1.0, 'Recall': 1.0, 'desc': 'nn1.35', 'set': 'train'}\n",
      "TEST SET: \n",
      "{'Pos': 21, 'Neg': 1669, 'TP': 12, 'TN': 1669, 'FP': 0, 'FN': 9, 'Accuracy': 0.9946745562130177, 'Precision': 1.0, 'Recall': 0.5714285714285714, 'desc': 'nn1.35', 'set': 'test'}\n",
      "* * * * *\n"
     ]
    }
   ],
   "source": [
    "# Set dimension to (15, 35)\n",
    "\n",
    "from sklearn import neural_network\n",
    "\n",
    "dims = (15,35)\n",
    "\n",
    "# set dfs \n",
    "nn = {}\n",
    "nn_performance = {}\n",
    "nn_performance_test = {}\n",
    "nn_img_indices_to_view = {}\n",
    "\n",
    "# set sigmas\n",
    "\n",
    "sigmas = (1, 1.15, 1.2, 1.25, 1.35)\n",
    "\n",
    "for i in range(5): \n",
    "\n",
    "    def image_manipulation(imname, imgs_path, imview=False):\n",
    "        warnings.filterwarnings('ignore')\n",
    "        imname = imgs_path + imname + '.png'\n",
    "        img_raw = io.imread(imname, as_gray=True)\n",
    "        downscaled = transform.resize(img_raw, (dims[0], dims[1])) # downscale image\n",
    "        final_image = feature.canny(downscaled, sigma=sigmas[i]) # edge filter image with Canny algorithm\n",
    "        if imview==True:\n",
    "            io.imshow(final_image)\n",
    "        warnings.filterwarnings('always')\n",
    "        return final_image\n",
    "\n",
    "    # Process and split train/test data\n",
    "    data_train, data_test, y_train, y_test, imgs_train, imgs_test = process_raw_data(l_file, ci_path, \n",
    "        my_random_seed=99, imview=False, test=False)\n",
    "\n",
    "    # Apply Neural Network Models for train/test\n",
    "    nn[i] = neural_network.MLPClassifier(max_iter=1000)\n",
    "    nn[i].fit(data_train, y_train)\n",
    "\n",
    "    nn_performance[i] = BinaryClassificationPerformance(nn[i].predict(data_train), y_train, ('nn'+str(sigmas[i])))\n",
    "    nn_performance[i].compute_measures()\n",
    "    nn_performance[i].performance_measures['set'] = 'train'\n",
    "    print('TRAINING SET: ')\n",
    "    print(nn_performance[i].performance_measures)\n",
    "\n",
    "    nn_performance_test[i] = BinaryClassificationPerformance(nn[i].predict(data_test), y_test, ('nn'+str(sigmas[i])))\n",
    "    nn_performance_test[i].compute_measures()\n",
    "    nn_performance_test[i].performance_measures['set'] = 'test'\n",
    "    print('TEST SET: ')\n",
    "    print(nn_performance_test[i].performance_measures)\n",
    "    \n",
    "    print('* * * * *')\n",
    "\n",
    "    nn_performance_test[i].img_indices()\n",
    "    nn_img_indices_to_view[i] = nn_performance_test[i].image_indices"
   ]
  },
  {
   "cell_type": "markdown",
   "metadata": {},
   "source": [
    "## Image transformation using Histogram of oriented gradients (HOG)"
   ]
  },
  {
   "cell_type": "code",
   "execution_count": 15,
   "metadata": {},
   "outputs": [
    {
     "name": "stdout",
     "output_type": "stream",
     "text": [
      "TRAINING SET: \n",
      "{'Pos': 80, 'Neg': 4988, 'TP': 80, 'TN': 4988, 'FP': 0, 'FN': 0, 'Accuracy': 1.0, 'Precision': 1.0, 'Recall': 1.0, 'desc': 'hog[0]', 'set': 'train'}\n",
      "TEST SET: \n",
      "{'Pos': 21, 'Neg': 1669, 'TP': 19, 'TN': 1669, 'FP': 0, 'FN': 2, 'Accuracy': 0.9988165680473373, 'Precision': 1.0, 'Recall': 0.9047619047619048, 'desc': 'hog[0]', 'set': 'test'}\n",
      "* * * * *\n"
     ]
    }
   ],
   "source": [
    "# modules \n",
    "from sklearn import neural_network\n",
    "from skimage.feature import hog\n",
    "\n",
    "# set dfs \n",
    "nnh = {}\n",
    "nnh_performance = {}\n",
    "nnh_performance_test = {}\n",
    "nnh_img_indices_to_view = {}\n",
    "\n",
    "for i in range(1): \n",
    "\n",
    "    def image_manipulation(imname, imgs_path, imview=False):\n",
    "        warnings.filterwarnings('ignore')\n",
    "        imname = imgs_path + imname + '.png'\n",
    "        img_raw = io.imread(imname, as_gray=True)\n",
    "        downscaled = transform.resize(img_raw, (dims[0], dims[1])) # downscale image\n",
    "        fd, hog_image = hog(img_raw, orientations=8, pixels_per_cell=(10, 10),\n",
    "                      cells_per_block=(2, 2), visualize=True) \n",
    "        final_image = np.array([hog_image])\n",
    "        if imview==True:\n",
    "            io.imshow(final_image)\n",
    "        warnings.filterwarnings('always')\n",
    "        return final_image\n",
    "\n",
    "    # Process and split train/test data\n",
    "    data_train, data_test, y_train, y_test, imgs_train, imgs_test = process_raw_data(l_file, ci_path, \n",
    "        my_random_seed=99, imview=False, test=False)\n",
    "\n",
    "    # Apply Neural Network Models for train/test\n",
    "    nnh[i] = neural_network.MLPClassifier(max_iter=1000)\n",
    "    nnh[i].fit(data_train, y_train)\n",
    "\n",
    "    nnh_performance[i] = BinaryClassificationPerformance(nnh[i].predict(data_train), y_train, ('hog'+str([i])))\n",
    "    nnh_performance[i].compute_measures()\n",
    "    nnh_performance[i].performance_measures['set'] = 'train'\n",
    "    print('TRAINING SET: ')\n",
    "    print(nnh_performance[i].performance_measures)\n",
    "\n",
    "    nnh_performance_test[i] = BinaryClassificationPerformance(nnh[i].predict(data_test), y_test, ('hog'+str([i])))\n",
    "    nnh_performance_test[i].compute_measures()\n",
    "    nnh_performance_test[i].performance_measures['set'] = 'test'\n",
    "    print('TEST SET: ')\n",
    "    print(nnh_performance_test[i].performance_measures)\n",
    "    \n",
    "    print('* * * * *')\n",
    "\n",
    "    nnh_performance_test[i].img_indices()\n",
    "    nnh_img_indices_to_view[i] = nnh_performance_test[i].image_indices"
   ]
  },
  {
   "cell_type": "markdown",
   "metadata": {},
   "source": [
    "## Performance Plots"
   ]
  },
  {
   "cell_type": "code",
   "execution_count": 16,
   "metadata": {},
   "outputs": [
    {
     "data": {
      "image/png": "[encoded data removed]",
      "text/plain": [
       "<Figure size 720x720 with 1 Axes>"
      ]
     },
     "metadata": {},
     "output_type": "display_data"
    }
   ],
   "source": [
    "# HOG Performance Plot \n",
    "final_fits = []\n",
    "\n",
    "for i in range(5):\n",
    "    final_fits.append(nn_performance[i].performance_measures)\n",
    "    final_fits.append(nn_performance_test[i].performance_measures)\n",
    "\n",
    "final_fits.append(nnh_performance[0].performance_measures)\n",
    "final_fits.append(nnh_performance_test[0].performance_measures)\n",
    "\n",
    "# show figure \n",
    "\n",
    "plt.figure(figsize=(10,10))\n",
    "plt.style.use('fivethirtyeight')\n",
    "plt.style.use('ggplot')\n",
    "\n",
    "for fit in final_fits:\n",
    "    if fit['set'] == 'train':\n",
    "        color = 'co'\n",
    "    else:\n",
    "        color = 'ro'\n",
    "    plt.plot(fit['FP'] / fit['Neg'], \n",
    "             fit['TP'] / fit['Pos'], color, markersize=12)\n",
    "    plt.text(fit['FP'] / fit['Neg'], \n",
    "             fit['TP'] / fit['Pos'], fit['desc'] + ': ' + fit['set'], fontsize=16)\n",
    "plt.axis([0,1,0,1])\n",
    "plt.title('ROC plot: Train and Test Sets by Canny/HOG')\n",
    "plt.xlabel('False positive rate')\n",
    "plt.ylabel('True positive rate')\n",
    "plt.show()"
   ]
  },
  {
   "cell_type": "code",
   "execution_count": 17,
   "metadata": {},
   "outputs": [
    {
     "data": {
      "text/plain": [
       "Text(0.5, 1.0, 'Compare True Positive Rates for Test Set')"
      ]
     },
     "execution_count": 17,
     "metadata": {},
     "output_type": "execute_result"
    },
    {
     "data": {
      "image/png": "[encoded data removed]",
      "text/plain": [
       "<Figure size 576x576 with 1 Axes>"
      ]
     },
     "metadata": {},
     "output_type": "display_data"
    }
   ],
   "source": [
    "plt.figure(figsize=(8,8))\n",
    "\n",
    "for i in range(5):\n",
    "    plt.barh(nn_performance_test[i].performance_measures['desc'], \n",
    "            nn_performance_test[i].performance_measures['TP']/nn_performance_test[i].performance_measures['Pos'], \n",
    "             color='steelblue')\n",
    "\n",
    "plt.barh(nnh_performance_test[0].performance_measures['desc'], \n",
    "         nnh_performance_test[0].performance_measures['TP']/nn_performance_test[i].performance_measures['Pos'], \n",
    "         color='tab:red')\n",
    "    \n",
    "plt.title('Compare True Positive Rates for Test Set')"
   ]
  },
  {
   "cell_type": "markdown",
   "metadata": {},
   "source": [
    "---\n",
    "\n",
    "# Summary of work and performance  \n",
    "\n",
    "I made feature alterations to the images using the Canny Edge Detector and Histogram of Oriented Gradients (HOG) methods in scikit learn.\n",
    "\n",
    "**Canny Edge Detector**: With Canny, I tested a number of different sigma values altering the Gaussian filter. The final work used five different sigma values of \"1, 1.15, 1.2, 1.25, 1.35\" to find the best performance alteration. In all cases, the train set performances were 100%. However, the test set performance ranged from around **0.45 to 0.62 for the True Positive Rates**. The best performance was with the **Sigma set at 1.15**. The performance didn't improve even when changing the dimension size for the rescaling or significantly increasing or decreasing the sigma values. There seems to be some limits to the test set TP performance.  \n",
    "\n",
    "**HOG transformation**: I only tested one variation for the HOG method with parameters set at \"hog(img_raw, orientations=8, pixels_per_cell=(10, 10), cells_per_block=(2, 2), visualize=True).\" The HOG resulted in 100% for the train set and also a high performance of 0 false positive rate and a **0.9 true positive rate**. This seems to suggest potential of optimizing and using HOG for future iterations. \n",
    "\n"
   ]
  }
 ],
 "metadata": {
  "kernelspec": {
   "display_name": "Python 3",
   "language": "python",
   "name": "python3"
  },
  "language_info": {
   "codemirror_mode": {
    "name": "ipython",
    "version": 3
   },
   "file_extension": ".py",
   "mimetype": "text/x-python",
   "name": "python",
   "nbconvert_exporter": "python",
   "pygments_lexer": "ipython3",
   "version": "3.8.3"
  }
 },
 "nbformat": 4,
 "nbformat_minor": 2
}
